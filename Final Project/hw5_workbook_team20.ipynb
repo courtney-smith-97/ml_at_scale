{
 "cells": [
  {
   "cell_type": "markdown",
   "metadata": {
    "application/vnd.databricks.v1+cell": {
     "inputWidgets": {},
     "nuid": "cbf797c6-e2b8-4064-830b-1d2415c35c20",
     "showTitle": false,
     "title": ""
    }
   },
   "source": [
    "# PLEASE CLONE THIS NOTEBOOK INTO YOUR PERSONAL FOLDER\n",
    "# DO NOT RUN CODE IN THE SHARED FOLDER"
   ]
  },
  {
   "cell_type": "markdown",
   "metadata": {
    "application/vnd.databricks.v1+cell": {
     "inputWidgets": {},
     "nuid": "0effe584-e230-4946-9fce-0bdf57057870",
     "showTitle": false,
     "title": ""
    }
   },
   "source": [
    "# HW 5 - Page Rank\n",
    "__`MIDS w261: Machine Learning at Scale | UC Berkeley School of Information | Fall 2018`__\n",
    "\n",
    "In Weeks 8 and 9 you discussed key concepts related to graph based algorithms and implemented SSSP.   \n",
    "In this final homework assignment you'll implement distributed PageRank using some data from Wikipedia.\n",
    "By the end of this homework you should be able to:  \n",
    "* ... __compare/contrast__ adjacency matrices and lists as representations of graphs for parallel computation.\n",
    "* ... __explain__ the goal of the PageRank algorithm using the concept of an infinite Random Walk.\n",
    "* ... __define__ a Markov chain including the conditions underwhich it will converge.\n",
    "* ... __identify__ what modifications must be made to the web graph inorder to leverage Markov Chains.\n",
    "* ... __implement__ distributed PageRank in Spark.\n",
    "\n",
    "__Please refer to the `README` for homework submission instructions and additional resources.__"
   ]
  },
  {
   "cell_type": "markdown",
   "metadata": {
    "application/vnd.databricks.v1+cell": {
     "inputWidgets": {},
     "nuid": "99aff6fd-b33f-4eea-b749-a2e30693264e",
     "showTitle": false,
     "title": ""
    }
   },
   "source": [
    "# Notebook Set-Up\n",
    "Before starting your homework run the following cells to confirm your setup."
   ]
  },
  {
   "cell_type": "code",
   "execution_count": 0,
   "metadata": {
    "application/vnd.databricks.v1+cell": {
     "inputWidgets": {},
     "nuid": "89354c55-d1bc-42ef-96d4-1d2174defce5",
     "showTitle": false,
     "title": ""
    }
   },
   "outputs": [
    {
     "data": {
      "text/html": [
       "<style scoped>\n",
       "  .ansiout {\n",
       "    display: block;\n",
       "    unicode-bidi: embed;\n",
       "    white-space: pre-wrap;\n",
       "    word-wrap: break-word;\n",
       "    word-break: break-all;\n",
       "    font-family: \"Source Code Pro\", \"Menlo\", monospace;;\n",
       "    font-size: 13px;\n",
       "    color: #555;\n",
       "    margin-left: 4px;\n",
       "    line-height: 19px;\n",
       "  }\n",
       "</style>\n",
       "<div class=\"ansiout\">Python interpreter will be restarted.\n",
       "Requirement already satisfied: networkx in /databricks/python3/lib/python3.8/site-packages (2.7.1)\n",
       "WARNING: You are using pip version 21.0.1; however, version 22.0.4 is available.\n",
       "You should consider upgrading via the &#39;/local_disk0/.ephemeral_nfs/envs/pythonEnv-7be1d760-1076-44a2-bdeb-874fe294727f/bin/python -m pip install --upgrade pip&#39; command.\n",
       "Python interpreter will be restarted.\n",
       "</div>"
      ]
     },
     "metadata": {
      "application/vnd.databricks.v1+output": {
       "addedWidgets": {},
       "arguments": {},
       "data": "<div class=\"ansiout\">Python interpreter will be restarted.\nRequirement already satisfied: networkx in /databricks/python3/lib/python3.8/site-packages (2.7.1)\nWARNING: You are using pip version 21.0.1; however, version 22.0.4 is available.\nYou should consider upgrading via the &#39;/local_disk0/.ephemeral_nfs/envs/pythonEnv-7be1d760-1076-44a2-bdeb-874fe294727f/bin/python -m pip install --upgrade pip&#39; command.\nPython interpreter will be restarted.\n</div>",
       "datasetInfos": [],
       "metadata": {},
       "removedWidgets": [],
       "type": "html"
      }
     },
     "output_type": "display_data"
    }
   ],
   "source": [
    "pip install networkx #DELETE THIS CELL BEFORE SUBMITTING. NEED TO RUN THIS EACH TIME THE CLUSTER IS SPUN UP"
   ]
  },
  {
   "cell_type": "code",
   "execution_count": 0,
   "metadata": {
    "application/vnd.databricks.v1+cell": {
     "inputWidgets": {},
     "nuid": "c7b1a2bf-d888-4ea4-8e26-bef39212cd9b",
     "showTitle": false,
     "title": ""
    }
   },
   "outputs": [
    {
     "data": {
      "text/html": [
       "<style scoped>\n",
       "  .ansiout {\n",
       "    display: block;\n",
       "    unicode-bidi: embed;\n",
       "    white-space: pre-wrap;\n",
       "    word-wrap: break-word;\n",
       "    word-break: break-all;\n",
       "    font-family: \"Source Code Pro\", \"Menlo\", monospace;;\n",
       "    font-size: 13px;\n",
       "    color: #555;\n",
       "    margin-left: 4px;\n",
       "    line-height: 19px;\n",
       "  }\n",
       "</style>\n",
       "<div class=\"ansiout\"></div>"
      ]
     },
     "metadata": {
      "application/vnd.databricks.v1+output": {
       "addedWidgets": {},
       "arguments": {},
       "data": "<div class=\"ansiout\"></div>",
       "datasetInfos": [],
       "metadata": {},
       "removedWidgets": [],
       "type": "html"
      }
     },
     "output_type": "display_data"
    }
   ],
   "source": [
    "# imports\n",
    "import re\n",
    "import ast\n",
    "import time\n",
    "import numpy as np\n",
    "import pandas as pd\n",
    "import seaborn as sns\n",
    "import networkx as nx\n",
    "import matplotlib.pyplot as plt"
   ]
  },
  {
   "cell_type": "code",
   "execution_count": 0,
   "metadata": {
    "application/vnd.databricks.v1+cell": {
     "inputWidgets": {},
     "nuid": "cffab456-6504-446a-a593-3880401b2b72",
     "showTitle": false,
     "title": ""
    }
   },
   "outputs": [
    {
     "data": {
      "text/html": [
       "<style scoped>\n",
       "  .ansiout {\n",
       "    display: block;\n",
       "    unicode-bidi: embed;\n",
       "    white-space: pre-wrap;\n",
       "    word-wrap: break-word;\n",
       "    word-break: break-all;\n",
       "    font-family: \"Source Code Pro\", \"Menlo\", monospace;;\n",
       "    font-size: 13px;\n",
       "    color: #555;\n",
       "    margin-left: 4px;\n",
       "    line-height: 19px;\n",
       "  }\n",
       "</style>\n",
       "<div class=\"ansiout\">Out[2]: 4751198766</div>"
      ]
     },
     "metadata": {
      "application/vnd.databricks.v1+output": {
       "addedWidgets": {},
       "arguments": {},
       "data": "<div class=\"ansiout\">Out[2]: 4751198766</div>",
       "datasetInfos": [],
       "metadata": {},
       "removedWidgets": [],
       "type": "html"
      }
     },
     "output_type": "display_data"
    }
   ],
   "source": [
    "# RUN THIS CELL AS IS. \n",
    "tot = 0\n",
    "DATA_PATH = 'dbfs:/mnt/mids-w261/HW5/'\n",
    "for item in dbutils.fs.ls(DATA_PATH):\n",
    "  tot = tot+item.size\n",
    "tot\n",
    "# ~4.7GB"
   ]
  },
  {
   "cell_type": "code",
   "execution_count": 0,
   "metadata": {
    "application/vnd.databricks.v1+cell": {
     "inputWidgets": {},
     "nuid": "752a5aae-3896-497e-868a-c2a3df6151e1",
     "showTitle": false,
     "title": ""
    }
   },
   "outputs": [
    {
     "data": {
      "text/html": [
       "<style scoped>\n",
       "  .table-result-container {\n",
       "    max-height: 300px;\n",
       "    overflow: auto;\n",
       "  }\n",
       "  table, th, td {\n",
       "    border: 1px solid black;\n",
       "    border-collapse: collapse;\n",
       "  }\n",
       "  th, td {\n",
       "    padding: 5px;\n",
       "  }\n",
       "  th {\n",
       "    text-align: left;\n",
       "  }\n",
       "</style><div class='table-result-container'><table class='table-result'><thead style='background-color: white'><tr><th>path</th><th>name</th><th>size</th></tr></thead><tbody><tr><td>dbfs:/mnt/mids-w261/HW5/all-pages-indexed-in.txt</td><td>all-pages-indexed-in.txt</td><td>2143300687</td></tr><tr><td>dbfs:/mnt/mids-w261/HW5/all-pages-indexed-out.txt</td><td>all-pages-indexed-out.txt</td><td>2090459616</td></tr><tr><td>dbfs:/mnt/mids-w261/HW5/indices.txt</td><td>indices.txt</td><td>517438296</td></tr><tr><td>dbfs:/mnt/mids-w261/HW5/test_graph.txt</td><td>test_graph.txt</td><td>167</td></tr></tbody></table></div>"
      ]
     },
     "metadata": {
      "application/vnd.databricks.v1+output": {
       "addedWidgets": {},
       "aggData": [],
       "aggError": "",
       "aggOverflow": false,
       "aggSchema": [],
       "aggSeriesLimitReached": false,
       "aggType": "",
       "arguments": {},
       "columnCustomDisplayInfos": {},
       "data": [
        [
         "dbfs:/mnt/mids-w261/HW5/all-pages-indexed-in.txt",
         "all-pages-indexed-in.txt",
         2143300687
        ],
        [
         "dbfs:/mnt/mids-w261/HW5/all-pages-indexed-out.txt",
         "all-pages-indexed-out.txt",
         2090459616
        ],
        [
         "dbfs:/mnt/mids-w261/HW5/indices.txt",
         "indices.txt",
         517438296
        ],
        [
         "dbfs:/mnt/mids-w261/HW5/test_graph.txt",
         "test_graph.txt",
         167
        ]
       ],
       "datasetInfos": [],
       "dbfsResultPath": null,
       "isJsonSchema": true,
       "metadata": {},
       "overflow": false,
       "plotOptions": {
        "customPlotOptions": {},
        "displayType": "table",
        "pivotAggregation": null,
        "pivotColumns": [],
        "xColumns": [],
        "yColumns": []
       },
       "removedWidgets": [],
       "schema": [
        {
         "metadata": "{}",
         "name": "path",
         "type": "\"string\""
        },
        {
         "metadata": "{}",
         "name": "name",
         "type": "\"string\""
        },
        {
         "metadata": "{}",
         "name": "size",
         "type": "\"long\""
        }
       ],
       "type": "table"
      }
     },
     "output_type": "display_data"
    }
   ],
   "source": [
    "# RUN THIS CELL AS IS. You should see all-pages-indexed-in.txt, all-pages-indexed-out.txt and indices.txt in the results. If you do not see these, please let an Instructor or TA know.\n",
    "display(dbutils.fs.ls(DATA_PATH))"
   ]
  },
  {
   "cell_type": "code",
   "execution_count": 0,
   "metadata": {
    "application/vnd.databricks.v1+cell": {
     "inputWidgets": {},
     "nuid": "5ce05cf4-4c22-4a4d-87fa-dba08c17e221",
     "showTitle": false,
     "title": ""
    }
   },
   "outputs": [
    {
     "data": {
      "text/html": [
       "<style scoped>\n",
       "  .ansiout {\n",
       "    display: block;\n",
       "    unicode-bidi: embed;\n",
       "    white-space: pre-wrap;\n",
       "    word-wrap: break-word;\n",
       "    word-break: break-all;\n",
       "    font-family: \"Source Code Pro\", \"Menlo\", monospace;;\n",
       "    font-size: 13px;\n",
       "    color: #555;\n",
       "    margin-left: 4px;\n",
       "    line-height: 19px;\n",
       "  }\n",
       "</style>\n",
       "<div class=\"ansiout\">Out[3]: </div>"
      ]
     },
     "metadata": {
      "application/vnd.databricks.v1+output": {
       "addedWidgets": {},
       "arguments": {},
       "data": "<div class=\"ansiout\">Out[3]: </div>",
       "datasetInfos": [],
       "metadata": {},
       "removedWidgets": [],
       "type": "html"
      }
     },
     "output_type": "display_data"
    },
    {
     "data": {
      "text/html": [
       "\n",
       "            <div>\n",
       "                <p><b>SparkSession - hive</b></p>\n",
       "                \n",
       "        <div>\n",
       "            <p><b>SparkContext</b></p>\n",
       "\n",
       "            <p><a href=\"/?o=731998097721284#setting/sparkui/0303-034356-dd2xwi4g/driver-2658491691363279283\">Spark UI</a></p>\n",
       "\n",
       "            <dl>\n",
       "              <dt>Version</dt>\n",
       "                <dd><code>v3.1.2</code></dd>\n",
       "              <dt>Master</dt>\n",
       "                <dd><code>spark://10.139.64.21:7077</code></dd>\n",
       "              <dt>AppName</dt>\n",
       "                <dd><code>Databricks Shell</code></dd>\n",
       "            </dl>\n",
       "        </div>\n",
       "        \n",
       "            </div>\n",
       "        "
      ]
     },
     "metadata": {
      "application/vnd.databricks.v1+output": {
       "addedWidgets": {},
       "arguments": {},
       "data": "\n            <div>\n                <p><b>SparkSession - hive</b></p>\n                \n        <div>\n            <p><b>SparkContext</b></p>\n\n            <p><a href=\"/?o=731998097721284#setting/sparkui/0303-034356-dd2xwi4g/driver-2658491691363279283\">Spark UI</a></p>\n\n            <dl>\n              <dt>Version</dt>\n                <dd><code>v3.1.2</code></dd>\n              <dt>Master</dt>\n                <dd><code>spark://10.139.64.21:7077</code></dd>\n              <dt>AppName</dt>\n                <dd><code>Databricks Shell</code></dd>\n            </dl>\n        </div>\n        \n            </div>\n        ",
       "datasetInfos": [],
       "metadata": {},
       "removedWidgets": [],
       "textData": null,
       "type": "htmlSandbox"
      }
     },
     "output_type": "display_data"
    }
   ],
   "source": [
    "sc = spark.sparkContext\n",
    "spark"
   ]
  },
  {
   "cell_type": "markdown",
   "metadata": {
    "application/vnd.databricks.v1+cell": {
     "inputWidgets": {},
     "nuid": "e775bbc8-f83c-405f-859e-70dc52994def",
     "showTitle": false,
     "title": ""
    }
   },
   "source": [
    "# Question 1: Distributed Graph Processing\n",
    "Chapter 5 from Lin & Dyer gave you a high level introduction to graph algorithms and concernts that come up when trying to perform distributed computations over them. The questions below are designed to make sure you captured the key points from this reading and your async lectures. \n",
    "\n",
    "### Q1 Tasks:\n",
    "\n",
    "* __a) short response:__ Give an example of a dataset that would be appropriate to represent as a graph. What are the nodes/edges in this dataset? Is the graph you describe 'directed' or 'undirected'? What would the average \"in-degree\" of a node mean in the context of your example? \n",
    "\n",
    "* __b) short response:__ Other than their size/scale, what makes graphs uniquely challenging to work with in the map-reduce paradigm? *(__HINT__: Do not respond in terms of any specific algorithm. Think in terms of the nature of the graph datastructure itself).*\n",
    "\n",
    "* __c) short response:__ Briefly describe Dijskra's algorithm (goal/approach). What specific design component makes this approach hard to parallelize?\n",
    "\n",
    "* __d) short response:__ How does parallel breadth-first-search get around the problem that you identified in part `c`? At what expense?"
   ]
  },
  {
   "cell_type": "markdown",
   "metadata": {
    "application/vnd.databricks.v1+cell": {
     "inputWidgets": {},
     "nuid": "5ddf575d-c9d8-4228-bd60-9300256ec27d",
     "showTitle": false,
     "title": ""
    }
   },
   "source": [
    "### Q1 Student Answers:\n",
    "> __a)__ A subway system could be represented as a directed graph. The nodes would be the stations and the edges would be the trains that run between those stations. The average \"in-degree\" of a node would be the average number of trains arriving at each station.\n",
    "\n",
    "> __b)__ The graph data structure is interconnected and difficult to partition because information on neighboring nodes is needed, and most graph processing algorithms are iterative and not well-suited for map-reduce. \n",
    "\n",
    "> __c)__ The goal of Dijkstra's algorithm is to find the shortest paths between nodes in a graph. It is difficult to parallelize because the approach is sequential, visiting nodes by traversing a priority queue sorted by distance and outputting the optimal path node by node.   \n",
    "\n",
    "> __d)__ The parallel breadth-first search approach finds all vertices reachable in \\\\(n\\\\) steps on the \\\\(n\\\\)th iteration, until each vertex has been reached. This approach doesn't use the priority queue and the benefit from parallelization is limited."
   ]
  },
  {
   "cell_type": "markdown",
   "metadata": {
    "application/vnd.databricks.v1+cell": {
     "inputWidgets": {},
     "nuid": "8fb300e8-c47d-4887-9d62-5b05e809d477",
     "showTitle": false,
     "title": ""
    }
   },
   "source": [
    "# Question 2: Representing Graphs \n",
    "\n",
    "In class you saw examples of adjacency matrix and adjacency list representations of graphs. These data structures were probably familiar from HW3, though we hadn't before talked about them in the context of graphs. In this question we'll discuss some of the tradeoffs associated with these representations. __`NOTE:`__ We'll use the graph from Figure 5.1 in Lin & Dyer as a toy example. For convenience in the code below we'll label the nodes `A`, `B`, `C`, `D`, and `E` instead of $n_1$, $n_2$, etc but otherwise you should be able to follow along & check our answers against those in the text.\n",
    "\n",
    "\n",
    "<img src=\"https://github.com/kyleiwaniec/w261_assets/blob/master/images/HW5/Lin-Dyer-graph-Q1.png?raw=true\" width=50%>\n",
    "\n",
    "### Q2 Tasks:\n",
    "\n",
    "* __a) short response:__ Relatively speaking, is the graph you described in Figure 5.1 in Lin & Dyer \"sparse\" or \"dense\"?  Explain how sparsity/density impacts the adjacency matrix and adjacency list representations of a graph.\n",
    "\n",
    "* __b) short response:__ Run the provided code to create and plot our toy graph. Is this graph directed or undirected? Explain how the adjacency matrices for directed graphs will differ from those of undirected graphs.\n",
    "\n",
    "* __c) code:__ Fill in the missing code to complete the function `get_adj_matr()`.\n",
    "\n",
    "* __d) code:__ Fill in the missing code to complete the function `get_adj_list()`."
   ]
  },
  {
   "cell_type": "markdown",
   "metadata": {
    "application/vnd.databricks.v1+cell": {
     "inputWidgets": {},
     "nuid": "6fc2815b-9e04-4a6b-9957-87c0eb28a6ea",
     "showTitle": false,
     "title": ""
    }
   },
   "source": [
    "### Q2 Student Answers:\n",
    "> __a)__ It's sparse, since the majority of the values are 0. Sparsity means that our matrix effectively holds unnecessary information (zeros), and it leads to computational complexity/inefficiency at scale. The adjacency list helps alleviate this issue by allowing us to store only the necessary data (the ones in the matrix).\n",
    "\n",
    "> __b)__ This graph is directed. In the case of an undirected graph, the adjacency matrix will be symmetrical. We can take Figure 5.1 above as an example, specifically the edge connecting node n_1 to node n_2. In this case, since the graph is directed, we set [row n_1, column n_2] equal to 1, but we set [row n_2, column n_1] equal to 0. If the graph were undirected, both would equal 1."
   ]
  },
  {
   "cell_type": "code",
   "execution_count": 0,
   "metadata": {
    "application/vnd.databricks.v1+cell": {
     "inputWidgets": {},
     "nuid": "a94415c2-c114-4dda-81a8-8af826b03a91",
     "showTitle": false,
     "title": ""
    }
   },
   "outputs": [
    {
     "data": {
      "text/html": [
       "<style scoped>\n",
       "  .ansiout {\n",
       "    display: block;\n",
       "    unicode-bidi: embed;\n",
       "    white-space: pre-wrap;\n",
       "    word-wrap: break-word;\n",
       "    word-break: break-all;\n",
       "    font-family: \"Source Code Pro\", \"Menlo\", monospace;;\n",
       "    font-size: 13px;\n",
       "    color: #555;\n",
       "    margin-left: 4px;\n",
       "    line-height: 19px;\n",
       "  }\n",
       "</style>\n",
       "<div class=\"ansiout\"></div>"
      ]
     },
     "metadata": {
      "application/vnd.databricks.v1+output": {
       "addedWidgets": {},
       "arguments": {},
       "data": "<div class=\"ansiout\"></div>",
       "datasetInfos": [],
       "metadata": {},
       "removedWidgets": [],
       "type": "html"
      }
     },
     "output_type": "display_data"
    }
   ],
   "source": [
    "# part a - a graph is just a list of nodes and edges (RUN THIS CELL AS IS)\n",
    "TOY_GRAPH = {'nodes':['A', 'B', 'C', 'D', 'E'],\n",
    "             'edges':[('A', 'B'), ('A', 'D'), ('B', 'C'), ('B', 'E'), ('C', 'D'), \n",
    "                      ('D', 'E'), ('E', 'A'),('E', 'B'), ('E', 'C')]}"
   ]
  },
  {
   "cell_type": "code",
   "execution_count": 0,
   "metadata": {
    "application/vnd.databricks.v1+cell": {
     "inputWidgets": {},
     "nuid": "e1f57952-e6d0-4db1-ae0c-c29afabc334f",
     "showTitle": false,
     "title": ""
    }
   },
   "outputs": [
    {
     "data": {
      "image/png": "[encoded data removed]"
     },
     "metadata": {
      "application/vnd.databricks.v1+output": {
       "addedWidgets": {},
       "arguments": {},
       "data": "data:image/png;base64,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",
       "datasetInfos": [],
       "metadata": {
        "imageDimensions": {
         "height": 302,
         "width": 446
        }
       },
       "removedWidgets": [],
       "type": "image"
      },
      "image/png": {
       "height": 302,
       "width": 446
      }
     },
     "output_type": "display_data"
    }
   ],
   "source": [
    "# part a - simple visualization of our toy graph using nx (RUN THIS CELL AS IS)\n",
    "G = nx.DiGraph()\n",
    "G.add_nodes_from(TOY_GRAPH['nodes'])\n",
    "G.add_edges_from(TOY_GRAPH['edges'])\n",
    "display(nx.draw(G, pos=nx.circular_layout(G), with_labels=True, alpha = 0.5))"
   ]
  },
  {
   "cell_type": "code",
   "execution_count": 0,
   "metadata": {
    "application/vnd.databricks.v1+cell": {
     "inputWidgets": {},
     "nuid": "71f8e273-1fef-4f41-8252-8b4b712e8489",
     "showTitle": false,
     "title": ""
    }
   },
   "outputs": [
    {
     "data": {
      "text/html": [
       "<style scoped>\n",
       "  .ansiout {\n",
       "    display: block;\n",
       "    unicode-bidi: embed;\n",
       "    white-space: pre-wrap;\n",
       "    word-wrap: break-word;\n",
       "    word-break: break-all;\n",
       "    font-family: \"Source Code Pro\", \"Menlo\", monospace;;\n",
       "    font-size: 13px;\n",
       "    color: #555;\n",
       "    margin-left: 4px;\n",
       "    line-height: 19px;\n",
       "  }\n",
       "</style>\n",
       "<div class=\"ansiout\"></div>"
      ]
     },
     "metadata": {
      "application/vnd.databricks.v1+output": {
       "addedWidgets": {},
       "arguments": {},
       "data": "<div class=\"ansiout\"></div>",
       "datasetInfos": [],
       "metadata": {},
       "removedWidgets": [],
       "type": "html"
      }
     },
     "output_type": "display_data"
    }
   ],
   "source": [
    "# part c - adjacency matrix function\n",
    "def get_adj_matr(graph):\n",
    "    \"\"\"\n",
    "    Function to create an adjacency matrix representation of a graph.\n",
    "    arg:\n",
    "        graph - (dict) of 'nodes' : [], 'edges' : []\n",
    "    returns:\n",
    "        pd.DataFrame with entry i,j representing an edge from node i to node j\n",
    "    \"\"\"\n",
    "    n = len(graph['nodes'])\n",
    "    adj_matr = pd.DataFrame(0, columns = graph['nodes'], index = graph['nodes'])\n",
    "    ############### YOUR CODE HERE ##################\n",
    "    #Hassan : is there a faster way to do this by implementing n?\n",
    "    for node1, node2 in graph['edges']: adj_matr[node2][node1] =1          \n",
    "    ############### (END) YOUR CODE #################\n",
    "    return adj_matr"
   ]
  },
  {
   "cell_type": "code",
   "execution_count": 0,
   "metadata": {
    "application/vnd.databricks.v1+cell": {
     "inputWidgets": {},
     "nuid": "a1c6db84-d4df-4835-9a7f-185f7d3d1231",
     "showTitle": false,
     "title": ""
    }
   },
   "outputs": [
    {
     "data": {
      "text/html": [
       "<style scoped>\n",
       "  .ansiout {\n",
       "    display: block;\n",
       "    unicode-bidi: embed;\n",
       "    white-space: pre-wrap;\n",
       "    word-wrap: break-word;\n",
       "    word-break: break-all;\n",
       "    font-family: \"Source Code Pro\", \"Menlo\", monospace;;\n",
       "    font-size: 13px;\n",
       "    color: #555;\n",
       "    margin-left: 4px;\n",
       "    line-height: 19px;\n",
       "  }\n",
       "</style>\n",
       "<div class=\"ansiout\">   A  B  C  D  E\n",
       "A  0  1  0  1  0\n",
       "B  0  0  1  0  1\n",
       "C  0  0  0  1  0\n",
       "D  0  0  0  0  1\n",
       "E  1  1  1  0  0\n",
       "</div>"
      ]
     },
     "metadata": {
      "application/vnd.databricks.v1+output": {
       "addedWidgets": {},
       "arguments": {},
       "data": "<div class=\"ansiout\">   A  B  C  D  E\nA  0  1  0  1  0\nB  0  0  1  0  1\nC  0  0  0  1  0\nD  0  0  0  0  1\nE  1  1  1  0  0\n</div>",
       "datasetInfos": [],
       "metadata": {},
       "removedWidgets": [],
       "type": "html"
      }
     },
     "output_type": "display_data"
    }
   ],
   "source": [
    "# part c - take a look (RUN THIS CELL AS IS)\n",
    "TOY_ADJ_MATR = get_adj_matr(TOY_GRAPH)\n",
    "print(TOY_ADJ_MATR)"
   ]
  },
  {
   "cell_type": "code",
   "execution_count": 0,
   "metadata": {
    "application/vnd.databricks.v1+cell": {
     "inputWidgets": {},
     "nuid": "1164091e-45c2-49b3-9231-279881ab8a55",
     "showTitle": false,
     "title": ""
    }
   },
   "outputs": [
    {
     "data": {
      "text/html": [
       "<style scoped>\n",
       "  .ansiout {\n",
       "    display: block;\n",
       "    unicode-bidi: embed;\n",
       "    white-space: pre-wrap;\n",
       "    word-wrap: break-word;\n",
       "    word-break: break-all;\n",
       "    font-family: \"Source Code Pro\", \"Menlo\", monospace;;\n",
       "    font-size: 13px;\n",
       "    color: #555;\n",
       "    margin-left: 4px;\n",
       "    line-height: 19px;\n",
       "  }\n",
       "</style>\n",
       "<div class=\"ansiout\"></div>"
      ]
     },
     "metadata": {
      "application/vnd.databricks.v1+output": {
       "addedWidgets": {},
       "arguments": {},
       "data": "<div class=\"ansiout\"></div>",
       "datasetInfos": [],
       "metadata": {},
       "removedWidgets": [],
       "type": "html"
      }
     },
     "output_type": "display_data"
    }
   ],
   "source": [
    "# part d - adjacency list function\n",
    "def get_adj_list(graph):\n",
    "    \"\"\"\n",
    "    Function to create an adjacency list representation of a graph.\n",
    "    arg:\n",
    "        graph - (dict) of 'nodes' : [], 'edges' : []\n",
    "    returns:\n",
    "        dictionary of the form {node : [list of edges]}\n",
    "    \"\"\"\n",
    "    adj_list = {node: [] for node in graph['nodes']}\n",
    "    ############### YOUR CODE HERE ##################\n",
    "    for node in graph['nodes']:\n",
    "       adj_list[node] = [endpoints[1] for endpoints in graph['edges'] if endpoints[0]==node]\n",
    "    ############### (END) YOUR CODE #################\n",
    "    return adj_list"
   ]
  },
  {
   "cell_type": "code",
   "execution_count": 0,
   "metadata": {
    "application/vnd.databricks.v1+cell": {
     "inputWidgets": {},
     "nuid": "5562cd99-8ea7-4c8f-b85b-0823abc46bbf",
     "showTitle": false,
     "title": ""
    }
   },
   "outputs": [
    {
     "data": {
      "text/html": [
       "<style scoped>\n",
       "  .ansiout {\n",
       "    display: block;\n",
       "    unicode-bidi: embed;\n",
       "    white-space: pre-wrap;\n",
       "    word-wrap: break-word;\n",
       "    word-break: break-all;\n",
       "    font-family: \"Source Code Pro\", \"Menlo\", monospace;;\n",
       "    font-size: 13px;\n",
       "    color: #555;\n",
       "    margin-left: 4px;\n",
       "    line-height: 19px;\n",
       "  }\n",
       "</style>\n",
       "<div class=\"ansiout\">{&#39;A&#39;: [&#39;B&#39;, &#39;D&#39;], &#39;B&#39;: [&#39;C&#39;, &#39;E&#39;], &#39;C&#39;: [&#39;D&#39;], &#39;D&#39;: [&#39;E&#39;], &#39;E&#39;: [&#39;A&#39;, &#39;B&#39;, &#39;C&#39;]}\n",
       "</div>"
      ]
     },
     "metadata": {
      "application/vnd.databricks.v1+output": {
       "addedWidgets": {},
       "arguments": {},
       "data": "<div class=\"ansiout\">{&#39;A&#39;: [&#39;B&#39;, &#39;D&#39;], &#39;B&#39;: [&#39;C&#39;, &#39;E&#39;], &#39;C&#39;: [&#39;D&#39;], &#39;D&#39;: [&#39;E&#39;], &#39;E&#39;: [&#39;A&#39;, &#39;B&#39;, &#39;C&#39;]}\n</div>",
       "datasetInfos": [],
       "metadata": {},
       "removedWidgets": [],
       "type": "html"
      }
     },
     "output_type": "display_data"
    }
   ],
   "source": [
    "# part d - take a look (RUN THIS CELL AS IS)\n",
    "TOY_ADJ_LIST = get_adj_list(TOY_GRAPH)\n",
    "print(TOY_ADJ_LIST)"
   ]
  },
  {
   "cell_type": "markdown",
   "metadata": {
    "application/vnd.databricks.v1+cell": {
     "inputWidgets": {},
     "nuid": "2ce119d6-90ca-4141-9650-80e822f08219",
     "showTitle": false,
     "title": ""
    }
   },
   "source": [
    "# Question 3: Markov Chains and Random Walks\n",
    "\n",
    "As you know from your readings and in class discussions, the PageRank algorithm takes advantage of the machinery of Markov Chains to compute the relative importance of a webpage using the hyperlink structure of the web (we'll refer to this as the 'web-graph'). A Markov Chain is a discrete-time stochastic process. The stochastic matrix has a principal left eigen vector corresponding to its largest eigen value which is one. A Markov chain's probability distribution over its states may be viewed as a probability vector. This steady state probability for a state is the PageRank of the corresponding webpage. In this question we'll briefly discuss a few concepts that are key to understanding the math behind PageRank. \n",
    "\n",
    "### Q3 Tasks:\n",
    "\n",
    "* __a) short response:__ It is common to explain PageRank using the analogy of a web surfer who clicks on links at random ad infinitum. In the context of this hypothetical infinite random walk, what does the PageRank metric measure/represent?\n",
    "\n",
    "* __b) short response:__ What is the \"Markov Property\" and what does it mean in the context of PageRank?\n",
    "\n",
    "* __c) short response:__ A Markov chain consists of $n$ states plus an $n\\times n$ transition probability matrix. In the context of PageRank & a random walk over the WebGraph what are the $n$ states? what implications does this have about the size of the transition matrix?\n",
    "\n",
    "* __d) code + short response:__ What is a \"right stochastic matrix\"? Fill in the code below to compute the transition matrix for the toy graph from question 2. [__`HINT:`__ _It should be right stochastic. Using numpy this calculation can be done in one line of code._]\n",
    "\n",
    "* __e) code + short response:__ To compute the stable state distribution (i.e. PageRank) of a \"nice\" graph we can apply the power iteration method - repeatedly multiplying the transition matrix by itself, until the values no longer change. Apply this strategy to your transition matrix from `part d` to find the PageRank for each of the pages in your toy graph. Your code should print the results of each iteration. How many iterations does it take to converge? Which node is most 'central' (i.e. highest ranked)? Does this match your intuition? \n",
    "    * __`NOTE 1:`__ _this is a naive approach, we'll unpack what it means to be \"nice\" in the next question_.\n",
    "    * __`NOTE 2:`__ _no need to implement a stopping criteria, visual inspection should suffice_."
   ]
  },
  {
   "cell_type": "markdown",
   "metadata": {
    "application/vnd.databricks.v1+cell": {
     "inputWidgets": {},
     "nuid": "623cad88-8151-446e-9e72-ca4fae7964b8",
     "showTitle": false,
     "title": ""
    }
   },
   "source": [
    "### Q3 Student Answers:\n",
    "> __a)__ In the context of the hypothetical infinite random walk of the web surfer, the PageRank metric represents the proportion of time spent at a specific node. It is a probability distribution over all the nodes in a graph.\n",
    "\n",
    "> __b)__ A system with the Markov Property is memoryless. When transitioning from one state to another, the transition does not depend on previous states (i.e., the transition probability distribution for the next states depend only on the current state). \n",
    "\n",
    "> __c)__ In the context of PageRank and a random walk over the WebGraph, each web page is one of the \\\\(n\\\\) states, where \\\\(n\\\\) is the total number of web pages. The \\\\(n\\times n \\\\) transition matrix shows the probability of moving from web page \\\\(i\\\\) at time \\\\(t\\\\) to web page \\\\(j\\\\) at time \\\\(t+1\\\\) for all states \\\\(i,j\\\\) in \\\\(n\\\\). In this example, the transition matrix is very large given that there are so many web pages in existence.\n",
    "\n",
    "> __d)__ A \"right stochastic matrix\" is a real, square matrix with all positive values and with rows summing up to 1. \n",
    "\n",
    "> __e)__ It takes just 5 iterations to reach the steady state distribution. Node E has the highest ranking. This intuitively makes sense because all cycles in the graph include E. From any node except E, there is no way to return to the node without going through E first."
   ]
  },
  {
   "cell_type": "code",
   "execution_count": 0,
   "metadata": {
    "application/vnd.databricks.v1+cell": {
     "inputWidgets": {},
     "nuid": "80fde4aa-f1b3-4a1b-a1d9-fcc54a1191d6",
     "showTitle": false,
     "title": ""
    }
   },
   "outputs": [
    {
     "data": {
      "text/html": [
       "<style scoped>\n",
       "  .ansiout {\n",
       "    display: block;\n",
       "    unicode-bidi: embed;\n",
       "    white-space: pre-wrap;\n",
       "    word-wrap: break-word;\n",
       "    word-break: break-all;\n",
       "    font-family: \"Source Code Pro\", \"Menlo\", monospace;;\n",
       "    font-size: 13px;\n",
       "    color: #555;\n",
       "    margin-left: 4px;\n",
       "    line-height: 19px;\n",
       "  }\n",
       "</style>\n",
       "<div class=\"ansiout\">Out[14]: </div>"
      ]
     },
     "metadata": {
      "application/vnd.databricks.v1+output": {
       "addedWidgets": {},
       "arguments": {},
       "data": "<div class=\"ansiout\">Out[14]: </div>",
       "datasetInfos": [],
       "metadata": {},
       "removedWidgets": [],
       "type": "html"
      }
     },
     "output_type": "display_data"
    },
    {
     "data": {
      "text/html": [
       "<div>\n",
       "<style scoped>\n",
       "    .dataframe tbody tr th:only-of-type {\n",
       "        vertical-align: middle;\n",
       "    }\n",
       "\n",
       "    .dataframe tbody tr th {\n",
       "        vertical-align: top;\n",
       "    }\n",
       "\n",
       "    .dataframe thead th {\n",
       "        text-align: right;\n",
       "    }\n",
       "</style>\n",
       "<table border=\"1\" class=\"dataframe\">\n",
       "  <thead>\n",
       "    <tr style=\"text-align: right;\">\n",
       "      <th></th>\n",
       "      <th>A</th>\n",
       "      <th>B</th>\n",
       "      <th>C</th>\n",
       "      <th>D</th>\n",
       "      <th>E</th>\n",
       "    </tr>\n",
       "  </thead>\n",
       "  <tbody>\n",
       "    <tr>\n",
       "      <th>A</th>\n",
       "      <td>0</td>\n",
       "      <td>1</td>\n",
       "      <td>0</td>\n",
       "      <td>1</td>\n",
       "      <td>0</td>\n",
       "    </tr>\n",
       "    <tr>\n",
       "      <th>B</th>\n",
       "      <td>0</td>\n",
       "      <td>0</td>\n",
       "      <td>1</td>\n",
       "      <td>0</td>\n",
       "      <td>1</td>\n",
       "    </tr>\n",
       "    <tr>\n",
       "      <th>C</th>\n",
       "      <td>0</td>\n",
       "      <td>0</td>\n",
       "      <td>0</td>\n",
       "      <td>1</td>\n",
       "      <td>0</td>\n",
       "    </tr>\n",
       "    <tr>\n",
       "      <th>D</th>\n",
       "      <td>0</td>\n",
       "      <td>0</td>\n",
       "      <td>0</td>\n",
       "      <td>0</td>\n",
       "      <td>1</td>\n",
       "    </tr>\n",
       "    <tr>\n",
       "      <th>E</th>\n",
       "      <td>1</td>\n",
       "      <td>1</td>\n",
       "      <td>1</td>\n",
       "      <td>0</td>\n",
       "      <td>0</td>\n",
       "    </tr>\n",
       "  </tbody>\n",
       "</table>\n",
       "</div>"
      ]
     },
     "metadata": {
      "application/vnd.databricks.v1+output": {
       "addedWidgets": {},
       "arguments": {},
       "data": "<div>\n<style scoped>\n    .dataframe tbody tr th:only-of-type {\n        vertical-align: middle;\n    }\n\n    .dataframe tbody tr th {\n        vertical-align: top;\n    }\n\n    .dataframe thead th {\n        text-align: right;\n    }\n</style>\n<table border=\"1\" class=\"dataframe\">\n  <thead>\n    <tr style=\"text-align: right;\">\n      <th></th>\n      <th>A</th>\n      <th>B</th>\n      <th>C</th>\n      <th>D</th>\n      <th>E</th>\n    </tr>\n  </thead>\n  <tbody>\n    <tr>\n      <th>A</th>\n      <td>0</td>\n      <td>1</td>\n      <td>0</td>\n      <td>1</td>\n      <td>0</td>\n    </tr>\n    <tr>\n      <th>B</th>\n      <td>0</td>\n      <td>0</td>\n      <td>1</td>\n      <td>0</td>\n      <td>1</td>\n    </tr>\n    <tr>\n      <th>C</th>\n      <td>0</td>\n      <td>0</td>\n      <td>0</td>\n      <td>1</td>\n      <td>0</td>\n    </tr>\n    <tr>\n      <th>D</th>\n      <td>0</td>\n      <td>0</td>\n      <td>0</td>\n      <td>0</td>\n      <td>1</td>\n    </tr>\n    <tr>\n      <th>E</th>\n      <td>1</td>\n      <td>1</td>\n      <td>1</td>\n      <td>0</td>\n      <td>0</td>\n    </tr>\n  </tbody>\n</table>\n</div>",
       "datasetInfos": [],
       "metadata": {},
       "removedWidgets": [],
       "textData": null,
       "type": "htmlSandbox"
      }
     },
     "output_type": "display_data"
    }
   ],
   "source": [
    "# part d - recall what the adjacency matrix looked like (RUN THIS CELL AS IS)\n",
    "TOY_ADJ_MATR"
   ]
  },
  {
   "cell_type": "code",
   "execution_count": 0,
   "metadata": {
    "application/vnd.databricks.v1+cell": {
     "inputWidgets": {},
     "nuid": "f6d8ab39-e515-4d2e-98ae-9fea71832725",
     "showTitle": false,
     "title": ""
    }
   },
   "outputs": [
    {
     "data": {
      "text/html": [
       "<style scoped>\n",
       "  .ansiout {\n",
       "    display: block;\n",
       "    unicode-bidi: embed;\n",
       "    white-space: pre-wrap;\n",
       "    word-wrap: break-word;\n",
       "    word-break: break-all;\n",
       "    font-family: \"Source Code Pro\", \"Menlo\", monospace;;\n",
       "    font-size: 13px;\n",
       "    color: #555;\n",
       "    margin-left: 4px;\n",
       "    line-height: 19px;\n",
       "  }\n",
       "</style>\n",
       "<div class=\"ansiout\">          A         B         C    D    E\n",
       "A  0.000000  0.500000  0.000000  0.5  0.0\n",
       "B  0.000000  0.000000  0.500000  0.0  0.5\n",
       "C  0.000000  0.000000  0.000000  1.0  0.0\n",
       "D  0.000000  0.000000  0.000000  0.0  1.0\n",
       "E  0.333333  0.333333  0.333333  0.0  0.0\n",
       "</div>"
      ]
     },
     "metadata": {
      "application/vnd.databricks.v1+output": {
       "addedWidgets": {},
       "arguments": {},
       "data": "<div class=\"ansiout\">          A         B         C    D    E\nA  0.000000  0.500000  0.000000  0.5  0.0\nB  0.000000  0.000000  0.500000  0.0  0.5\nC  0.000000  0.000000  0.000000  1.0  0.0\nD  0.000000  0.000000  0.000000  0.0  1.0\nE  0.333333  0.333333  0.333333  0.0  0.0\n</div>",
       "datasetInfos": [],
       "metadata": {},
       "removedWidgets": [],
       "type": "html"
      }
     },
     "output_type": "display_data"
    }
   ],
   "source": [
    "# part d - use TOY_ADJ_MATR to create a right stochastic transition matrix for this graph\n",
    "################ YOUR CODE HERE #################\n",
    "transition_matrix = TOY_ADJ_MATR.apply(lambda arr: arr/arr.sum(), axis = 1)\n",
    "\n",
    "################ (END) YOUR CODE #################\n",
    "print(transition_matrix)"
   ]
  },
  {
   "cell_type": "code",
   "execution_count": 0,
   "metadata": {
    "application/vnd.databricks.v1+cell": {
     "inputWidgets": {},
     "nuid": "a73ea3d8-9aaf-4f15-9ca6-25d0a3922842",
     "showTitle": false,
     "title": ""
    }
   },
   "outputs": [
    {
     "data": {
      "text/html": [
       "<style scoped>\n",
       "  .ansiout {\n",
       "    display: block;\n",
       "    unicode-bidi: embed;\n",
       "    white-space: pre-wrap;\n",
       "    word-wrap: break-word;\n",
       "    word-break: break-all;\n",
       "    font-family: \"Source Code Pro\", \"Menlo\", monospace;;\n",
       "    font-size: 13px;\n",
       "    color: #555;\n",
       "    margin-left: 4px;\n",
       "    line-height: 19px;\n",
       "  }\n",
       "</style>\n",
       "<div class=\"ansiout\"></div>"
      ]
     },
     "metadata": {
      "application/vnd.databricks.v1+output": {
       "addedWidgets": {},
       "arguments": {},
       "data": "<div class=\"ansiout\"></div>",
       "datasetInfos": [],
       "metadata": {},
       "removedWidgets": [],
       "type": "html"
      }
     },
     "output_type": "display_data"
    }
   ],
   "source": [
    "# part e - compute the steady state using the transition matrix \n",
    "def power_iteration(xInit, tMatrix, nIter, verbose = True):\n",
    "    \"\"\"\n",
    "    Function to perform the specified number of power iteration steps to \n",
    "    compute the steady state probability distribution for the given\n",
    "    transition matrix.\n",
    "    \n",
    "    Args:\n",
    "        xInit     - (n x 1 array) representing initial state\n",
    "        tMatrix  - (n x n array) transition probabilities\n",
    "        nIter     - (int) number of iterations\n",
    "    Returns:\n",
    "        state_vector - (n x 1 array) representing probability \n",
    "                        distribution over states after nSteps.\n",
    "    \n",
    "    NOTE: if the 'verbose' flag is on, your function should print the step\n",
    "    number and the current matrix at each iteration.\n",
    "    \"\"\"\n",
    "    state_vector = None\n",
    "    ################ YOUR CODE HERE #################\n",
    "    state_vector = xInit\n",
    "    \n",
    "    for i in range(nIter):\n",
    "        tMatrix = np.linalg.matrix_power(tMatrix, i+1)\n",
    "        state_vector = state_vector.dot(tMatrix)\n",
    "        if verbose:\n",
    "#             print(f'Step {i+1}\\nCurrent Matrix:\\n{tMatrix.round(2)}') #do we have to print the transition matrix or the vector at each iteration?\n",
    "            print(f'Step {i+1}\\nCurrent Distribution: {state_vector}') \n",
    "            print('------')\n",
    "\n",
    "    ################ (END) YOUR CODE #################\n",
    "    return state_vector"
   ]
  },
  {
   "cell_type": "code",
   "execution_count": 0,
   "metadata": {
    "application/vnd.databricks.v1+cell": {
     "inputWidgets": {},
     "nuid": "777c40dd-04dd-4aa7-8f93-e2f9c2a4250b",
     "showTitle": false,
     "title": ""
    }
   },
   "outputs": [
    {
     "data": {
      "text/html": [
       "<style scoped>\n",
       "  .ansiout {\n",
       "    display: block;\n",
       "    unicode-bidi: embed;\n",
       "    white-space: pre-wrap;\n",
       "    word-wrap: break-word;\n",
       "    word-break: break-all;\n",
       "    font-family: \"Source Code Pro\", \"Menlo\", monospace;;\n",
       "    font-size: 13px;\n",
       "    color: #555;\n",
       "    margin-left: 4px;\n",
       "    line-height: 19px;\n",
       "  }\n",
       "</style>\n",
       "<div class=\"ansiout\">Step 1\n",
       "Current Distribution: [0.  0.5 0.  0.5 0. ]\n",
       "------\n",
       "Step 2\n",
       "Current Distribution: [0.25 0.25 0.25 0.25 0.  ]\n",
       "------\n",
       "Step 3\n",
       "Current Distribution: [0.11631944 0.17534722 0.19097222 0.24479167 0.27256944]\n",
       "------\n",
       "Step 4\n",
       "Current Distribution: [0.10526143 0.15789472 0.18421006 0.23684522 0.31578857]\n",
       "------\n",
       "Step 5\n",
       "Current Distribution: [0.10526316 0.15789474 0.18421053 0.23684211 0.31578947]\n",
       "------\n",
       "Step 6\n",
       "Current Distribution: [0.10526316 0.15789474 0.18421053 0.23684211 0.31578947]\n",
       "------\n",
       "Step 7\n",
       "Current Distribution: [0.10526316 0.15789474 0.18421053 0.23684211 0.31578947]\n",
       "------\n",
       "Step 8\n",
       "Current Distribution: [0.10526316 0.15789474 0.18421053 0.23684211 0.31578947]\n",
       "------\n",
       "Step 9\n",
       "Current Distribution: [0.10526316 0.15789474 0.18421053 0.23684211 0.31578947]\n",
       "------\n",
       "Step 10\n",
       "Current Distribution: [0.10526316 0.15789474 0.18421053 0.23684211 0.31578947]\n",
       "------\n",
       "</div>"
      ]
     },
     "metadata": {
      "application/vnd.databricks.v1+output": {
       "addedWidgets": {},
       "arguments": {},
       "data": "<div class=\"ansiout\">Step 1\nCurrent Distribution: [0.  0.5 0.  0.5 0. ]\n------\nStep 2\nCurrent Distribution: [0.25 0.25 0.25 0.25 0.  ]\n------\nStep 3\nCurrent Distribution: [0.11631944 0.17534722 0.19097222 0.24479167 0.27256944]\n------\nStep 4\nCurrent Distribution: [0.10526143 0.15789472 0.18421006 0.23684522 0.31578857]\n------\nStep 5\nCurrent Distribution: [0.10526316 0.15789474 0.18421053 0.23684211 0.31578947]\n------\nStep 6\nCurrent Distribution: [0.10526316 0.15789474 0.18421053 0.23684211 0.31578947]\n------\nStep 7\nCurrent Distribution: [0.10526316 0.15789474 0.18421053 0.23684211 0.31578947]\n------\nStep 8\nCurrent Distribution: [0.10526316 0.15789474 0.18421053 0.23684211 0.31578947]\n------\nStep 9\nCurrent Distribution: [0.10526316 0.15789474 0.18421053 0.23684211 0.31578947]\n------\nStep 10\nCurrent Distribution: [0.10526316 0.15789474 0.18421053 0.23684211 0.31578947]\n------\n</div>",
       "datasetInfos": [],
       "metadata": {},
       "removedWidgets": [],
       "type": "html"
      }
     },
     "output_type": "display_data"
    }
   ],
   "source": [
    "# part e - run 10 steps of the power_iteration (RUN THIS CELL AS IS)\n",
    "xInit = np.array([1.0, 0, 0, 0, 0]) # note that this initial state will not affect the convergence states\n",
    "states = power_iteration(xInit, transition_matrix, 10, verbose = True)"
   ]
  },
  {
   "cell_type": "markdown",
   "metadata": {
    "application/vnd.databricks.v1+cell": {
     "inputWidgets": {},
     "nuid": "c54df499-3d1a-44c0-82c9-f191110ccca1",
     "showTitle": false,
     "title": ""
    }
   },
   "source": [
    "__`Expected Output for part e:`__  \n",
    ">Steady State Probabilities:\n",
    "```\n",
    "Node A: 0.10526316  \n",
    "Node B: 0.15789474  \n",
    "Node C: 0.18421053  \n",
    "Node D: 0.23684211  \n",
    "Node E: 0.31578947  \n",
    "```"
   ]
  },
  {
   "cell_type": "markdown",
   "metadata": {
    "application/vnd.databricks.v1+cell": {
     "inputWidgets": {},
     "nuid": "fd830dc8-5ae2-440e-a539-1b91ca91b349",
     "showTitle": false,
     "title": ""
    }
   },
   "source": [
    "# Question 4: Page Rank Theory\n",
    "\n",
    "Seems easy right? Unfortunately applying this power iteration method directly to the web-graph actually runs into a few problems. In this question we'll tease apart what we meant by a 'nice graph' in Question 3 and highlight key modifications we'll have to make to the web-graph when performing PageRank. To start, we'll look at what goes wrong when we try to repeat our strategy from question 3 on a 'not nice' graph.\n",
    "\n",
    "__`Additional References:`__ http://pi.math.cornell.edu/~mec/Winter2009/RalucaRemus/Lecture3/lecture3.html\n",
    "\n",
    "### Q4 Tasks:\n",
    "\n",
    "* __a) code + short response:__ Run the provided code to create and plot our 'not nice' graph. Fill in the missing code to compute its transition matrix & run the power iteration method from question 3. What is wrong with what you see? [__`HINT:`__ _there is a visible underlying reason that it isn't converging... try adding up the probabilities in the state vector after each iteration._]\n",
    "\n",
    "* __b) short response:__  Identify the dangling node in this 'not nice' graph and explain how this node causes the problem you described in 'a'. How could we modify the transition matrix after each iteration to prevent this problem?\n",
    "\n",
    "* __c) short response:__ What does it mean for a graph to be irreducible? Is the webgraph naturally irreducible? Explain your reasoning briefly.\n",
    "\n",
    "* __d) short response:__ What does it mean for a graph to be aperiodic? Is the webgraph naturally aperiodic? Explain your reasoning briefly.\n",
    "\n",
    "* __e) short response:__ What modification to the webgraph does PageRank make in order to guarantee aperiodicity and irreducibility? Interpret this modification in terms of our random surfer analogy."
   ]
  },
  {
   "cell_type": "markdown",
   "metadata": {
    "application/vnd.databricks.v1+cell": {
     "inputWidgets": {},
     "nuid": "ca551e99-dca0-4218-95c8-0cfb05052d14",
     "showTitle": false,
     "title": ""
    }
   },
   "source": [
    "### Q4 Student Answers:\n",
    "> __a)__ After the first iteration, the rows of the transition matrix no longer sum to 1 so the matrix won't converge to a steady state.\n",
    "\n",
    "> __b)__ Node E is the dangling node. Node E is a dead end, which means that there is 0 probability of moving to any other node from E so the row vector associated with node E in our transition matrix is all zeroes. To prevent this convergence problem, after each iteration we could modify the transition matrix by dividing the elements in each row by the sum of the elements in the row to convert the matrix to a right stochastic matrix (see example code below part a).  \n",
    "\n",
    "> __c)__ An irreducible graph has a path with non-zero probability from every node to every other node. There are dead end webpages so the webgraph is not naturally irreducible.\n",
    "\n",
    "> __d)__ An aperiodic graph does not have nodes with cycles of a set length. In other words, the path from a node back to itself is not always the same sequential path -- visiting a node at time \\\\(t\\\\) does not guarantee visiting at \\\\(t+k, t+2k,...\\\\) and so on. \n",
    "\n",
    "> __e)__ To guarantee aperiodicity and irreducibility, PageRank adds a teleportation parameter. In terms of our random surfer analogy, if the surfer hit a dead end web page, they would be transported at random for their next step. There is a chance of teleportation at non-dead end nodes as well. This allows PageRank to reach a steady state probability distribution."
   ]
  },
  {
   "cell_type": "code",
   "execution_count": 0,
   "metadata": {
    "application/vnd.databricks.v1+cell": {
     "inputWidgets": {},
     "nuid": "081abf9a-afad-41d8-907d-3d9517ea64bb",
     "showTitle": false,
     "title": ""
    }
   },
   "outputs": [
    {
     "data": {
      "text/html": [
       "<style scoped>\n",
       "  .ansiout {\n",
       "    display: block;\n",
       "    unicode-bidi: embed;\n",
       "    white-space: pre-wrap;\n",
       "    word-wrap: break-word;\n",
       "    word-break: break-all;\n",
       "    font-family: \"Source Code Pro\", \"Menlo\", monospace;;\n",
       "    font-size: 13px;\n",
       "    color: #555;\n",
       "    margin-left: 4px;\n",
       "    line-height: 19px;\n",
       "  }\n",
       "</style>\n",
       "<div class=\"ansiout\"></div>"
      ]
     },
     "metadata": {
      "application/vnd.databricks.v1+output": {
       "addedWidgets": {},
       "arguments": {},
       "data": "<div class=\"ansiout\"></div>",
       "datasetInfos": [],
       "metadata": {},
       "removedWidgets": [],
       "type": "html"
      }
     },
     "output_type": "display_data"
    }
   ],
   "source": [
    "# part a - run this code to create a second toy graph (RUN THIS CELL AS IS)\n",
    "TOY2_GRAPH = {'nodes':['A', 'B', 'C', 'D', 'E'],\n",
    "              'edges':[('A', 'B'), ('A', 'C'), ('A', 'D'), ('B', 'D'), \n",
    "                       ('B', 'E'), ('C', 'A'), ('C', 'E'), ('D', 'B')]}"
   ]
  },
  {
   "cell_type": "code",
   "execution_count": 0,
   "metadata": {
    "application/vnd.databricks.v1+cell": {
     "inputWidgets": {},
     "nuid": "e269296e-bc39-49d6-9b9b-61207fe00ec9",
     "showTitle": false,
     "title": ""
    }
   },
   "outputs": [
    {
     "data": {
      "image/png": "[encoded data removed]"
     },
     "metadata": {
      "application/vnd.databricks.v1+output": {
       "addedWidgets": {},
       "arguments": {},
       "data": "data:image/png;base64,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",
       "datasetInfos": [],
       "metadata": {
        "imageDimensions": {
         "height": 302,
         "width": 446
        }
       },
       "removedWidgets": [],
       "type": "image"
      },
      "image/png": {
       "height": 302,
       "width": 446
      }
     },
     "output_type": "display_data"
    }
   ],
   "source": [
    "# part a - simple visualization of our test graph using nx (RUN THIS CELL AS IS)\n",
    "G = nx.DiGraph()\n",
    "G.add_nodes_from(TOY2_GRAPH['nodes'])\n",
    "G.add_edges_from(TOY2_GRAPH['edges'])\n",
    "display(nx.draw(G, pos=nx.circular_layout(G), with_labels=True, alpha = 0.5))"
   ]
  },
  {
   "cell_type": "code",
   "execution_count": 0,
   "metadata": {
    "application/vnd.databricks.v1+cell": {
     "inputWidgets": {},
     "nuid": "7c765136-bfff-4150-babb-2c7a4d5e6956",
     "showTitle": false,
     "title": ""
    }
   },
   "outputs": [
    {
     "data": {
      "text/html": [
       "<style scoped>\n",
       "  .ansiout {\n",
       "    display: block;\n",
       "    unicode-bidi: embed;\n",
       "    white-space: pre-wrap;\n",
       "    word-wrap: break-word;\n",
       "    word-break: break-all;\n",
       "    font-family: \"Source Code Pro\", \"Menlo\", monospace;;\n",
       "    font-size: 13px;\n",
       "    color: #555;\n",
       "    margin-left: 4px;\n",
       "    line-height: 19px;\n",
       "  }\n",
       "</style>\n",
       "<div class=\"ansiout\">Step 1\n",
       "Current Distribution: [0.         0.33333333 0.33333333 0.33333333 0.        ]\n",
       "------\n",
       "Step 2\n",
       "Current Distribution: [0.         0.22222222 0.05555556 0.22222222 0.16666667]\n",
       "------\n",
       "Step 3\n",
       "Current Distribution: [0.        0.0311214 0.0002572 0.0311214 0.0308642]\n",
       "------\n",
       "Step 4\n",
       "Current Distribution: [0.00000000e+00 7.62939447e-06 1.18156805e-13 7.62939447e-06\n",
       " 7.62939435e-06]\n",
       "------\n",
       "Step 5\n",
       "Current Distribution: [0.00000000e+00 6.61744490e-24 2.41759593e-60 6.61744490e-24\n",
       " 6.61744490e-24]\n",
       "------\n",
       "Step 6\n",
       "Current Distribution: [0.00000000e+000 2.81768146e-132 0.00000000e+000 2.81768146e-132\n",
       " 2.81768146e-132]\n",
       "------\n",
       "Step 7\n",
       "Current Distribution: [0. 0. 0. 0. 0.]\n",
       "------\n",
       "Step 8\n",
       "Current Distribution: [0. 0. 0. 0. 0.]\n",
       "------\n",
       "Step 9\n",
       "Current Distribution: [0. 0. 0. 0. 0.]\n",
       "------\n",
       "Step 10\n",
       "Current Distribution: [0. 0. 0. 0. 0.]\n",
       "------\n",
       "</div>"
      ]
     },
     "metadata": {
      "application/vnd.databricks.v1+output": {
       "addedWidgets": {},
       "arguments": {},
       "data": "<div class=\"ansiout\">Step 1\nCurrent Distribution: [0.         0.33333333 0.33333333 0.33333333 0.        ]\n------\nStep 2\nCurrent Distribution: [0.         0.22222222 0.05555556 0.22222222 0.16666667]\n------\nStep 3\nCurrent Distribution: [0.        0.0311214 0.0002572 0.0311214 0.0308642]\n------\nStep 4\nCurrent Distribution: [0.00000000e+00 7.62939447e-06 1.18156805e-13 7.62939447e-06\n 7.62939435e-06]\n------\nStep 5\nCurrent Distribution: [0.00000000e+00 6.61744490e-24 2.41759593e-60 6.61744490e-24\n 6.61744490e-24]\n------\nStep 6\nCurrent Distribution: [0.00000000e+000 2.81768146e-132 0.00000000e+000 2.81768146e-132\n 2.81768146e-132]\n------\nStep 7\nCurrent Distribution: [0. 0. 0. 0. 0.]\n------\nStep 8\nCurrent Distribution: [0. 0. 0. 0. 0.]\n------\nStep 9\nCurrent Distribution: [0. 0. 0. 0. 0.]\n------\nStep 10\nCurrent Distribution: [0. 0. 0. 0. 0.]\n------\n</div>",
       "datasetInfos": [],
       "metadata": {},
       "removedWidgets": [],
       "type": "html"
      }
     },
     "output_type": "display_data"
    }
   ],
   "source": [
    "# part a - run 10 steps of the power iteration method here\n",
    "# HINT: feel free to use the functions get_adj_matr() and power_iteration() you wrote above\n",
    "################ YOUR CODE HERE #################\n",
    "TOY_ADJ_MATR2 = get_adj_matr(TOY2_GRAPH)\n",
    "transition_matrix2 = TOY_ADJ_MATR2.apply(lambda arr: arr/arr.sum(), axis = 1)\n",
    "#need this line to convert E to zeroes instead of NaN, otherwise power iteration won't work\n",
    "transition_matrix2 = np.where(transition_matrix2.isna(), 0, transition_matrix2)\n",
    "xInit = np.array([1.0, 0, 0, 0, 0]) \n",
    "states2 = power_iteration(xInit, transition_matrix2, 10, verbose = True)\n",
    "################ (END) YOUR CODE #################"
   ]
  },
  {
   "cell_type": "code",
   "execution_count": 0,
   "metadata": {
    "application/vnd.databricks.v1+cell": {
     "inputWidgets": {},
     "nuid": "3dbed75e-78fa-4628-ba54-49dd3923beba",
     "showTitle": false,
     "title": ""
    }
   },
   "outputs": [
    {
     "data": {
      "text/html": [
       "<style scoped>\n",
       "  .ansiout {\n",
       "    display: block;\n",
       "    unicode-bidi: embed;\n",
       "    white-space: pre-wrap;\n",
       "    word-wrap: break-word;\n",
       "    word-break: break-all;\n",
       "    font-family: \"Source Code Pro\", \"Menlo\", monospace;;\n",
       "    font-size: 13px;\n",
       "    color: #555;\n",
       "    margin-left: 4px;\n",
       "    line-height: 19px;\n",
       "  }\n",
       "</style>\n",
       "<div class=\"ansiout\">Step 1\n",
       "Current Distribution: [0.         0.33333333 0.33333333 0.33333333 0.        ]\n",
       "------\n",
       "Iteration: 1 Normalized: [0.         0.33333333 0.33333333 0.33333333 0.        ] Sum after normalizing: 1.0 \n",
       " -----------------------------------------------------\n",
       "Step 1\n",
       "Current Distribution: [0.16666667 0.33333333 0.         0.16666667 0.33333333]\n",
       "------\n",
       "Iteration: 2 Normalized: [0.16666667 0.33333333 0.         0.16666667 0.33333333] Sum after normalizing: 1.0 \n",
       " -----------------------------------------------------\n",
       "Step 1\n",
       "Current Distribution: [0.         0.22222222 0.05555556 0.22222222 0.16666667]\n",
       "------\n",
       "Iteration: 3 Normalized: [0.         0.33333333 0.08333333 0.33333333 0.25      ] Sum after normalizing: 1.0 \n",
       " -----------------------------------------------------\n",
       "Step 1\n",
       "Current Distribution: [0.04166667 0.33333333 0.         0.16666667 0.20833333]\n",
       "------\n",
       "Iteration: 4 Normalized: [0.05555556 0.44444444 0.         0.22222222 0.27777778] Sum after normalizing: 1.0 \n",
       " -----------------------------------------------------\n",
       "Step 1\n",
       "Current Distribution: [0.         0.24074074 0.01851852 0.24074074 0.22222222]\n",
       "------\n",
       "Iteration: 5 Normalized: [0.         0.33333333 0.02564103 0.33333333 0.30769231] Sum after normalizing: 1.0 \n",
       " -----------------------------------------------------\n",
       "Step 1\n",
       "Current Distribution: [0.01282051 0.33333333 0.         0.16666667 0.17948718]\n",
       "------\n",
       "Iteration: 6 Normalized: [0.01851852 0.48148148 0.         0.24074074 0.25925926] Sum after normalizing: 1.0 \n",
       " -----------------------------------------------------\n",
       "Step 1\n",
       "Current Distribution: [0.         0.24691358 0.00617284 0.24691358 0.24074074]\n",
       "------\n",
       "Iteration: 7 Normalized: [0.         0.33333333 0.00833333 0.33333333 0.325     ] Sum after normalizing: 1.0 \n",
       " -----------------------------------------------------\n",
       "Step 1\n",
       "Current Distribution: [0.00416667 0.33333333 0.         0.16666667 0.17083333]\n",
       "------\n",
       "Iteration: 8 Normalized: [0.00617284 0.49382716 0.         0.24691358 0.25308642] Sum after normalizing: 0.9999999999999999 \n",
       " -----------------------------------------------------\n",
       "Step 1\n",
       "Current Distribution: [0.         0.24897119 0.00205761 0.24897119 0.24691358]\n",
       "------\n",
       "Iteration: 9 Normalized: [0.         0.33333333 0.00275482 0.33333333 0.33057851] Sum after normalizing: 1.0 \n",
       " -----------------------------------------------------\n",
       "Step 1\n",
       "Current Distribution: [0.00137741 0.33333333 0.         0.16666667 0.16804408]\n",
       "------\n",
       "Iteration: 10 Normalized: [0.00205761 0.49794239 0.         0.24897119 0.25102881] Sum after normalizing: 0.9999999999999999 \n",
       " -----------------------------------------------------\n",
       "</div>"
      ]
     },
     "metadata": {
      "application/vnd.databricks.v1+output": {
       "addedWidgets": {},
       "arguments": {},
       "data": "<div class=\"ansiout\">Step 1\nCurrent Distribution: [0.         0.33333333 0.33333333 0.33333333 0.        ]\n------\nIteration: 1 Normalized: [0.         0.33333333 0.33333333 0.33333333 0.        ] Sum after normalizing: 1.0 \n -----------------------------------------------------\nStep 1\nCurrent Distribution: [0.16666667 0.33333333 0.         0.16666667 0.33333333]\n------\nIteration: 2 Normalized: [0.16666667 0.33333333 0.         0.16666667 0.33333333] Sum after normalizing: 1.0 \n -----------------------------------------------------\nStep 1\nCurrent Distribution: [0.         0.22222222 0.05555556 0.22222222 0.16666667]\n------\nIteration: 3 Normalized: [0.         0.33333333 0.08333333 0.33333333 0.25      ] Sum after normalizing: 1.0 \n -----------------------------------------------------\nStep 1\nCurrent Distribution: [0.04166667 0.33333333 0.         0.16666667 0.20833333]\n------\nIteration: 4 Normalized: [0.05555556 0.44444444 0.         0.22222222 0.27777778] Sum after normalizing: 1.0 \n -----------------------------------------------------\nStep 1\nCurrent Distribution: [0.         0.24074074 0.01851852 0.24074074 0.22222222]\n------\nIteration: 5 Normalized: [0.         0.33333333 0.02564103 0.33333333 0.30769231] Sum after normalizing: 1.0 \n -----------------------------------------------------\nStep 1\nCurrent Distribution: [0.01282051 0.33333333 0.         0.16666667 0.17948718]\n------\nIteration: 6 Normalized: [0.01851852 0.48148148 0.         0.24074074 0.25925926] Sum after normalizing: 1.0 \n -----------------------------------------------------\nStep 1\nCurrent Distribution: [0.         0.24691358 0.00617284 0.24691358 0.24074074]\n------\nIteration: 7 Normalized: [0.         0.33333333 0.00833333 0.33333333 0.325     ] Sum after normalizing: 1.0 \n -----------------------------------------------------\nStep 1\nCurrent Distribution: [0.00416667 0.33333333 0.         0.16666667 0.17083333]\n------\nIteration: 8 Normalized: [0.00617284 0.49382716 0.         0.24691358 0.25308642] Sum after normalizing: 0.9999999999999999 \n -----------------------------------------------------\nStep 1\nCurrent Distribution: [0.         0.24897119 0.00205761 0.24897119 0.24691358]\n------\nIteration: 9 Normalized: [0.         0.33333333 0.00275482 0.33333333 0.33057851] Sum after normalizing: 1.0 \n -----------------------------------------------------\nStep 1\nCurrent Distribution: [0.00137741 0.33333333 0.         0.16666667 0.16804408]\n------\nIteration: 10 Normalized: [0.00205761 0.49794239 0.         0.24897119 0.25102881] Sum after normalizing: 0.9999999999999999 \n -----------------------------------------------------\n</div>",
       "datasetInfos": [],
       "metadata": {},
       "removedWidgets": [],
       "type": "html"
      }
     },
     "output_type": "display_data"
    }
   ],
   "source": [
    "# PART B EXAMPLE\n",
    "#ignore step count label - iteration count is accurate\n",
    "TOY_ADJ_MATR2 = get_adj_matr(TOY2_GRAPH)\n",
    "transition_matrix2 = TOY_ADJ_MATR2.apply(lambda arr: arr/arr.sum(), axis = 1)\n",
    "transition_matrix2 = np.where(transition_matrix2.isna(), 0, transition_matrix2)\n",
    "xInit = np.array([1.0, 0, 0, 0, 0]) \n",
    "for n in range(0,10):\n",
    "  xInit = power_iteration(xInit, transition_matrix2, 1, verbose = True)\n",
    "  xInit = xInit/np.sum(xInit)\n",
    "  print('Iteration:',n+1, 'Normalized:',xInit, 'Sum after normalizing:',np.sum(xInit),'\\n -----------------------------------------------------')\n"
   ]
  },
  {
   "cell_type": "markdown",
   "metadata": {
    "application/vnd.databricks.v1+cell": {
     "inputWidgets": {},
     "nuid": "dfd6f1ec-649b-47d5-996e-07b08267c2ef",
     "showTitle": false,
     "title": ""
    }
   },
   "source": [
    "# About the Data\n",
    "The main dataset for this data consists of a subset of a 500GB dataset released by AWS in 2009. The data includes the source and metadata for all of the Wikimedia wikis. You can read more here: \n",
    "> https://aws.amazon.com/blogs/aws/new-public-data-set-wikipedia-xml-data. \n",
    "\n",
    "As in previous homeworks we'll be using a 2GB subset of this data, which is available to you in this dropbox folder: \n",
    "> https://www.dropbox.com/sh/2c0k5adwz36lkcw/AAAAKsjQfF9uHfv-X9mCqr9wa?dl=0. \n",
    "\n",
    "Use the cells below to download the wikipedia data and a test file for use in developing your PageRank implementation(note that we'll use the 'indexed out' version of the graph) and to take a look at the files."
   ]
  },
  {
   "cell_type": "code",
   "execution_count": 0,
   "metadata": {
    "application/vnd.databricks.v1+cell": {
     "inputWidgets": {},
     "nuid": "e9ff1dec-7ece-4215-a211-ff6b26836472",
     "showTitle": false,
     "title": ""
    }
   },
   "outputs": [
    {
     "data": {
      "text/html": [
       "<style scoped>\n",
       "  .ansiout {\n",
       "    display: block;\n",
       "    unicode-bidi: embed;\n",
       "    white-space: pre-wrap;\n",
       "    word-wrap: break-word;\n",
       "    word-break: break-all;\n",
       "    font-family: \"Source Code Pro\", \"Menlo\", monospace;;\n",
       "    font-size: 13px;\n",
       "    color: #555;\n",
       "    margin-left: 4px;\n",
       "    line-height: 19px;\n",
       "  }\n",
       "</style>\n",
       "<div class=\"ansiout\">Out[5]: [FileInfo(path=&#39;dbfs:/mnt/mids-w261/HW5/all-pages-indexed-in.txt&#39;, name=&#39;all-pages-indexed-in.txt&#39;, size=2143300687),\n",
       " FileInfo(path=&#39;dbfs:/mnt/mids-w261/HW5/all-pages-indexed-out.txt&#39;, name=&#39;all-pages-indexed-out.txt&#39;, size=2090459616),\n",
       " FileInfo(path=&#39;dbfs:/mnt/mids-w261/HW5/indices.txt&#39;, name=&#39;indices.txt&#39;, size=517438296),\n",
       " FileInfo(path=&#39;dbfs:/mnt/mids-w261/HW5/test_graph.txt&#39;, name=&#39;test_graph.txt&#39;, size=167)]</div>"
      ]
     },
     "metadata": {
      "application/vnd.databricks.v1+output": {
       "addedWidgets": {},
       "arguments": {},
       "data": "<div class=\"ansiout\">Out[5]: [FileInfo(path=&#39;dbfs:/mnt/mids-w261/HW5/all-pages-indexed-in.txt&#39;, name=&#39;all-pages-indexed-in.txt&#39;, size=2143300687),\n FileInfo(path=&#39;dbfs:/mnt/mids-w261/HW5/all-pages-indexed-out.txt&#39;, name=&#39;all-pages-indexed-out.txt&#39;, size=2090459616),\n FileInfo(path=&#39;dbfs:/mnt/mids-w261/HW5/indices.txt&#39;, name=&#39;indices.txt&#39;, size=517438296),\n FileInfo(path=&#39;dbfs:/mnt/mids-w261/HW5/test_graph.txt&#39;, name=&#39;test_graph.txt&#39;, size=167)]</div>",
       "datasetInfos": [],
       "metadata": {},
       "removedWidgets": [],
       "type": "html"
      }
     },
     "output_type": "display_data"
    }
   ],
   "source": [
    "dbutils.fs.ls(DATA_PATH)"
   ]
  },
  {
   "cell_type": "code",
   "execution_count": 0,
   "metadata": {
    "application/vnd.databricks.v1+cell": {
     "inputWidgets": {},
     "nuid": "16a0762c-dece-40c8-bb1b-8f00c4517b2b",
     "showTitle": false,
     "title": ""
    }
   },
   "outputs": [
    {
     "data": {
      "text/html": [
       "<style scoped>\n",
       "  .ansiout {\n",
       "    display: block;\n",
       "    unicode-bidi: embed;\n",
       "    white-space: pre-wrap;\n",
       "    word-wrap: break-word;\n",
       "    word-break: break-all;\n",
       "    font-family: \"Source Code Pro\", \"Menlo\", monospace;;\n",
       "    font-size: 13px;\n",
       "    color: #555;\n",
       "    margin-left: 4px;\n",
       "    line-height: 19px;\n",
       "  }\n",
       "</style>\n",
       "<div class=\"ansiout\">2\t{&#39;3&#39;: 1}\n",
       "\n",
       "3\t{&#39;2&#39;: 2}\n",
       "\n",
       "4\t{&#39;1&#39;: 1, &#39;2&#39;: 1}\n",
       "\n",
       "5\t{&#39;4&#39;: 3, &#39;2&#39;: 1, &#39;6&#39;: 1}\n",
       "\n",
       "6\t{&#39;2&#39;: 1, &#39;5&#39;: 2}\n",
       "\n",
       "7\t{&#39;2&#39;: 1, &#39;5&#39;: 1}\n",
       "\n",
       "8\t{&#39;2&#39;: 1, &#39;5&#39;: 1}\n",
       "\n",
       "9\t{&#39;2&#39;: 1, &#39;5&#39;: 1}\n",
       "\n",
       "10\t{&#39;5&#39;: 1}\n",
       "\n",
       "11\t{&#39;5&#39;: 2}\n",
       "</div>"
      ]
     },
     "metadata": {
      "application/vnd.databricks.v1+output": {
       "addedWidgets": {},
       "arguments": {},
       "data": "<div class=\"ansiout\">2\t{&#39;3&#39;: 1}\n\n3\t{&#39;2&#39;: 2}\n\n4\t{&#39;1&#39;: 1, &#39;2&#39;: 1}\n\n5\t{&#39;4&#39;: 3, &#39;2&#39;: 1, &#39;6&#39;: 1}\n\n6\t{&#39;2&#39;: 1, &#39;5&#39;: 2}\n\n7\t{&#39;2&#39;: 1, &#39;5&#39;: 1}\n\n8\t{&#39;2&#39;: 1, &#39;5&#39;: 1}\n\n9\t{&#39;2&#39;: 1, &#39;5&#39;: 1}\n\n10\t{&#39;5&#39;: 1}\n\n11\t{&#39;5&#39;: 2}\n</div>",
       "datasetInfos": [],
       "metadata": {},
       "removedWidgets": [],
       "type": "html"
      }
     },
     "output_type": "display_data"
    }
   ],
   "source": [
    "# open test_graph.txt file to see format (RUN THIS CELL AS IS)\n",
    "with open('/dbfs/mnt/mids-w261/HW5/test_graph.txt', \"r\") as f_read:\n",
    "  for line in f_read:\n",
    "    print(line)"
   ]
  },
  {
   "cell_type": "code",
   "execution_count": 0,
   "metadata": {
    "application/vnd.databricks.v1+cell": {
     "inputWidgets": {},
     "nuid": "a140fcac-1d1f-42af-8cc0-1e747fd039d9",
     "showTitle": false,
     "title": ""
    }
   },
   "outputs": [
    {
     "data": {
      "text/html": [
       "<style scoped>\n",
       "  .ansiout {\n",
       "    display: block;\n",
       "    unicode-bidi: embed;\n",
       "    white-space: pre-wrap;\n",
       "    word-wrap: break-word;\n",
       "    word-break: break-all;\n",
       "    font-family: \"Source Code Pro\", \"Menlo\", monospace;;\n",
       "    font-size: 13px;\n",
       "    color: #555;\n",
       "    margin-left: 4px;\n",
       "    line-height: 19px;\n",
       "  }\n",
       "</style>\n",
       "<div class=\"ansiout\"></div>"
      ]
     },
     "metadata": {
      "application/vnd.databricks.v1+output": {
       "addedWidgets": {},
       "arguments": {},
       "data": "<div class=\"ansiout\"></div>",
       "datasetInfos": [],
       "metadata": {},
       "removedWidgets": [],
       "type": "html"
      }
     },
     "output_type": "display_data"
    }
   ],
   "source": [
    "# load the data into Spark RDDs for convenience of use later (RUN THIS CELL AS IS)\n",
    "DATA_PATH = 'dbfs:/mnt/mids-w261/HW5/'\n",
    "testRDD = sc.textFile(DATA_PATH +'test_graph.txt') #HASSAN: might need to add a '/' in front of 'test_graph.txt'\n",
    "indexRDD = sc.textFile(DATA_PATH + '/indices.txt')\n",
    "wikiRDD = sc.textFile(DATA_PATH + '/all-pages-indexed-out.txt')"
   ]
  },
  {
   "cell_type": "code",
   "execution_count": 0,
   "metadata": {
    "application/vnd.databricks.v1+cell": {
     "inputWidgets": {},
     "nuid": "efcfc196-6c2b-43b8-bab7-d6e094f190d7",
     "showTitle": false,
     "title": ""
    }
   },
   "outputs": [
    {
     "data": {
      "text/html": [
       "<style scoped>\n",
       "  .ansiout {\n",
       "    display: block;\n",
       "    unicode-bidi: embed;\n",
       "    white-space: pre-wrap;\n",
       "    word-wrap: break-word;\n",
       "    word-break: break-all;\n",
       "    font-family: \"Source Code Pro\", \"Menlo\", monospace;;\n",
       "    font-size: 13px;\n",
       "    color: #555;\n",
       "    margin-left: 4px;\n",
       "    line-height: 19px;\n",
       "  }\n",
       "</style>\n",
       "<div class=\"ansiout\">Out[7]: [&#34;2\\t{&#39;3&#39;: 1}&#34;,\n",
       " &#34;3\\t{&#39;2&#39;: 2}&#34;,\n",
       " &#34;4\\t{&#39;1&#39;: 1, &#39;2&#39;: 1}&#34;,\n",
       " &#34;5\\t{&#39;4&#39;: 3, &#39;2&#39;: 1, &#39;6&#39;: 1}&#34;,\n",
       " &#34;6\\t{&#39;2&#39;: 1, &#39;5&#39;: 2}&#34;,\n",
       " &#34;7\\t{&#39;2&#39;: 1, &#39;5&#39;: 1}&#34;,\n",
       " &#34;8\\t{&#39;2&#39;: 1, &#39;5&#39;: 1}&#34;,\n",
       " &#34;9\\t{&#39;2&#39;: 1, &#39;5&#39;: 1}&#34;,\n",
       " &#34;10\\t{&#39;5&#39;: 1}&#34;,\n",
       " &#34;11\\t{&#39;5&#39;: 2}&#34;]</div>"
      ]
     },
     "metadata": {
      "application/vnd.databricks.v1+output": {
       "addedWidgets": {},
       "arguments": {},
       "data": "<div class=\"ansiout\">Out[7]: [&#34;2\\t{&#39;3&#39;: 1}&#34;,\n &#34;3\\t{&#39;2&#39;: 2}&#34;,\n &#34;4\\t{&#39;1&#39;: 1, &#39;2&#39;: 1}&#34;,\n &#34;5\\t{&#39;4&#39;: 3, &#39;2&#39;: 1, &#39;6&#39;: 1}&#34;,\n &#34;6\\t{&#39;2&#39;: 1, &#39;5&#39;: 2}&#34;,\n &#34;7\\t{&#39;2&#39;: 1, &#39;5&#39;: 1}&#34;,\n &#34;8\\t{&#39;2&#39;: 1, &#39;5&#39;: 1}&#34;,\n &#34;9\\t{&#39;2&#39;: 1, &#39;5&#39;: 1}&#34;,\n &#34;10\\t{&#39;5&#39;: 1}&#34;,\n &#34;11\\t{&#39;5&#39;: 2}&#34;]</div>",
       "datasetInfos": [],
       "metadata": {},
       "removedWidgets": [],
       "type": "html"
      }
     },
     "output_type": "display_data"
    }
   ],
   "source": [
    "# display testRDD (RUN THIS CELL AS IS)\n",
    "testRDD.take(10)"
   ]
  },
  {
   "cell_type": "code",
   "execution_count": 0,
   "metadata": {
    "application/vnd.databricks.v1+cell": {
     "inputWidgets": {},
     "nuid": "88b3684d-6548-4015-8a12-069558814b82",
     "showTitle": false,
     "title": ""
    }
   },
   "outputs": [
    {
     "data": {
      "text/html": [
       "<style scoped>\n",
       "  .ansiout {\n",
       "    display: block;\n",
       "    unicode-bidi: embed;\n",
       "    white-space: pre-wrap;\n",
       "    word-wrap: break-word;\n",
       "    word-break: break-all;\n",
       "    font-family: \"Source Code Pro\", \"Menlo\", monospace;;\n",
       "    font-size: 13px;\n",
       "    color: #555;\n",
       "    margin-left: 4px;\n",
       "    line-height: 19px;\n",
       "  }\n",
       "</style>\n",
       "<div class=\"ansiout\">Out[7]: [&#39;! $var = &amp;quot;&amp;quot;\\t1\\t1\\t0&#39;,\n",
       " &#39;! (CONFIG.SYS directive)\\t2\\t1\\t1&#39;,\n",
       " &#39;! (album)\\t3\\t12\\t17&#39;,\n",
       " &#39;! (disambiguation)\\t4\\t1\\t20&#39;,\n",
       " &#39;! -attention-\\t5\\t1\\t0&#39;,\n",
       " &#39;! Time Zone\\t6\\t1\\t0&#39;,\n",
       " &#39;!! (chess)\\t7\\t0\\t1&#39;,\n",
       " &#39;!! (disambiguation)\\t8\\t3\\t0&#39;,\n",
       " &#39;!!! (Chk Chk Chk)\\t9\\t1\\t0&#39;,\n",
       " &#39;!!! (album)\\t10\\t5\\t15&#39;]</div>"
      ]
     },
     "metadata": {
      "application/vnd.databricks.v1+output": {
       "addedWidgets": {},
       "arguments": {},
       "data": "<div class=\"ansiout\">Out[7]: [&#39;! $var = &amp;quot;&amp;quot;\\t1\\t1\\t0&#39;,\n &#39;! (CONFIG.SYS directive)\\t2\\t1\\t1&#39;,\n &#39;! (album)\\t3\\t12\\t17&#39;,\n &#39;! (disambiguation)\\t4\\t1\\t20&#39;,\n &#39;! -attention-\\t5\\t1\\t0&#39;,\n &#39;! Time Zone\\t6\\t1\\t0&#39;,\n &#39;!! (chess)\\t7\\t0\\t1&#39;,\n &#39;!! (disambiguation)\\t8\\t3\\t0&#39;,\n &#39;!!! (Chk Chk Chk)\\t9\\t1\\t0&#39;,\n &#39;!!! (album)\\t10\\t5\\t15&#39;]</div>",
       "datasetInfos": [],
       "metadata": {},
       "removedWidgets": [],
       "type": "html"
      }
     },
     "output_type": "display_data"
    }
   ],
   "source": [
    "# display indexRDD (RUN THIS CELL AS IS)\n",
    "indexRDD.take(10)"
   ]
  },
  {
   "cell_type": "code",
   "execution_count": 0,
   "metadata": {
    "application/vnd.databricks.v1+cell": {
     "inputWidgets": {},
     "nuid": "be41205d-7722-497e-8256-cfd80f749265",
     "showTitle": false,
     "title": ""
    }
   },
   "outputs": [
    {
     "data": {
      "text/html": [
       "<style scoped>\n",
       "  .ansiout {\n",
       "    display: block;\n",
       "    unicode-bidi: embed;\n",
       "    white-space: pre-wrap;\n",
       "    word-wrap: break-word;\n",
       "    word-break: break-all;\n",
       "    font-family: \"Source Code Pro\", \"Menlo\", monospace;;\n",
       "    font-size: 13px;\n",
       "    color: #555;\n",
       "    margin-left: 4px;\n",
       "    line-height: 19px;\n",
       "  }\n",
       "</style>\n",
       "<div class=\"ansiout\">Out[8]: [&#34;73\\t{&#39;14417532&#39;: 1}&#34;,\n",
       " &#34;299\\t{&#39;4214575&#39;: 1}&#34;,\n",
       " &#34;2552\\t{&#39;15043376&#39;: 1, &#39;13430968&#39;: 1, &#39;13451035&#39;: 1, &#39;7263397&#39;: 1, &#39;13001625&#39;: 1, &#39;13443575&#39;: 1, &#39;13451269&#39;: 1, &#39;13432316&#39;: 1, &#39;11623371&#39;: 1, &#39;15028971&#39;: 1, &#39;13425865&#39;: 1, &#39;15042703&#39;: 1, &#39;5051368&#39;: 1, &#39;9854998&#39;: 2, &#39;13442976&#39;: 1, &#39;13315025&#39;: 1, &#39;2992307&#39;: 1, &#39;1054486&#39;: 1, &#39;1322325&#39;: 1, &#39;13450983&#39;: 1}&#34;,\n",
       " &#34;2570\\t{&#39;983991&#39;: 1}&#34;,\n",
       " &#34;2616\\t{&#39;9045350&#39;: 1}&#34;,\n",
       " &#34;2711\\t{&#39;752887&#39;: 1}&#34;,\n",
       " &#34;2818\\t{&#39;3534183&#39;: 1}&#34;,\n",
       " &#34;2847\\t{&#39;3797918&#39;: 1}&#34;,\n",
       " &#34;2892\\t{&#39;2893&#39;: 1}&#34;,\n",
       " &#34;2921\\t{&#39;5158607&#39;: 1, &#39;6007184&#39;: 1, &#39;14773825&#39;: 1, &#39;11777840&#39;: 2, &#39;9285165&#39;: 1, &#39;6420484&#39;: 1, &#39;14670682&#39;: 1, &#39;7316613&#39;: 1, &#39;7125893&#39;: 1, &#39;14965920&#39;: 1, &#39;14229952&#39;: 1, &#39;9447742&#39;: 2, &#39;1425342&#39;: 1, &#39;11390944&#39;: 2, &#39;5141&#39;: 1, &#39;14928135&#39;: 2, &#39;13636570&#39;: 3, &#39;14687433&#39;: 1, &#39;15105458&#39;: 1, &#39;11656072&#39;: 1, &#39;6420027&#39;: 1, &#39;10898196&#39;: 1, &#39;6416278&#39;: 1, &#39;11497740&#39;: 2}&#34;]</div>"
      ]
     },
     "metadata": {
      "application/vnd.databricks.v1+output": {
       "addedWidgets": {},
       "arguments": {},
       "data": "<div class=\"ansiout\">Out[8]: [&#34;73\\t{&#39;14417532&#39;: 1}&#34;,\n &#34;299\\t{&#39;4214575&#39;: 1}&#34;,\n &#34;2552\\t{&#39;15043376&#39;: 1, &#39;13430968&#39;: 1, &#39;13451035&#39;: 1, &#39;7263397&#39;: 1, &#39;13001625&#39;: 1, &#39;13443575&#39;: 1, &#39;13451269&#39;: 1, &#39;13432316&#39;: 1, &#39;11623371&#39;: 1, &#39;15028971&#39;: 1, &#39;13425865&#39;: 1, &#39;15042703&#39;: 1, &#39;5051368&#39;: 1, &#39;9854998&#39;: 2, &#39;13442976&#39;: 1, &#39;13315025&#39;: 1, &#39;2992307&#39;: 1, &#39;1054486&#39;: 1, &#39;1322325&#39;: 1, &#39;13450983&#39;: 1}&#34;,\n &#34;2570\\t{&#39;983991&#39;: 1}&#34;,\n &#34;2616\\t{&#39;9045350&#39;: 1}&#34;,\n &#34;2711\\t{&#39;752887&#39;: 1}&#34;,\n &#34;2818\\t{&#39;3534183&#39;: 1}&#34;,\n &#34;2847\\t{&#39;3797918&#39;: 1}&#34;,\n &#34;2892\\t{&#39;2893&#39;: 1}&#34;,\n &#34;2921\\t{&#39;5158607&#39;: 1, &#39;6007184&#39;: 1, &#39;14773825&#39;: 1, &#39;11777840&#39;: 2, &#39;9285165&#39;: 1, &#39;6420484&#39;: 1, &#39;14670682&#39;: 1, &#39;7316613&#39;: 1, &#39;7125893&#39;: 1, &#39;14965920&#39;: 1, &#39;14229952&#39;: 1, &#39;9447742&#39;: 2, &#39;1425342&#39;: 1, &#39;11390944&#39;: 2, &#39;5141&#39;: 1, &#39;14928135&#39;: 2, &#39;13636570&#39;: 3, &#39;14687433&#39;: 1, &#39;15105458&#39;: 1, &#39;11656072&#39;: 1, &#39;6420027&#39;: 1, &#39;10898196&#39;: 1, &#39;6416278&#39;: 1, &#39;11497740&#39;: 2}&#34;]</div>",
       "datasetInfos": [],
       "metadata": {},
       "removedWidgets": [],
       "type": "html"
      }
     },
     "output_type": "display_data"
    }
   ],
   "source": [
    "# display wikiRDD (RUN THIS CELL AS IS)\n",
    "wikiRDD.take(10)"
   ]
  },
  {
   "cell_type": "markdown",
   "metadata": {
    "application/vnd.databricks.v1+cell": {
     "inputWidgets": {},
     "nuid": "bfeaaa84-ecc8-4fab-8632-72c2c27b0eb7",
     "showTitle": false,
     "title": ""
    }
   },
   "source": [
    "# Question 5: EDA part 1 (number of nodes)\n",
    "\n",
    "As usual, before we dive in to the main analysis, we'll peform some exploratory data anlysis to understand our dataset. Please use the test graph that you downloaded to test all your code before running the full dataset.\n",
    "\n",
    "### Q5 Tasks:\n",
    "* __a) short response:__ In what format is the raw data? What does the first value represent? What does the second part of each line represent? [__`HINT:`__ _no need to go digging here, just visually inspect the outputs of the head commands that we ran after loading the data above._]\n",
    "\n",
    "* __b) code + short response:__ Run the provided bash command to count the number of records in the raw dataset. Explain why this is _not_ the same as the number of total nodes in the graph.\n",
    "\n",
    "* __c) code:__ In the space provided below write a Spark job to count the _total number_ of nodes in this graph. \n",
    "\n",
    "* __d) short response:__ How many dangling nodes are there in this wikipedia graph? [__`HINT:`__ _you should not need any code to answer this question._]"
   ]
  },
  {
   "cell_type": "markdown",
   "metadata": {
    "application/vnd.databricks.v1+cell": {
     "inputWidgets": {},
     "nuid": "d89273e5-dfac-40fc-951b-f4b8572674f2",
     "showTitle": false,
     "title": ""
    }
   },
   "source": [
    "### Q5 Student Answers:\n",
    "> __a)__ The raw data is in stripe format where the first value represents the index of the page and the second value is a dictionary with the index of the out-links on that page as keys and the count of how often they appear as values.  \n",
    "\n",
    "> __b)__ There are more nodes than wiki records because some pages link to external websites (so those links do not have a record in the dataset) or only have in-links but no out-links (dead end nodes). \n",
    "\n",
    "> __d)__ There are 9,410,987 dangling nodes: the number of total nodes (15192277) minus the number of nodes with out-links (5781290)."
   ]
  },
  {
   "cell_type": "code",
   "execution_count": 0,
   "metadata": {
    "application/vnd.databricks.v1+cell": {
     "inputWidgets": {},
     "nuid": "5c3e7420-0fe9-4b11-ba69-157002a57cc4",
     "showTitle": false,
     "title": ""
    }
   },
   "outputs": [
    {
     "data": {
      "text/html": [
       "<style scoped>\n",
       "  .ansiout {\n",
       "    display: block;\n",
       "    unicode-bidi: embed;\n",
       "    white-space: pre-wrap;\n",
       "    word-wrap: break-word;\n",
       "    word-break: break-all;\n",
       "    font-family: \"Source Code Pro\", \"Menlo\", monospace;;\n",
       "    font-size: 13px;\n",
       "    color: #555;\n",
       "    margin-left: 4px;\n",
       "    line-height: 19px;\n",
       "  }\n",
       "</style>\n",
       "<div class=\"ansiout\">5781290\n",
       "</div>"
      ]
     },
     "metadata": {
      "application/vnd.databricks.v1+output": {
       "addedWidgets": {},
       "arguments": {},
       "data": "<div class=\"ansiout\">5781290\n</div>",
       "datasetInfos": [],
       "metadata": {},
       "removedWidgets": [],
       "type": "html"
      }
     },
     "output_type": "display_data"
    }
   ],
   "source": [
    "# part b - count the number of records in the raw data (RUN THIS CELL AS IS)\n",
    "# 5781290\n",
    "print(wikiRDD.count())"
   ]
  },
  {
   "cell_type": "code",
   "execution_count": 0,
   "metadata": {
    "application/vnd.databricks.v1+cell": {
     "inputWidgets": {},
     "nuid": "5859da43-1642-48e1-a171-332f2aa8c567",
     "showTitle": false,
     "title": ""
    }
   },
   "outputs": [
    {
     "data": {
      "text/html": [
       "<style scoped>\n",
       "  .ansiout {\n",
       "    display: block;\n",
       "    unicode-bidi: embed;\n",
       "    white-space: pre-wrap;\n",
       "    word-wrap: break-word;\n",
       "    word-break: break-all;\n",
       "    font-family: \"Source Code Pro\", \"Menlo\", monospace;;\n",
       "    font-size: 13px;\n",
       "    color: #555;\n",
       "    margin-left: 4px;\n",
       "    line-height: 19px;\n",
       "  }\n",
       "</style>\n",
       "<div class=\"ansiout\"></div>"
      ]
     },
     "metadata": {
      "application/vnd.databricks.v1+output": {
       "addedWidgets": {},
       "arguments": {},
       "data": "<div class=\"ansiout\"></div>",
       "datasetInfos": [],
       "metadata": {},
       "removedWidgets": [],
       "type": "html"
      }
     },
     "output_type": "display_data"
    }
   ],
   "source": [
    "# part c - write your Spark job here (compute total number of nodes)\n",
    "def count_nodes(dataRDD):\n",
    "    \"\"\"\n",
    "    Spark job to count the total number of nodes.\n",
    "    Returns: integer count \n",
    "    \"\"\"    \n",
    "    ############## YOUR CODE HERE ###############\n",
    "    def return_kv_list(line):\n",
    "      key, payload = line[0], line[1]\n",
    "      nodes_raw = re.findall(\"[0-9]+':\", payload)\n",
    "      nodes = [i[:-2] for i in nodes_raw]\n",
    "      return(set([key]+nodes))\n",
    "\n",
    "    totalCount = dataRDD.map(lambda line: tuple(line.split('\\t'))).flatMap(return_kv_list).distinct().count()\n",
    "    ############## (END) YOUR CODE ###############   \n",
    "    return totalCount"
   ]
  },
  {
   "cell_type": "code",
   "execution_count": 0,
   "metadata": {
    "application/vnd.databricks.v1+cell": {
     "inputWidgets": {},
     "nuid": "78ce98ef-76fe-446b-8cbc-b7c7f65c65a9",
     "showTitle": false,
     "title": ""
    }
   },
   "outputs": [
    {
     "data": {
      "text/html": [
       "<style scoped>\n",
       "  .ansiout {\n",
       "    display: block;\n",
       "    unicode-bidi: embed;\n",
       "    white-space: pre-wrap;\n",
       "    word-wrap: break-word;\n",
       "    word-break: break-all;\n",
       "    font-family: \"Source Code Pro\", \"Menlo\", monospace;;\n",
       "    font-size: 13px;\n",
       "    color: #555;\n",
       "    margin-left: 4px;\n",
       "    line-height: 19px;\n",
       "  }\n",
       "</style>\n",
       "<div class=\"ansiout\">... completed job in 0.8030862808227539 seconds.\n",
       "Total Nodes: 11\n",
       "</div>"
      ]
     },
     "metadata": {
      "application/vnd.databricks.v1+output": {
       "addedWidgets": {},
       "arguments": {},
       "data": "<div class=\"ansiout\">... completed job in 0.8030862808227539 seconds.\nTotal Nodes: 11\n</div>",
       "datasetInfos": [],
       "metadata": {},
       "removedWidgets": [],
       "type": "html"
      }
     },
     "output_type": "display_data"
    }
   ],
   "source": [
    "# part c - run your counting job on the test file (RUN THIS CELL AS IS)\n",
    "start = time.time()\n",
    "tot = count_nodes(testRDD)\n",
    "print(f'... completed job in {time.time() - start} seconds.')\n",
    "print(f'Total Nodes: {tot}')"
   ]
  },
  {
   "cell_type": "code",
   "execution_count": 0,
   "metadata": {
    "application/vnd.databricks.v1+cell": {
     "inputWidgets": {},
     "nuid": "04ff64d1-bc68-49bf-92ae-58fa68f89219",
     "showTitle": false,
     "title": ""
    }
   },
   "outputs": [
    {
     "data": {
      "text/html": [
       "<style scoped>\n",
       "  .ansiout {\n",
       "    display: block;\n",
       "    unicode-bidi: embed;\n",
       "    white-space: pre-wrap;\n",
       "    word-wrap: break-word;\n",
       "    word-break: break-all;\n",
       "    font-family: \"Source Code Pro\", \"Menlo\", monospace;;\n",
       "    font-size: 13px;\n",
       "    color: #555;\n",
       "    margin-left: 4px;\n",
       "    line-height: 19px;\n",
       "  }\n",
       "</style>\n",
       "<div class=\"ansiout\">... completed job in 228.63787984848022 seconds.\n",
       "Total Nodes: 15192277\n",
       "</div>"
      ]
     },
     "metadata": {
      "application/vnd.databricks.v1+output": {
       "addedWidgets": {},
       "arguments": {},
       "data": "<div class=\"ansiout\">... completed job in 228.63787984848022 seconds.\nTotal Nodes: 15192277\n</div>",
       "datasetInfos": [],
       "metadata": {},
       "removedWidgets": [],
       "type": "html"
      }
     },
     "output_type": "display_data"
    }
   ],
   "source": [
    "# part c - run your counting job on the full file (RUN THIS CELL AS IS)\n",
    "start = time.time()\n",
    "tot = count_nodes(wikiRDD)\n",
    "print(f'... completed job in {time.time() - start} seconds.')\n",
    "print(f'Total Nodes: {tot}')"
   ]
  },
  {
   "cell_type": "markdown",
   "metadata": {
    "application/vnd.databricks.v1+cell": {
     "inputWidgets": {},
     "nuid": "1086ad2d-8dd1-447e-b41f-3d0f75dd5bd9",
     "showTitle": false,
     "title": ""
    }
   },
   "source": [
    "# Question 6 - EDA part 2 (out-degree distribution)\n",
    "\n",
    "As you've seen in previous homeworks the computational complexity of an implementation depends not only on the number of records in the original dataset but also on the number of records we create and shuffle in our intermediate representation of the data. The number of intermediate records required to update PageRank is related to the number of edges in the graph. In this question you'll compute the average number of hyperlinks on each page in this data and visualize a distribution for these counts (the out-degree of the nodes). \n",
    "\n",
    "### Q6 Tasks:\n",
    "* __a) code:__ In the space provided below write a Spark job to stream over the data and compute all of the following information:\n",
    " * count the out-degree of each non-dangling node and return the names of the top 10 pages with the most hyperlinks\n",
    " * find the average out-degree for all non-dangling nodes in the graph\n",
    " * take a 1000 point sample of these out-degree counts and plot a histogram of the result. \n",
    " \n",
    " \n",
    "* __b) short response:__ In the context of the PageRank algorithm, how is information about a node's out degree used?\n",
    "\n",
    "* __c) short response:__ What does it mean if a node's out-degree is 0? In PageRank how will we handle these nodes differently than others?\n",
    " \n",
    "__`NOTE:`__ Please observe scalability best practices in the design of your code & comment your work clearly. You will be graded on both the clarity and the design."
   ]
  },
  {
   "cell_type": "markdown",
   "metadata": {
    "application/vnd.databricks.v1+cell": {
     "inputWidgets": {},
     "nuid": "97f4190c-129b-4bd0-bfca-b146672087ef",
     "showTitle": false,
     "title": ""
    }
   },
   "source": [
    "### Q6 Student Answers:\n",
    "\n",
    "> __b)__ The number of tail ends adjacent to a vertex is its out-degree. The out-degree is used in rank calulation in the denominator of the formula and also determines when the algorithm should teleport. \n",
    "\n",
    "> __c)__ If a node's out-degree is 0, the node is a dead end and PageRank will randomly teleport to a different node from that one. The mass of the node will be equally distributed among all nodes."
   ]
  },
  {
   "cell_type": "code",
   "execution_count": 0,
   "metadata": {
    "application/vnd.databricks.v1+cell": {
     "inputWidgets": {},
     "nuid": "ec0b74c9-63f7-4d3d-a60a-846540ac2b63",
     "showTitle": false,
     "title": ""
    }
   },
   "outputs": [
    {
     "data": {
      "text/html": [
       "<style scoped>\n",
       "  .ansiout {\n",
       "    display: block;\n",
       "    unicode-bidi: embed;\n",
       "    white-space: pre-wrap;\n",
       "    word-wrap: break-word;\n",
       "    word-break: break-all;\n",
       "    font-family: \"Source Code Pro\", \"Menlo\", monospace;;\n",
       "    font-size: 13px;\n",
       "    color: #555;\n",
       "    margin-left: 4px;\n",
       "    line-height: 19px;\n",
       "  }\n",
       "</style>\n",
       "<div class=\"ansiout\"></div>"
      ]
     },
     "metadata": {
      "application/vnd.databricks.v1+output": {
       "addedWidgets": {},
       "arguments": {},
       "data": "<div class=\"ansiout\"></div>",
       "datasetInfos": [],
       "metadata": {},
       "removedWidgets": [],
       "type": "html"
      }
     },
     "output_type": "display_data"
    }
   ],
   "source": [
    "# part a - write your Spark job here (compute average in-degree, etc)\n",
    "#(counts duplicates edges)\n",
    "def count_degree(dataRDD, n):\n",
    "    \"\"\"\n",
    "    Function to analyze out-degree of nodes in a a graph.\n",
    "    Returns: \n",
    "        top  - (list of 10 tuples) nodes with most edges\n",
    "        avgDegree - (float) average out-degree for non-dangling nodes\n",
    "        sampledCounts - (list of integers) out-degree for n randomly sampled non-dangling nodes\n",
    "    \"\"\"\n",
    "    # helper func\n",
    "    def parse(line):\n",
    "        node, edges = line.split('\\t')\n",
    "        return (node, ast.literal_eval(edges))\n",
    "    \n",
    "    def edge_count(line):\n",
    "      node, neighbors = line[0], line[1]\n",
    "      edge_count = sum([neighbors[i] for i in neighbors.keys()])\n",
    "      return (node, edge_count)\n",
    "    \n",
    "    ############## YOUR CODE HERE ###############\n",
    "    pairs =  dataRDD.map(parse).map(edge_count)\n",
    "    top = pairs.takeOrdered(10, lambda x: -int(x[1]))\n",
    "    \n",
    "    nodes = pairs.map(lambda x: x[1])\n",
    "    avgDegree = nodes.mean()\n",
    "    sampledCounts = nodes.takeSample(False, num = n)\n",
    "\n",
    "    ############## (END) YOUR CODE ###############\n",
    "    \n",
    "    return top, avgDegree, sampledCounts"
   ]
  },
  {
   "cell_type": "code",
   "execution_count": 0,
   "metadata": {
    "application/vnd.databricks.v1+cell": {
     "inputWidgets": {},
     "nuid": "274a6efd-f268-49cd-a8ca-adbe10dbb8e8",
     "showTitle": false,
     "title": ""
    }
   },
   "outputs": [
    {
     "data": {
      "text/html": [
       "<style scoped>\n",
       "  .ansiout {\n",
       "    display: block;\n",
       "    unicode-bidi: embed;\n",
       "    white-space: pre-wrap;\n",
       "    word-wrap: break-word;\n",
       "    word-break: break-all;\n",
       "    font-family: \"Source Code Pro\", \"Menlo\", monospace;;\n",
       "    font-size: 13px;\n",
       "    color: #555;\n",
       "    margin-left: 4px;\n",
       "    line-height: 19px;\n",
       "  }\n",
       "</style>\n",
       "<div class=\"ansiout\">... completed job in 0.4432339668273926 seconds\n",
       "Average out-degree:  2.2\n",
       "Top 10 nodes (by out-degree:)\n",
       " [(&#39;5&#39;, 5), (&#39;6&#39;, 3), (&#39;3&#39;, 2), (&#39;4&#39;, 2), (&#39;7&#39;, 2), (&#39;8&#39;, 2), (&#39;9&#39;, 2), (&#39;11&#39;, 2), (&#39;2&#39;, 1), (&#39;10&#39;, 1)]\n",
       "</div>"
      ]
     },
     "metadata": {
      "application/vnd.databricks.v1+output": {
       "addedWidgets": {},
       "arguments": {},
       "data": "<div class=\"ansiout\">... completed job in 0.4432339668273926 seconds\nAverage out-degree:  2.2\nTop 10 nodes (by out-degree:)\n [(&#39;5&#39;, 5), (&#39;6&#39;, 3), (&#39;3&#39;, 2), (&#39;4&#39;, 2), (&#39;7&#39;, 2), (&#39;8&#39;, 2), (&#39;9&#39;, 2), (&#39;11&#39;, 2), (&#39;2&#39;, 1), (&#39;10&#39;, 1)]\n</div>",
       "datasetInfos": [],
       "metadata": {},
       "removedWidgets": [],
       "type": "html"
      }
     },
     "output_type": "display_data"
    }
   ],
   "source": [
    "# part a - run your job on the test file (RUN THIS CELL AS IS)\n",
    "start = time.time()\n",
    "test_results = count_degree(testRDD,10)\n",
    "print(f\"... completed job in {time.time() - start} seconds\")\n",
    "print(\"Average out-degree: \", test_results[1])\n",
    "print(\"Top 10 nodes (by out-degree:)\\n\", test_results[0])"
   ]
  },
  {
   "cell_type": "code",
   "execution_count": 0,
   "metadata": {
    "application/vnd.databricks.v1+cell": {
     "inputWidgets": {},
     "nuid": "12c2bfd3-c0b1-46d2-a18a-8dc4d851a386",
     "showTitle": false,
     "title": ""
    }
   },
   "outputs": [
    {
     "data": {
      "image/png": "[encoded data removed]"
     },
     "metadata": {
      "application/vnd.databricks.v1+output": {
       "addedWidgets": {},
       "arguments": {},
       "data": "data:image/png;base64,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",
       "datasetInfos": [],
       "metadata": {
        "imageDimensions": {
         "height": 264,
         "width": 362
        }
       },
       "removedWidgets": [],
       "type": "image"
      },
      "image/png": {
       "height": 264,
       "width": 362
      }
     },
     "output_type": "display_data"
    }
   ],
   "source": [
    "# part a - plot results from test file (RUN THIS CELL AS IS)\n",
    "plt.hist(test_results[2], bins=10)\n",
    "plt.title(\"Distribution of Out-Degree\")\n",
    "display(plt.show())"
   ]
  },
  {
   "cell_type": "code",
   "execution_count": 0,
   "metadata": {
    "application/vnd.databricks.v1+cell": {
     "inputWidgets": {},
     "nuid": "8aa64c84-4a84-4061-bc8e-9b40fa5e5b79",
     "showTitle": false,
     "title": ""
    }
   },
   "outputs": [
    {
     "data": {
      "text/html": [
       "<style scoped>\n",
       "  .ansiout {\n",
       "    display: block;\n",
       "    unicode-bidi: embed;\n",
       "    white-space: pre-wrap;\n",
       "    word-wrap: break-word;\n",
       "    word-break: break-all;\n",
       "    font-family: \"Source Code Pro\", \"Menlo\", monospace;;\n",
       "    font-size: 13px;\n",
       "    color: #555;\n",
       "    margin-left: 4px;\n",
       "    line-height: 19px;\n",
       "  }\n",
       "</style>\n",
       "<div class=\"ansiout\">... completed job in 659.2726755142212 seconds\n",
       "Average out-degree:  32.04181575392317\n",
       "Top 10 nodes (by out-degree:)\n",
       " [(&#39;7804599&#39;, 9347), (&#39;7858931&#39;, 8910), (&#39;11185362&#39;, 8837), (&#39;7705822&#39;, 8142), (&#39;5760310&#39;, 7649), (&#39;7865920&#39;, 7608), (&#39;7819767&#39;, 7278), (&#39;7883280&#39;, 7231), (&#39;13035895&#39;, 7126), (&#39;7880980&#39;, 6904)]\n",
       "</div>"
      ]
     },
     "metadata": {
      "application/vnd.databricks.v1+output": {
       "addedWidgets": {},
       "arguments": {},
       "data": "<div class=\"ansiout\">... completed job in 659.2726755142212 seconds\nAverage out-degree:  32.04181575392317\nTop 10 nodes (by out-degree:)\n [(&#39;7804599&#39;, 9347), (&#39;7858931&#39;, 8910), (&#39;11185362&#39;, 8837), (&#39;7705822&#39;, 8142), (&#39;5760310&#39;, 7649), (&#39;7865920&#39;, 7608), (&#39;7819767&#39;, 7278), (&#39;7883280&#39;, 7231), (&#39;13035895&#39;, 7126), (&#39;7880980&#39;, 6904)]\n</div>",
       "datasetInfos": [],
       "metadata": {},
       "removedWidgets": [],
       "type": "html"
      }
     },
     "output_type": "display_data"
    }
   ],
   "source": [
    "# part a - run your job on the full file (RUN THIS CELL AS IS)\n",
    "start = time.time()\n",
    "full_results = count_degree(wikiRDD,1000)\n",
    "\n",
    "print(f\"... completed job in {time.time() - start} seconds\")\n",
    "print(\"Average out-degree: \", full_results[1])\n",
    "print(\"Top 10 nodes (by out-degree:)\\n\", full_results[0])"
   ]
  },
  {
   "cell_type": "code",
   "execution_count": 0,
   "metadata": {
    "application/vnd.databricks.v1+cell": {
     "inputWidgets": {},
     "nuid": "c9a00417-4484-4abf-a750-701cd726c024",
     "showTitle": false,
     "title": ""
    }
   },
   "outputs": [
    {
     "data": {
      "image/png": "[encoded data removed]"
     },
     "metadata": {
      "application/vnd.databricks.v1+output": {
       "addedWidgets": {},
       "arguments": {},
       "data": "data:image/png;base64,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",
       "datasetInfos": [],
       "metadata": {
        "imageDimensions": {
         "height": 264,
         "width": 385
        }
       },
       "removedWidgets": [],
       "type": "image"
      },
      "image/png": {
       "height": 264,
       "width": 385
      }
     },
     "output_type": "display_data"
    }
   ],
   "source": [
    "# part a - plot results from full file (RUN THIS CELL AS IS)\n",
    "plt.hist(full_results[2], bins=50)\n",
    "plt.title(\"Distribution of Out-Degree\")\n",
    "display(plt.show())"
   ]
  },
  {
   "cell_type": "markdown",
   "metadata": {
    "application/vnd.databricks.v1+cell": {
     "inputWidgets": {},
     "nuid": "6f3a83cb-5b19-4818-8eeb-86ed4d0c9a14",
     "showTitle": false,
     "title": ""
    }
   },
   "source": [
    "# Question 7 - PageRank part 1 (Initialize the Graph)\n",
    "\n",
    "One of the challenges of performing distributed graph computation is that you must pass the entire graph structure through each iteration of your algorithm. As usual, we seek to design our computation so that as much work as possible can be done using the contents of a single record. In the case of PageRank, we'll need each record to include a node, its list of neighbors and its (current) rank. In this question you'll initialize the graph by creating a record for each dangling node and by setting the initial rank to 1/N for all nodes. \n",
    "\n",
    "__`NOTE:`__ Your solution should _not_ hard code \\\\(N\\\\).\n",
    "\n",
    "### Q7 Tasks:\n",
    "* __a) short response:__ What is \\\\(N\\\\)? Use the analogy of the infinite random web-surfer to explain why we'll initialize each node's rank to \\\\(\\frac{1}{N}\\\\). (i.e. what is the probabilistic interpretation of this choice?)\n",
    "\n",
    "* __b) short response:__ Will it be more efficient to compute \\\\(N\\\\) before initializing records for each dangling node or after? Explain your reasoning.\n",
    "\n",
    "* __c) code:__ Fill in the missing code below to create a Spark job that:\n",
    "  * parses each input record\n",
    "  * creates a new record for any dangling nodes and sets it list of neighbors to be an empty set\n",
    "  * initializes a rank of 1/N for each node\n",
    "  * returns a pair RDD with records in the format specified by the docstring\n",
    "\n",
    "\n",
    "* __d) code:__ Run the provided code to confirm that your job in `part a` has a record for each node and that your should records match the format specified in the docstring and the count should match what you computed in question 5. [__`TIP:`__ _you might want to take a moment to write out what the expected output should be fore the test graph, this will help you know your code works as expected_]\n",
    " \n",
    "__`NOTE:`__ Please observe scalability best practices in the design of your code & comment your work clearly. You will be graded on both the clarity and the design."
   ]
  },
  {
   "cell_type": "markdown",
   "metadata": {
    "application/vnd.databricks.v1+cell": {
     "inputWidgets": {},
     "nuid": "d076a7fd-185b-4c00-94d7-e1331060f12d",
     "showTitle": false,
     "title": ""
    }
   },
   "source": [
    "### Q7 Student Answers:\n",
    "\n",
    "> __a)__ \\\\(N\\\\) is the number of nodes in the graph. In the context of the infinite random web-surfer, initializing each node's rank to \\\\(\\frac{1}{N}\\\\) means each node starts with the same mass.\n",
    "\n",
    "> __b)__ It will be more efficient to compute \\\\(N\\\\) after initializing the dangling nodes because then we can get the number of nodes by simply taking the count of records in the RDD, instead of iterating through each node's list of neighbors."
   ]
  },
  {
   "cell_type": "code",
   "execution_count": 0,
   "metadata": {
    "application/vnd.databricks.v1+cell": {
     "inputWidgets": {},
     "nuid": "30dca634-9b03-4a4e-ab11-b2f97c2ff303",
     "showTitle": false,
     "title": ""
    }
   },
   "outputs": [
    {
     "data": {
      "text/html": [
       "<style scoped>\n",
       "  .ansiout {\n",
       "    display: block;\n",
       "    unicode-bidi: embed;\n",
       "    white-space: pre-wrap;\n",
       "    word-wrap: break-word;\n",
       "    word-break: break-all;\n",
       "    font-family: \"Source Code Pro\", \"Menlo\", monospace;;\n",
       "    font-size: 13px;\n",
       "    color: #555;\n",
       "    margin-left: 4px;\n",
       "    line-height: 19px;\n",
       "  }\n",
       "</style>\n",
       "<div class=\"ansiout\"></div>"
      ]
     },
     "metadata": {
      "application/vnd.databricks.v1+output": {
       "addedWidgets": {},
       "arguments": {},
       "data": "<div class=\"ansiout\"></div>",
       "datasetInfos": [],
       "metadata": {},
       "removedWidgets": [],
       "type": "html"
      }
     },
     "output_type": "display_data"
    }
   ],
   "source": [
    "# part c - job to initialize the graph (RUN THIS CELL AS IS)\n",
    "def initGraph(dataRDD, node_count = None):\n",
    "    \"\"\"\n",
    "    Spark job to read in the raw data and initialize an \n",
    "    adjacency list representation with a record for each\n",
    "    node (including dangling nodes).\n",
    "    \n",
    "    Returns: \n",
    "        graphRDD -  a pair RDD of (node_id , (score, edges))\n",
    "        \n",
    "    NOTE: The score should be a float, but you may want to be \n",
    "    strategic about how format the edges... there are a few \n",
    "    options that can work. Make sure that whatever you choose\n",
    "    is sufficient for Question 8 where you'll run PageRank.\n",
    "    \"\"\"\n",
    "    ############## YOUR CODE HERE ###############\n",
    "\n",
    "    # write any helper functions here\n",
    "      \n",
    "    initScore = 1/count_nodes(dataRDD) \n",
    "    \n",
    "    def parse(line):\n",
    "        node, edges = line.split('\\t')\n",
    "        return (node, ast.literal_eval(edges))\n",
    "    \n",
    "    edges = dataRDD.map(parse)\n",
    "    \n",
    "    nodes = edges.flatMap(lambda x: [x[0]]+list(x[1])).distinct().map(lambda x: (x, dict()))  \n",
    "   \n",
    "    graphRDD = sc.union([nodes, edges])\\\n",
    "                 .reduceByKey(lambda a, b: {**a, **b})\\\n",
    "                 .map(lambda x: (x[0], (initScore, x[1])))\n",
    "\n",
    "    ############## (END) YOUR CODE ##############\n",
    "    \n",
    "    return graphRDD"
   ]
  },
  {
   "cell_type": "code",
   "execution_count": 0,
   "metadata": {
    "application/vnd.databricks.v1+cell": {
     "inputWidgets": {},
     "nuid": "034cc4eb-93bd-4ad0-b424-b74dd2dd9629",
     "showTitle": false,
     "title": ""
    }
   },
   "outputs": [
    {
     "data": {
      "text/html": [
       "<style scoped>\n",
       "  .ansiout {\n",
       "    display: block;\n",
       "    unicode-bidi: embed;\n",
       "    white-space: pre-wrap;\n",
       "    word-wrap: break-word;\n",
       "    word-break: break-all;\n",
       "    font-family: \"Source Code Pro\", \"Menlo\", monospace;;\n",
       "    font-size: 13px;\n",
       "    color: #555;\n",
       "    margin-left: 4px;\n",
       "    line-height: 19px;\n",
       "  }\n",
       "</style>\n",
       "<div class=\"ansiout\">... test graph initialized in 0.8267028331756592 seconds.\n",
       "Out[36]: [(&#39;4&#39;, (0.09090909090909091, {&#39;1&#39;: 1, &#39;2&#39;: 1})),\n",
       " (&#39;10&#39;, (0.09090909090909091, {&#39;5&#39;: 1})),\n",
       " (&#39;3&#39;, (0.09090909090909091, {&#39;2&#39;: 2})),\n",
       " (&#39;6&#39;, (0.09090909090909091, {&#39;2&#39;: 1, &#39;5&#39;: 2})),\n",
       " (&#39;7&#39;, (0.09090909090909091, {&#39;2&#39;: 1, &#39;5&#39;: 1})),\n",
       " (&#39;1&#39;, (0.09090909090909091, {})),\n",
       " (&#39;8&#39;, (0.09090909090909091, {&#39;2&#39;: 1, &#39;5&#39;: 1})),\n",
       " (&#39;9&#39;, (0.09090909090909091, {&#39;2&#39;: 1, &#39;5&#39;: 1})),\n",
       " (&#39;2&#39;, (0.09090909090909091, {&#39;3&#39;: 1})),\n",
       " (&#39;5&#39;, (0.09090909090909091, {&#39;4&#39;: 3, &#39;2&#39;: 1, &#39;6&#39;: 1})),\n",
       " (&#39;11&#39;, (0.09090909090909091, {&#39;5&#39;: 2}))]</div>"
      ]
     },
     "metadata": {
      "application/vnd.databricks.v1+output": {
       "addedWidgets": {},
       "arguments": {},
       "data": "<div class=\"ansiout\">... test graph initialized in 0.8267028331756592 seconds.\nOut[36]: [(&#39;4&#39;, (0.09090909090909091, {&#39;1&#39;: 1, &#39;2&#39;: 1})),\n (&#39;10&#39;, (0.09090909090909091, {&#39;5&#39;: 1})),\n (&#39;3&#39;, (0.09090909090909091, {&#39;2&#39;: 2})),\n (&#39;6&#39;, (0.09090909090909091, {&#39;2&#39;: 1, &#39;5&#39;: 2})),\n (&#39;7&#39;, (0.09090909090909091, {&#39;2&#39;: 1, &#39;5&#39;: 1})),\n (&#39;1&#39;, (0.09090909090909091, {})),\n (&#39;8&#39;, (0.09090909090909091, {&#39;2&#39;: 1, &#39;5&#39;: 1})),\n (&#39;9&#39;, (0.09090909090909091, {&#39;2&#39;: 1, &#39;5&#39;: 1})),\n (&#39;2&#39;, (0.09090909090909091, {&#39;3&#39;: 1})),\n (&#39;5&#39;, (0.09090909090909091, {&#39;4&#39;: 3, &#39;2&#39;: 1, &#39;6&#39;: 1})),\n (&#39;11&#39;, (0.09090909090909091, {&#39;5&#39;: 2}))]</div>",
       "datasetInfos": [],
       "metadata": {},
       "removedWidgets": [],
       "type": "html"
      }
     },
     "output_type": "display_data"
    }
   ],
   "source": [
    "# part c - run your Spark job on the test graph (RUN THIS CELL AS IS)\n",
    "start = time.time()\n",
    "testGraph = initGraph(testRDD).collect()\n",
    "print(f'... test graph initialized in {time.time() - start} seconds.')\n",
    "testGraph"
   ]
  },
  {
   "cell_type": "code",
   "execution_count": 0,
   "metadata": {
    "application/vnd.databricks.v1+cell": {
     "inputWidgets": {},
     "nuid": "bea8e2dc-3315-435d-a1ba-ebb637c37220",
     "showTitle": false,
     "title": ""
    }
   },
   "outputs": [
    {
     "data": {
      "text/html": [
       "<style scoped>\n",
       "  .ansiout {\n",
       "    display: block;\n",
       "    unicode-bidi: embed;\n",
       "    white-space: pre-wrap;\n",
       "    word-wrap: break-word;\n",
       "    word-break: break-all;\n",
       "    font-family: \"Source Code Pro\", \"Menlo\", monospace;;\n",
       "    font-size: 13px;\n",
       "    color: #555;\n",
       "    margin-left: 4px;\n",
       "    line-height: 19px;\n",
       "  }\n",
       "</style>\n",
       "<div class=\"ansiout\"></div>"
      ]
     },
     "metadata": {
      "application/vnd.databricks.v1+output": {
       "addedWidgets": {},
       "arguments": {},
       "data": "<div class=\"ansiout\"></div>",
       "datasetInfos": [],
       "metadata": {},
       "removedWidgets": [],
       "type": "html"
      }
     },
     "output_type": "display_data"
    }
   ],
   "source": [
    "from pyspark import StorageLevel"
   ]
  },
  {
   "cell_type": "code",
   "execution_count": 0,
   "metadata": {
    "application/vnd.databricks.v1+cell": {
     "inputWidgets": {},
     "nuid": "9c8452be-fb1f-4a84-923e-6b4305bbda03",
     "showTitle": false,
     "title": ""
    }
   },
   "outputs": [
    {
     "data": {
      "text/html": [
       "<style scoped>\n",
       "  .ansiout {\n",
       "    display: block;\n",
       "    unicode-bidi: embed;\n",
       "    white-space: pre-wrap;\n",
       "    word-wrap: break-word;\n",
       "    word-break: break-all;\n",
       "    font-family: \"Source Code Pro\", \"Menlo\", monospace;;\n",
       "    font-size: 13px;\n",
       "    color: #555;\n",
       "    margin-left: 4px;\n",
       "    line-height: 19px;\n",
       "  }\n",
       "</style>\n",
       "<div class=\"ansiout\">... full graph initialized in 229.36174297332764 seconds\n",
       "</div>"
      ]
     },
     "metadata": {
      "application/vnd.databricks.v1+output": {
       "addedWidgets": {},
       "arguments": {},
       "data": "<div class=\"ansiout\">... full graph initialized in 229.36174297332764 seconds\n</div>",
       "datasetInfos": [],
       "metadata": {},
       "removedWidgets": [],
       "type": "html"
      }
     },
     "output_type": "display_data"
    }
   ],
   "source": [
    "# part c - run your code on the main graph (RUN THIS CELL AS IS)\n",
    "start = time.time()\n",
    "wikiGraphRDD = initGraph(wikiRDD).persist(StorageLevel.MEMORY_AND_DISK)\n",
    "print(f'... full graph initialized in {time.time() - start} seconds')"
   ]
  },
  {
   "cell_type": "code",
   "execution_count": 0,
   "metadata": {
    "application/vnd.databricks.v1+cell": {
     "inputWidgets": {},
     "nuid": "fe2c9a8d-1c5b-47a6-9b9b-f62e7889548a",
     "showTitle": false,
     "title": ""
    }
   },
   "outputs": [
    {
     "data": {
      "text/html": [
       "<style scoped>\n",
       "  .ansiout {\n",
       "    display: block;\n",
       "    unicode-bidi: embed;\n",
       "    white-space: pre-wrap;\n",
       "    word-wrap: break-word;\n",
       "    word-break: break-all;\n",
       "    font-family: \"Source Code Pro\", \"Menlo\", monospace;;\n",
       "    font-size: 13px;\n",
       "    color: #555;\n",
       "    margin-left: 4px;\n",
       "    line-height: 19px;\n",
       "  }\n",
       "</style>\n",
       "<div class=\"ansiout\">Total number of records: 15192277\n",
       "First record: [(&#39;14869730&#39;, (6.582291778908455e-08, {}))]\n",
       "... initialization continued: 730.9391832351685 seconds\n",
       "</div>"
      ]
     },
     "metadata": {
      "application/vnd.databricks.v1+output": {
       "addedWidgets": {},
       "arguments": {},
       "data": "<div class=\"ansiout\">Total number of records: 15192277\nFirst record: [(&#39;14869730&#39;, (6.582291778908455e-08, {}))]\n... initialization continued: 730.9391832351685 seconds\n</div>",
       "datasetInfos": [],
       "metadata": {},
       "removedWidgets": [],
       "type": "html"
      }
     },
     "output_type": "display_data"
    }
   ],
   "source": [
    "# part c - confirm record format and count (RUN THIS CELL AS IS)\n",
    "start = time.time()\n",
    "print(f'Total number of records: {wikiGraphRDD.count()}')\n",
    "print(f'First record: {wikiGraphRDD.take(1)}')\n",
    "print(f'... initialization continued: {time.time() - start} seconds')"
   ]
  },
  {
   "cell_type": "markdown",
   "metadata": {
    "application/vnd.databricks.v1+cell": {
     "inputWidgets": {},
     "nuid": "0dcf0700-6867-4354-8fe3-6d9e8d209ae9",
     "showTitle": false,
     "title": ""
    }
   },
   "source": [
    "# Question 8 - PageRank part 2 (Iterate until convergence)\n",
    "\n",
    "Finally we're ready to compute the page rank. In this last question you'll write a Spark job that iterates over the initialized graph updating each nodes score until it reaches a convergence threshold. The diagram below gives a visual overview of the process using a 5 node toy graph. Pay particular attention to what happens to the dangling mass at each iteration.\n",
    "\n",
    "<img src='https://github.com/kyleiwaniec/w261_assets/blob/master/images/HW5/PR-illustrated.png?raw=true' width=50%>\n",
    "\n",
    "\n",
    "\n",
    "__`A Note about Notation:`__ The formula above describes how to compute the updated page rank for a node in the graph. The \\\\(P\\\\) on the left hand side of the equation is the new score, and the \\\\(P\\\\) on the right hand side of the equation represents the accumulated mass that was re-distributed from all of that node's in-links. Finally, \\\\(|G|\\\\) is the number of nodes in the graph (which we've elsewhere refered to as \\\\(N\\\\).\n",
    "\n",
    "### Q8 Tasks:\n",
    "* __a) short response:__ In terms of the infinite random walk analogy, interpret the meaning of the first term in the PageRank calculation: \\\\(\\alpha * \\frac{1}{|G|}\\\\)\n",
    "\n",
    "* __b) short response:__ In the equation for the PageRank calculation above what does \\\\(m\\\\) represent and why do we divide it by \\\\(|G|\\\\)?\n",
    "\n",
    "* __c) short response:__ Keeping track of the total probability mass after each update is a good way to confirm that your algorithm is on track. How much should the total mass be after each iteration?\n",
    "\n",
    "* __d) code:__ Fill in the missing code below to create a Spark job that take the initialized graph as its input then iterates over the graph and for each pass:\n",
    "  * reads in each record and redistributes the node's current score to each of its neighbors\n",
    "  * uses an accumulator to add up the dangling node mass and redistribute it among all the nodes. (_Don't forget to reset this accumulator after each iteration!_)\n",
    "  * uses an accumulator to keep track of the total mass being redistributed.( _This is just for your own check, its not part of the PageRank calculation. Don't forget to reset this accumulator after each iteration._)\n",
    "  * aggregates these partial scores for each node\n",
    "  * applies telportation and damping factors as described in the formula above.\n",
    "  * combine all of the above to compute the PageRank as described by the formula above.\n",
    "  * \n",
    "  \n",
    "   __WARNING: Some pages contain multiple hyperlinks to the same destination, please take this into account when redistributing the mass__.\n",
    "\n",
    " \n",
    "__`NOTE:`__ Please observe scalability best practices in the design of your code & comment your work clearly. You will be graded on both the clarity and the design."
   ]
  },
  {
   "cell_type": "markdown",
   "metadata": {
    "application/vnd.databricks.v1+cell": {
     "inputWidgets": {},
     "nuid": "33c92d16-7a67-4492-bca2-1be9135fbacb",
     "showTitle": false,
     "title": ""
    }
   },
   "source": [
    "### Q8 Student Answers:\n",
    "\n",
    "> __a)__ \\\\(\\alpha\\\\) is the probability of teleporting and \\\\(\\alpha * \\frac{1}{|G|}\\\\) distributes the teleporting probability across all nodes in the graph evenly.\n",
    "\n",
    "> __b)__ \\\\(m\\\\) is the dangling mass from nodes with no out-links and we divide it by \\\\(|G|\\\\) to distribute that mass evenly across all nodes in the graph.\n",
    "\n",
    "> __c)__ The total mass after each iteration should be 1 because the graph represents a probability distribution."
   ]
  },
  {
   "cell_type": "code",
   "execution_count": 0,
   "metadata": {
    "application/vnd.databricks.v1+cell": {
     "inputWidgets": {},
     "nuid": "895ef53c-27bc-4749-82b9-81a926782825",
     "showTitle": false,
     "title": ""
    }
   },
   "outputs": [
    {
     "data": {
      "text/html": [
       "<style scoped>\n",
       "  .ansiout {\n",
       "    display: block;\n",
       "    unicode-bidi: embed;\n",
       "    white-space: pre-wrap;\n",
       "    word-wrap: break-word;\n",
       "    word-break: break-all;\n",
       "    font-family: \"Source Code Pro\", \"Menlo\", monospace;;\n",
       "    font-size: 13px;\n",
       "    color: #555;\n",
       "    margin-left: 4px;\n",
       "    line-height: 19px;\n",
       "  }\n",
       "</style>\n",
       "<div class=\"ansiout\"></div>"
      ]
     },
     "metadata": {
      "application/vnd.databricks.v1+output": {
       "addedWidgets": {},
       "arguments": {},
       "data": "<div class=\"ansiout\"></div>",
       "datasetInfos": [],
       "metadata": {},
       "removedWidgets": [],
       "type": "html"
      }
     },
     "output_type": "display_data"
    }
   ],
   "source": [
    "# part d - provided FloatAccumulator class (RUN THIS CELL AS IS)\n",
    "\n",
    "from pyspark.accumulators import AccumulatorParam\n",
    "\n",
    "class FloatAccumulatorParam(AccumulatorParam):\n",
    "    \"\"\"\n",
    "    Custom accumulator for use in page rank to keep track of various masses.\n",
    "    \n",
    "    IMPORTANT: accumulators should only be called inside actions to avoid duplication.\n",
    "    We strongly recommend you use the 'foreach' action in your implementation below.\n",
    "    \"\"\"\n",
    "    def zero(self, value):\n",
    "        return value\n",
    "    def addInPlace(self, val1, val2):\n",
    "        return val1 + val2"
   ]
  },
  {
   "cell_type": "code",
   "execution_count": 0,
   "metadata": {
    "application/vnd.databricks.v1+cell": {
     "inputWidgets": {},
     "nuid": "270a1f1d-4e8a-4a3d-891c-954f7c25b7ea",
     "showTitle": false,
     "title": ""
    }
   },
   "outputs": [
    {
     "data": {
      "text/html": [
       "<style scoped>\n",
       "  .ansiout {\n",
       "    display: block;\n",
       "    unicode-bidi: embed;\n",
       "    white-space: pre-wrap;\n",
       "    word-wrap: break-word;\n",
       "    word-break: break-all;\n",
       "    font-family: \"Source Code Pro\", \"Menlo\", monospace;;\n",
       "    font-size: 13px;\n",
       "    color: #555;\n",
       "    margin-left: 4px;\n",
       "    line-height: 19px;\n",
       "  }\n",
       "</style>\n",
       "<div class=\"ansiout\"></div>"
      ]
     },
     "metadata": {
      "application/vnd.databricks.v1+output": {
       "addedWidgets": {},
       "arguments": {},
       "data": "<div class=\"ansiout\"></div>",
       "datasetInfos": [],
       "metadata": {},
       "removedWidgets": [],
       "type": "html"
      }
     },
     "output_type": "display_data"
    }
   ],
   "source": [
    "### part d - job to run PageRank (RUN THIS CELL AS IS)\n",
    "#v2\n",
    "\n",
    "def runPageRank(graphInitRDD, alpha = 0.15, maxIter = 10, verbose = True):\n",
    "    \"\"\"\n",
    "    Spark job to implement page rank\n",
    "    Args: \n",
    "        graphInitRDD  - pair RDD of (node_id , (score, edges))\n",
    "        alpha         - (float) teleportation factor\n",
    "        maxIter       - (int) stopping criteria (number of iterations)\n",
    "        verbose       - (bool) option to print logging info after each iteration\n",
    "    Returns:\n",
    "        steadyStateRDD - pair RDD of (node_id, pageRank)\n",
    "    \"\"\"\n",
    "    # teleportation:\n",
    "    a = sc.broadcast(alpha)\n",
    "    \n",
    "    # damping factor:\n",
    "    d = sc.broadcast(1-a.value)\n",
    "    \n",
    "    # initialize accumulators for dangling mass & total mass\n",
    "    mmAccum = sc.accumulator(0.0, FloatAccumulatorParam())\n",
    "    totAccum = sc.accumulator(0.0, FloatAccumulatorParam())\n",
    "    \n",
    "    ############## YOUR CODE HERE ###############\n",
    "    # write your helper functions here, \n",
    "    # please document the purpose of each clearly \n",
    "    # for reference, the master solution has 5 helper functions.\n",
    "    \n",
    "    def edge_count(neighbors_dict):\n",
    "      '''Get total count of edges (not distinct) for node'''\n",
    "      edge_count = sum([neighbors_dict[i] for i in neighbors_dict.keys()])\n",
    "      return edge_count\n",
    "    \n",
    "    def redistribute_node_scores(line):\n",
    "      '''Redistributes node score to neighbor nodes\n",
    "      input: Record format (node, (score, adj_list))\n",
    "      output: Record format (node, damping value * mass from neighboring node)\n",
    "      '''\n",
    "      score, neighbors = line[1][0], line[1][1]\n",
    "      edge_count_ = edge_count(neighbors)\n",
    "      for i in line[1][1]:\n",
    "        yield (i, d.value*score*neighbors[i]/edge_count_)\n",
    "\n",
    "      \n",
    "    def track_mass(x):\n",
    "      '''Calculate dangling mass and total mass'''\n",
    "      totAccum.add(x[1][0])\n",
    "      if not x[1][1]: # if empty adjacency list\n",
    "        mmAccum.add(x[1][0]) #add score for node to mmAccum\n",
    "      else:\n",
    "        pass\n",
    "  \n",
    "    def apply_factors(steadyStateRDD, neighbor_RDD):\n",
    "      '''Combine scores with teleportation and damping factors applied\n",
    "      '''\n",
    "      \n",
    "      \n",
    "      factor_RDD = steadyStateRDD.map(lambda x: (x[0], (dm_score+tel_score, x[1][1])))\\\n",
    "                                 .union(neighbor_RDD)\\\n",
    "                                 .reduceByKey(lambda a, b: (a[0] + b[0], {**a[1], **b[1]}))\\\n",
    "                                 .map(lambda x: (x[0], (x[1][0],x[1][1])))\n",
    "      return factor_RDD\n",
    "      \n",
    "    # write your main Spark Job here (including the for loop to iterate)\n",
    "    # for reference, the master solution is 21 lines including comments & whitespace\n",
    "    node_count = graphInitRDD.count()\n",
    "    print('Node count:',node_count)\n",
    "    \n",
    "    tel_score = a.value/float(node_count)\n",
    "        \n",
    "    steadyStateRDD = graphInitRDD\n",
    "    \n",
    "    for num_iter in range(0, maxIter):\n",
    "      print(f'Start iter {num_iter+1}')\n",
    "      \n",
    "      steadyStateRDD.foreach(track_mass)\n",
    "      dangling_node_mass = mmAccum.value\n",
    "      dm_score = d.value*dangling_node_mass/node_count\n",
    "      print(f'Dangling mass iter {num_iter+1}:',dangling_node_mass)\n",
    "      print(f'Total mass iter {num_iter+1}:', totAccum.value)\n",
    "      \n",
    "      neighbor_RDD = steadyStateRDD.flatMap(redistribute_node_scores).reduceByKey(lambda x, y: x+y).map(lambda x: (x[0], (x[1],{})))\n",
    "      \n",
    "      steadyStateRDD = apply_factors(steadyStateRDD, neighbor_RDD)\n",
    "      \n",
    "      #reset accumulators for next iteration\n",
    "      mmAccum.value = 0\n",
    "      totAccum.value = 0\n",
    "      \n",
    "      print(f'Done iter {num_iter+1} \\n')\n",
    "    final = steadyStateRDD.map(lambda x: (x[0], x[1][0]))\n",
    "\n",
    "    ############## (END) YOUR CODE ###############\n",
    "    \n",
    "    return final"
   ]
  },
  {
   "cell_type": "code",
   "execution_count": 0,
   "metadata": {
    "application/vnd.databricks.v1+cell": {
     "inputWidgets": {},
     "nuid": "c2d3caf2-4f9a-496c-9cfb-17fee9eedf95",
     "showTitle": false,
     "title": ""
    }
   },
   "outputs": [
    {
     "data": {
      "text/html": [
       "<style scoped>\n",
       "  .ansiout {\n",
       "    display: block;\n",
       "    unicode-bidi: embed;\n",
       "    white-space: pre-wrap;\n",
       "    word-wrap: break-word;\n",
       "    word-break: break-all;\n",
       "    font-family: \"Source Code Pro\", \"Menlo\", monospace;;\n",
       "    font-size: 13px;\n",
       "    color: #555;\n",
       "    margin-left: 4px;\n",
       "    line-height: 19px;\n",
       "  }\n",
       "</style>\n",
       "<div class=\"ansiout\">Node count: 11\n",
       "RDD initialized\n",
       "Start iter 1\n",
       "Dangling mass iter 1: 0.09090909090909091\n",
       "Total mass iter 1: 1.0\n",
       "neighbor_RDD done\n",
       "factored RDD done, new steady state set\n",
       "neighbor RDD unpersisted\n",
       "Done iter 1 \n",
       "\n",
       "Start iter 2\n",
       "Dangling mass iter 2: 0.059297520661157024\n",
       "Total mass iter 2: 0.9999999999999999\n",
       "neighbor_RDD done\n",
       "factored RDD done, new steady state set\n",
       "neighbor RDD unpersisted\n",
       "Done iter 2 \n",
       "\n",
       "Start iter 3\n",
       "Dangling mass iter 3: 0.046703981968444774\n",
       "Total mass iter 3: 0.9999999999999999\n",
       "neighbor_RDD done\n",
       "factored RDD done, new steady state set\n",
       "neighbor RDD unpersisted\n",
       "Done iter 3 \n",
       "\n",
       "Start iter 4\n",
       "Dangling mass iter 4: 0.09925338433167132\n",
       "Total mass iter 4: 0.9999999999999998\n",
       "neighbor_RDD done\n",
       "factored RDD done, new steady state set\n",
       "neighbor RDD unpersisted\n",
       "Done iter 4 \n",
       "\n",
       "Start iter 5\n",
       "Dangling mass iter 5: 0.050342917879662344\n",
       "Total mass iter 5: 0.9999999999999998\n",
       "neighbor_RDD done\n",
       "factored RDD done, new steady state set\n",
       "neighbor RDD unpersisted\n",
       "Done iter 5 \n",
       "\n",
       "Start iter 6\n",
       "Dangling mass iter 6: 0.05145916544900261\n",
       "Total mass iter 6: 0.9999999999999998\n",
       "neighbor_RDD done\n",
       "factored RDD done, new steady state set\n",
       "neighbor RDD unpersisted\n",
       "Done iter 6 \n",
       "\n",
       "Start iter 7\n",
       "Dangling mass iter 7: 0.04500922379221684\n",
       "Total mass iter 7: 0.9999999999999998\n",
       "neighbor_RDD done\n",
       "factored RDD done, new steady state set\n",
       "neighbor RDD unpersisted\n",
       "Done iter 7 \n",
       "\n",
       "Start iter 8\n",
       "Dangling mass iter 8: 0.04715082459390296\n",
       "Total mass iter 8: 0.9999999999999998\n",
       "neighbor_RDD done\n",
       "factored RDD done, new steady state set\n",
       "neighbor RDD unpersisted\n",
       "Done iter 8 \n",
       "\n",
       "Start iter 9\n",
       "Dangling mass iter 9: 0.04374695430399097\n",
       "Total mass iter 9: 0.9999999999999997\n",
       "neighbor_RDD done\n",
       "factored RDD done, new steady state set\n",
       "neighbor RDD unpersisted\n",
       "Done iter 9 \n",
       "\n",
       "Start iter 10\n",
       "Dangling mass iter 10: 0.04376323453143378\n",
       "Total mass iter 10: 0.9999999999999996\n",
       "neighbor_RDD done\n",
       "factored RDD done, new steady state set\n",
       "neighbor RDD unpersisted\n",
       "Done iter 10 \n",
       "\n",
       "Start iter 11\n",
       "Dangling mass iter 11: 0.04298252973766269\n",
       "Total mass iter 11: 0.9999999999999997\n",
       "neighbor_RDD done\n",
       "factored RDD done, new steady state set\n",
       "neighbor RDD unpersisted\n",
       "Done iter 11 \n",
       "\n",
       "Start iter 12\n",
       "Dangling mass iter 12: 0.04301289483938668\n",
       "Total mass iter 12: 0.9999999999999996\n",
       "neighbor_RDD done\n",
       "factored RDD done, new steady state set\n",
       "neighbor RDD unpersisted\n",
       "Done iter 12 \n",
       "\n",
       "Start iter 13\n",
       "Dangling mass iter 13: 0.04272340069209819\n",
       "Total mass iter 13: 0.9999999999999996\n",
       "neighbor_RDD done\n",
       "factored RDD done, new steady state set\n",
       "neighbor RDD unpersisted\n",
       "Done iter 13 \n",
       "\n",
       "Start iter 14\n",
       "Dangling mass iter 14: 0.04269860289957524\n",
       "Total mass iter 14: 0.9999999999999996\n",
       "neighbor_RDD done\n",
       "factored RDD done, new steady state set\n",
       "neighbor RDD unpersisted\n",
       "Done iter 14 \n",
       "\n",
       "Start iter 15\n",
       "Dangling mass iter 15: 0.04261573341659148\n",
       "Total mass iter 15: 0.9999999999999996\n",
       "neighbor_RDD done\n",
       "factored RDD done, new steady state set\n",
       "neighbor RDD unpersisted\n",
       "Done iter 15 \n",
       "\n",
       "Start iter 16\n",
       "Dangling mass iter 16: 0.04260513806736247\n",
       "Total mass iter 16: 0.9999999999999996\n",
       "neighbor_RDD done\n",
       "factored RDD done, new steady state set\n",
       "neighbor RDD unpersisted\n",
       "Done iter 16 \n",
       "\n",
       "Start iter 17\n",
       "Dangling mass iter 17: 0.042577127384672134\n",
       "Total mass iter 17: 0.9999999999999997\n",
       "neighbor_RDD done\n",
       "factored RDD done, new steady state set\n",
       "neighbor RDD unpersisted\n",
       "Done iter 17 \n",
       "\n",
       "Start iter 18\n",
       "Dangling mass iter 18: 0.04257143065691667\n",
       "Total mass iter 18: 0.9999999999999996\n",
       "neighbor_RDD done\n",
       "factored RDD done, new steady state set\n",
       "neighbor RDD unpersisted\n",
       "Done iter 18 \n",
       "\n",
       "Start iter 19\n",
       "Dangling mass iter 19: 0.042562620053722085\n",
       "Total mass iter 19: 0.9999999999999996\n",
       "neighbor_RDD done\n",
       "factored RDD done, new steady state set\n",
       "neighbor RDD unpersisted\n",
       "Done iter 19 \n",
       "\n",
       "Start iter 20\n",
       "Dangling mass iter 20: 0.04256034774246815\n",
       "Total mass iter 20: 0.9999999999999996\n",
       "neighbor_RDD done\n",
       "factored RDD done, new steady state set\n",
       "neighbor RDD unpersisted\n",
       "Done iter 20 \n",
       "\n",
       "...trained 20 iterations in 11.808703660964966 seconds.\n",
       "Top 20 ranked nodes:\n",
       "Out[17]: [(&#39;2&#39;, (0.3620640495978872, {&#39;3&#39;: 1})),\n",
       " (&#39;3&#39;, (0.333992700474142, {&#39;2&#39;: 2})),\n",
       " (&#39;5&#39;, (0.08506399429624556, {&#39;4&#39;: 3, &#39;2&#39;: 1, &#39;6&#39;: 1})),\n",
       " (&#39;4&#39;, (0.06030963508473455, {&#39;1&#39;: 1, &#39;2&#39;: 1})),\n",
       " (&#39;1&#39;, (0.04255740809817991, {})),\n",
       " (&#39;6&#39;, (0.03138662354831139, {&#39;2&#39;: 1, &#39;5&#39;: 2})),\n",
       " (&#39;10&#39;, (0.01692511778009981, {&#39;5&#39;: 1})),\n",
       " (&#39;7&#39;, (0.01692511778009981, {&#39;2&#39;: 1, &#39;5&#39;: 1})),\n",
       " (&#39;8&#39;, (0.01692511778009981, {&#39;2&#39;: 1, &#39;5&#39;: 1})),\n",
       " (&#39;9&#39;, (0.01692511778009981, {&#39;2&#39;: 1, &#39;5&#39;: 1})),\n",
       " (&#39;11&#39;, (0.01692511778009981, {&#39;5&#39;: 2}))]</div>"
      ]
     },
     "metadata": {
      "application/vnd.databricks.v1+output": {
       "addedWidgets": {},
       "arguments": {},
       "data": "<div class=\"ansiout\">Node count: 11\nRDD initialized\nStart iter 1\nDangling mass iter 1: 0.09090909090909091\nTotal mass iter 1: 1.0\nneighbor_RDD done\nfactored RDD done, new steady state set\nneighbor RDD unpersisted\nDone iter 1 \n\nStart iter 2\nDangling mass iter 2: 0.059297520661157024\nTotal mass iter 2: 0.9999999999999999\nneighbor_RDD done\nfactored RDD done, new steady state set\nneighbor RDD unpersisted\nDone iter 2 \n\nStart iter 3\nDangling mass iter 3: 0.046703981968444774\nTotal mass iter 3: 0.9999999999999999\nneighbor_RDD done\nfactored RDD done, new steady state set\nneighbor RDD unpersisted\nDone iter 3 \n\nStart iter 4\nDangling mass iter 4: 0.09925338433167132\nTotal mass iter 4: 0.9999999999999998\nneighbor_RDD done\nfactored RDD done, new steady state set\nneighbor RDD unpersisted\nDone iter 4 \n\nStart iter 5\nDangling mass iter 5: 0.050342917879662344\nTotal mass iter 5: 0.9999999999999998\nneighbor_RDD done\nfactored RDD done, new steady state set\nneighbor RDD unpersisted\nDone iter 5 \n\nStart iter 6\nDangling mass iter 6: 0.05145916544900261\nTotal mass iter 6: 0.9999999999999998\nneighbor_RDD done\nfactored RDD done, new steady state set\nneighbor RDD unpersisted\nDone iter 6 \n\nStart iter 7\nDangling mass iter 7: 0.04500922379221684\nTotal mass iter 7: 0.9999999999999998\nneighbor_RDD done\nfactored RDD done, new steady state set\nneighbor RDD unpersisted\nDone iter 7 \n\nStart iter 8\nDangling mass iter 8: 0.04715082459390296\nTotal mass iter 8: 0.9999999999999998\nneighbor_RDD done\nfactored RDD done, new steady state set\nneighbor RDD unpersisted\nDone iter 8 \n\nStart iter 9\nDangling mass iter 9: 0.04374695430399097\nTotal mass iter 9: 0.9999999999999997\nneighbor_RDD done\nfactored RDD done, new steady state set\nneighbor RDD unpersisted\nDone iter 9 \n\nStart iter 10\nDangling mass iter 10: 0.04376323453143378\nTotal mass iter 10: 0.9999999999999996\nneighbor_RDD done\nfactored RDD done, new steady state set\nneighbor RDD unpersisted\nDone iter 10 \n\nStart iter 11\nDangling mass iter 11: 0.04298252973766269\nTotal mass iter 11: 0.9999999999999997\nneighbor_RDD done\nfactored RDD done, new steady state set\nneighbor RDD unpersisted\nDone iter 11 \n\nStart iter 12\nDangling mass iter 12: 0.04301289483938668\nTotal mass iter 12: 0.9999999999999996\nneighbor_RDD done\nfactored RDD done, new steady state set\nneighbor RDD unpersisted\nDone iter 12 \n\nStart iter 13\nDangling mass iter 13: 0.04272340069209819\nTotal mass iter 13: 0.9999999999999996\nneighbor_RDD done\nfactored RDD done, new steady state set\nneighbor RDD unpersisted\nDone iter 13 \n\nStart iter 14\nDangling mass iter 14: 0.04269860289957524\nTotal mass iter 14: 0.9999999999999996\nneighbor_RDD done\nfactored RDD done, new steady state set\nneighbor RDD unpersisted\nDone iter 14 \n\nStart iter 15\nDangling mass iter 15: 0.04261573341659148\nTotal mass iter 15: 0.9999999999999996\nneighbor_RDD done\nfactored RDD done, new steady state set\nneighbor RDD unpersisted\nDone iter 15 \n\nStart iter 16\nDangling mass iter 16: 0.04260513806736247\nTotal mass iter 16: 0.9999999999999996\nneighbor_RDD done\nfactored RDD done, new steady state set\nneighbor RDD unpersisted\nDone iter 16 \n\nStart iter 17\nDangling mass iter 17: 0.042577127384672134\nTotal mass iter 17: 0.9999999999999997\nneighbor_RDD done\nfactored RDD done, new steady state set\nneighbor RDD unpersisted\nDone iter 17 \n\nStart iter 18\nDangling mass iter 18: 0.04257143065691667\nTotal mass iter 18: 0.9999999999999996\nneighbor_RDD done\nfactored RDD done, new steady state set\nneighbor RDD unpersisted\nDone iter 18 \n\nStart iter 19\nDangling mass iter 19: 0.042562620053722085\nTotal mass iter 19: 0.9999999999999996\nneighbor_RDD done\nfactored RDD done, new steady state set\nneighbor RDD unpersisted\nDone iter 19 \n\nStart iter 20\nDangling mass iter 20: 0.04256034774246815\nTotal mass iter 20: 0.9999999999999996\nneighbor_RDD done\nfactored RDD done, new steady state set\nneighbor RDD unpersisted\nDone iter 20 \n\n...trained 20 iterations in 11.808703660964966 seconds.\nTop 20 ranked nodes:\nOut[17]: [(&#39;2&#39;, (0.3620640495978872, {&#39;3&#39;: 1})),\n (&#39;3&#39;, (0.333992700474142, {&#39;2&#39;: 2})),\n (&#39;5&#39;, (0.08506399429624556, {&#39;4&#39;: 3, &#39;2&#39;: 1, &#39;6&#39;: 1})),\n (&#39;4&#39;, (0.06030963508473455, {&#39;1&#39;: 1, &#39;2&#39;: 1})),\n (&#39;1&#39;, (0.04255740809817991, {})),\n (&#39;6&#39;, (0.03138662354831139, {&#39;2&#39;: 1, &#39;5&#39;: 2})),\n (&#39;10&#39;, (0.01692511778009981, {&#39;5&#39;: 1})),\n (&#39;7&#39;, (0.01692511778009981, {&#39;2&#39;: 1, &#39;5&#39;: 1})),\n (&#39;8&#39;, (0.01692511778009981, {&#39;2&#39;: 1, &#39;5&#39;: 1})),\n (&#39;9&#39;, (0.01692511778009981, {&#39;2&#39;: 1, &#39;5&#39;: 1})),\n (&#39;11&#39;, (0.01692511778009981, {&#39;5&#39;: 2}))]</div>",
       "datasetInfos": [],
       "metadata": {},
       "removedWidgets": [],
       "type": "html"
      }
     },
     "output_type": "display_data"
    }
   ],
   "source": [
    "# part d - run PageRank on the test graph (RUN THIS CELL AS IS)\n",
    "# NOTE: while developing your code you may want turn on the verbose option\n",
    "\n",
    "#top 20 output is at the end if you double click into the output\n",
    "nIter = 20\n",
    "testGraphRDD = initGraph(testRDD)\n",
    "start = time.time()\n",
    "test_results = runPageRank(testGraphRDD, alpha = 0.15, maxIter = nIter, verbose = False)\n",
    "print(f'...trained {nIter} iterations in {time.time() - start} seconds.')\n",
    "print(f'Top 20 ranked nodes:')\n",
    "test_results.takeOrdered(20, key=lambda x: -x[1][0])"
   ]
  },
  {
   "cell_type": "markdown",
   "metadata": {
    "application/vnd.databricks.v1+cell": {
     "inputWidgets": {},
     "nuid": "045ea11a-feaf-4392-a23b-77ecaa0809dd",
     "showTitle": false,
     "title": ""
    }
   },
   "source": [
    "__`expected results for the test graph:`__\n",
    "```\n",
    "[(2, 0.3620640495978871),\n",
    " (3, 0.333992700474142),\n",
    " (5, 0.08506399429624555),\n",
    " (4, 0.06030963508473455),\n",
    " (1, 0.04255740809817991),\n",
    " (6, 0.03138662354831139),\n",
    " (8, 0.01692511778009981),\n",
    " (10, 0.01692511778009981),\n",
    " (7, 0.01692511778009981),\n",
    " (9, 0.01692511778009981),\n",
    " (11, 0.01692511778009981)]\n",
    "```"
   ]
  },
  {
   "cell_type": "code",
   "execution_count": 0,
   "metadata": {
    "application/vnd.databricks.v1+cell": {
     "inputWidgets": {},
     "nuid": "2365e763-eeb5-4d18-9f45-e6c6cdee04d7",
     "showTitle": false,
     "title": ""
    }
   },
   "outputs": [
    {
     "data": {
      "text/html": [
       "<style scoped>\n",
       "  .ansiout {\n",
       "    display: block;\n",
       "    unicode-bidi: embed;\n",
       "    white-space: pre-wrap;\n",
       "    word-wrap: break-word;\n",
       "    word-break: break-all;\n",
       "    font-family: \"Source Code Pro\", \"Menlo\", monospace;;\n",
       "    font-size: 13px;\n",
       "    color: #555;\n",
       "    margin-left: 4px;\n",
       "    line-height: 19px;\n",
       "  }\n",
       "</style>\n",
       "<div class=\"ansiout\">Node count: 15192277\n",
       "Start iter 1\n",
       "Dangling mass iter 1: 0.6194586236098557\n",
       "Total mass iter 1: 0.9999999999595903\n",
       "Done iter 1 \n",
       "\n",
       "Start iter 2\n",
       "Dangling mass iter 2: 0.4962366552192979\n",
       "Total mass iter 2: 0.9999999999954103\n",
       "Done iter 2 \n",
       "\n",
       "Start iter 3\n",
       "Dangling mass iter 3: 0.4584589663974532\n",
       "Total mass iter 3: 0.9999999999960163\n",
       "Done iter 3 \n",
       "\n",
       "Start iter 4\n",
       "Dangling mass iter 4: 0.4451862457952334\n",
       "Total mass iter 4: 0.9999999999967087\n",
       "Done iter 4 \n",
       "\n",
       "Start iter 5\n",
       "Dangling mass iter 5: 0.4402014781851385\n",
       "Total mass iter 5: 0.9999999999972035\n",
       "Done iter 5 \n",
       "\n",
       "Start iter 6\n",
       "Dangling mass iter 6: 0.43818412109529936\n",
       "Total mass iter 6: 0.9999999999975798\n",
       "Done iter 6 \n",
       "\n",
       "Start iter 7\n",
       "Dangling mass iter 7: 0.43732676186246733\n",
       "Total mass iter 7: 0.9999999999980127\n",
       "Done iter 7 \n",
       "\n",
       "Start iter 8\n",
       "Dangling mass iter 8: 0.4369451581438253\n",
       "Total mass iter 8: 0.9999999999983148\n",
       "Done iter 8 \n",
       "\n",
       "Start iter 9\n",
       "Dangling mass iter 9: 0.43676848971970594\n",
       "Total mass iter 9: 0.9999999999985637\n",
       "Done iter 9 \n",
       "\n",
       "Start iter 10\n",
       "Dangling mass iter 10: 0.4366834304271521\n",
       "Total mass iter 10: 0.9999999999987685\n",
       "Done iter 10 \n",
       "\n",
       "...trained 10 iterations in 3648.5179829597473 seconds.\n",
       "Top 20 ranked nodes:\n",
       "Out[13]: [(&#39;13455888&#39;, 0.0015447247129789605),\n",
       " (&#39;4695850&#39;, 0.0006710240718888303),\n",
       " (&#39;5051368&#39;, 0.0005983856809731409),\n",
       " (&#39;1184351&#39;, 0.0005982073536454028),\n",
       " (&#39;2437837&#39;, 0.00046249289289277556),\n",
       " (&#39;6076759&#39;, 0.0004550940064132748),\n",
       " (&#39;4196067&#39;, 0.0004423778888360382),\n",
       " (&#39;13425865&#39;, 0.00044155351714213995),\n",
       " (&#39;6172466&#39;, 0.00042240020018337755),\n",
       " (&#39;1384888&#39;, 0.0004012895604064981),\n",
       " (&#39;6113490&#39;, 0.00039578924771719573),\n",
       " (&#39;14112583&#39;, 0.00039438472837428147),\n",
       " (&#39;7902219&#39;, 0.000370098784734677),\n",
       " (&#39;10390714&#39;, 0.00036502649643178566),\n",
       " (&#39;12836211&#39;, 0.0003619948863102653),\n",
       " (&#39;6237129&#39;, 0.0003519555847615397),\n",
       " (&#39;6416278&#39;, 0.0003486623564517178),\n",
       " (&#39;13432150&#39;, 0.00033936510637318386),\n",
       " (&#39;1516699&#39;, 0.00033297500286151674),\n",
       " (&#39;7990491&#39;, 0.0003076090626577732)]</div>"
      ]
     },
     "metadata": {
      "application/vnd.databricks.v1+output": {
       "addedWidgets": {},
       "arguments": {},
       "data": "<div class=\"ansiout\">Node count: 15192277\nStart iter 1\nDangling mass iter 1: 0.6194586236098557\nTotal mass iter 1: 0.9999999999595903\nDone iter 1 \n\nStart iter 2\nDangling mass iter 2: 0.4962366552192979\nTotal mass iter 2: 0.9999999999954103\nDone iter 2 \n\nStart iter 3\nDangling mass iter 3: 0.4584589663974532\nTotal mass iter 3: 0.9999999999960163\nDone iter 3 \n\nStart iter 4\nDangling mass iter 4: 0.4451862457952334\nTotal mass iter 4: 0.9999999999967087\nDone iter 4 \n\nStart iter 5\nDangling mass iter 5: 0.4402014781851385\nTotal mass iter 5: 0.9999999999972035\nDone iter 5 \n\nStart iter 6\nDangling mass iter 6: 0.43818412109529936\nTotal mass iter 6: 0.9999999999975798\nDone iter 6 \n\nStart iter 7\nDangling mass iter 7: 0.43732676186246733\nTotal mass iter 7: 0.9999999999980127\nDone iter 7 \n\nStart iter 8\nDangling mass iter 8: 0.4369451581438253\nTotal mass iter 8: 0.9999999999983148\nDone iter 8 \n\nStart iter 9\nDangling mass iter 9: 0.43676848971970594\nTotal mass iter 9: 0.9999999999985637\nDone iter 9 \n\nStart iter 10\nDangling mass iter 10: 0.4366834304271521\nTotal mass iter 10: 0.9999999999987685\nDone iter 10 \n\n...trained 10 iterations in 3648.5179829597473 seconds.\nTop 20 ranked nodes:\nOut[13]: [(&#39;13455888&#39;, 0.0015447247129789605),\n (&#39;4695850&#39;, 0.0006710240718888303),\n (&#39;5051368&#39;, 0.0005983856809731409),\n (&#39;1184351&#39;, 0.0005982073536454028),\n (&#39;2437837&#39;, 0.00046249289289277556),\n (&#39;6076759&#39;, 0.0004550940064132748),\n (&#39;4196067&#39;, 0.0004423778888360382),\n (&#39;13425865&#39;, 0.00044155351714213995),\n (&#39;6172466&#39;, 0.00042240020018337755),\n (&#39;1384888&#39;, 0.0004012895604064981),\n (&#39;6113490&#39;, 0.00039578924771719573),\n (&#39;14112583&#39;, 0.00039438472837428147),\n (&#39;7902219&#39;, 0.000370098784734677),\n (&#39;10390714&#39;, 0.00036502649643178566),\n (&#39;12836211&#39;, 0.0003619948863102653),\n (&#39;6237129&#39;, 0.0003519555847615397),\n (&#39;6416278&#39;, 0.0003486623564517178),\n (&#39;13432150&#39;, 0.00033936510637318386),\n (&#39;1516699&#39;, 0.00033297500286151674),\n (&#39;7990491&#39;, 0.0003076090626577732)]</div>",
       "datasetInfos": [],
       "metadata": {},
       "removedWidgets": [],
       "type": "html"
      }
     },
     "output_type": "display_data"
    }
   ],
   "source": [
    "# part d - run PageRank on the full graph (RUN THIS CELL AS IS)\n",
    "# NOTE: wikiGraphRDD should have been computed & cached above!\n",
    "\n",
    "nIter = 10\n",
    "start = time.time()\n",
    "full_results = runPageRank(wikiGraphRDD, alpha = 0.15, maxIter = nIter, verbose = True)\n",
    "print(f'...trained {nIter} iterations in {time.time() - start} seconds.')\n",
    "print(f'Top 20 ranked nodes:')\n",
    "full_results.takeOrdered(20, key=lambda x: - x[1])"
   ]
  },
  {
   "cell_type": "code",
   "execution_count": 0,
   "metadata": {
    "application/vnd.databricks.v1+cell": {
     "inputWidgets": {},
     "nuid": "bb49e440-cb22-4b80-9be6-a75766b940b8",
     "showTitle": false,
     "title": ""
    }
   },
   "outputs": [
    {
     "data": {
      "text/html": [
       "<style scoped>\n",
       "  .ansiout {\n",
       "    display: block;\n",
       "    unicode-bidi: embed;\n",
       "    white-space: pre-wrap;\n",
       "    word-wrap: break-word;\n",
       "    word-break: break-all;\n",
       "    font-family: \"Source Code Pro\", \"Menlo\", monospace;;\n",
       "    font-size: 13px;\n",
       "    color: #555;\n",
       "    margin-left: 4px;\n",
       "    line-height: 19px;\n",
       "  }\n",
       "</style>\n",
       "<div class=\"ansiout\"></div>"
      ]
     },
     "metadata": {
      "application/vnd.databricks.v1+output": {
       "addedWidgets": {},
       "arguments": {},
       "data": "<div class=\"ansiout\"></div>",
       "datasetInfos": [],
       "metadata": {},
       "removedWidgets": [],
       "type": "html"
      }
     },
     "output_type": "display_data"
    }
   ],
   "source": [
    "top_20 = full_results.takeOrdered(20, key=lambda x: - x[1])"
   ]
  },
  {
   "cell_type": "code",
   "execution_count": 0,
   "metadata": {
    "application/vnd.databricks.v1+cell": {
     "inputWidgets": {},
     "nuid": "b4c4c29d-6d53-47eb-8aec-5fc995cd5bec",
     "showTitle": false,
     "title": ""
    }
   },
   "outputs": [
    {
     "data": {
      "text/html": [
       "<style scoped>\n",
       "  .ansiout {\n",
       "    display: block;\n",
       "    unicode-bidi: embed;\n",
       "    white-space: pre-wrap;\n",
       "    word-wrap: break-word;\n",
       "    word-break: break-all;\n",
       "    font-family: \"Source Code Pro\", \"Menlo\", monospace;;\n",
       "    font-size: 13px;\n",
       "    color: #555;\n",
       "    margin-left: 4px;\n",
       "    line-height: 19px;\n",
       "  }\n",
       "</style>\n",
       "<div class=\"ansiout\">Out[15]: [(&#39;13455888&#39;, 0.0015447247129789605),\n",
       " (&#39;4695850&#39;, 0.0006710240718888303),\n",
       " (&#39;5051368&#39;, 0.0005983856809731409),\n",
       " (&#39;1184351&#39;, 0.0005982073536454028),\n",
       " (&#39;2437837&#39;, 0.00046249289289277556),\n",
       " (&#39;6076759&#39;, 0.0004550940064132748),\n",
       " (&#39;4196067&#39;, 0.0004423778888360382),\n",
       " (&#39;13425865&#39;, 0.00044155351714213995),\n",
       " (&#39;6172466&#39;, 0.00042240020018337755),\n",
       " (&#39;1384888&#39;, 0.0004012895604064981),\n",
       " (&#39;6113490&#39;, 0.00039578924771719573),\n",
       " (&#39;14112583&#39;, 0.00039438472837428147),\n",
       " (&#39;7902219&#39;, 0.000370098784734677),\n",
       " (&#39;10390714&#39;, 0.00036502649643178566),\n",
       " (&#39;12836211&#39;, 0.0003619948863102653),\n",
       " (&#39;6237129&#39;, 0.0003519555847615397),\n",
       " (&#39;6416278&#39;, 0.0003486623564517178),\n",
       " (&#39;13432150&#39;, 0.00033936510637318386),\n",
       " (&#39;1516699&#39;, 0.00033297500286151674),\n",
       " (&#39;7990491&#39;, 0.0003076090626577732)]</div>"
      ]
     },
     "metadata": {
      "application/vnd.databricks.v1+output": {
       "addedWidgets": {},
       "arguments": {},
       "data": "<div class=\"ansiout\">Out[15]: [(&#39;13455888&#39;, 0.0015447247129789605),\n (&#39;4695850&#39;, 0.0006710240718888303),\n (&#39;5051368&#39;, 0.0005983856809731409),\n (&#39;1184351&#39;, 0.0005982073536454028),\n (&#39;2437837&#39;, 0.00046249289289277556),\n (&#39;6076759&#39;, 0.0004550940064132748),\n (&#39;4196067&#39;, 0.0004423778888360382),\n (&#39;13425865&#39;, 0.00044155351714213995),\n (&#39;6172466&#39;, 0.00042240020018337755),\n (&#39;1384888&#39;, 0.0004012895604064981),\n (&#39;6113490&#39;, 0.00039578924771719573),\n (&#39;14112583&#39;, 0.00039438472837428147),\n (&#39;7902219&#39;, 0.000370098784734677),\n (&#39;10390714&#39;, 0.00036502649643178566),\n (&#39;12836211&#39;, 0.0003619948863102653),\n (&#39;6237129&#39;, 0.0003519555847615397),\n (&#39;6416278&#39;, 0.0003486623564517178),\n (&#39;13432150&#39;, 0.00033936510637318386),\n (&#39;1516699&#39;, 0.00033297500286151674),\n (&#39;7990491&#39;, 0.0003076090626577732)]</div>",
       "datasetInfos": [],
       "metadata": {},
       "removedWidgets": [],
       "type": "html"
      }
     },
     "output_type": "display_data"
    }
   ],
   "source": [
    "top_20"
   ]
  },
  {
   "cell_type": "code",
   "execution_count": 0,
   "metadata": {
    "application/vnd.databricks.v1+cell": {
     "inputWidgets": {},
     "nuid": "4c4e6e88-0b20-4427-bcae-df03496695b9",
     "showTitle": false,
     "title": ""
    }
   },
   "outputs": [
    {
     "data": {
      "text/html": [
       "<style scoped>\n",
       "  .ansiout {\n",
       "    display: block;\n",
       "    unicode-bidi: embed;\n",
       "    white-space: pre-wrap;\n",
       "    word-wrap: break-word;\n",
       "    word-break: break-all;\n",
       "    font-family: \"Source Code Pro\", \"Menlo\", monospace;;\n",
       "    font-size: 13px;\n",
       "    color: #555;\n",
       "    margin-left: 4px;\n",
       "    line-height: 19px;\n",
       "  }\n",
       "</style>\n",
       "<div class=\"ansiout\"></div>"
      ]
     },
     "metadata": {
      "application/vnd.databricks.v1+output": {
       "addedWidgets": {},
       "arguments": {},
       "data": "<div class=\"ansiout\"></div>",
       "datasetInfos": [],
       "metadata": {},
       "removedWidgets": [],
       "type": "html"
      }
     },
     "output_type": "display_data"
    }
   ],
   "source": [
    "# Save the top_20 results to disc for use later. So you don't have to rerun everything if you restart the cluster.\n",
    "blob_container = \"w261\" # The name of your container created in https://portal.azure.com\n",
    "storage_account = \"hassansaadca\" # The name of your Storage account created in https://portal.azure.com\n",
    "secret_scope = \"w261_scope\" # The name of the scope created in your local computer using the Databricks CLI\n",
    "secret_key = \"w261_key\" # The name of the secret key created in your local computer using the Databricks CLI \n",
    "blob_url = f\"wasbs://{blob_container}@{storage_account}.blob.core.windows.net\"\n",
    "mount_path = \"/mnt/mids-w261\"\n",
    "spark.conf.set(\n",
    "  f\"fs.azure.sas.{blob_container}.{storage_account}.blob.core.windows.net\",\n",
    "  dbutils.secrets.get(scope = secret_scope, key = secret_key)\n",
    ")\n",
    "\n",
    "spark.createDataFrame(top_20).write.parquet(f'{blob_url}/hw5_top20')"
   ]
  },
  {
   "cell_type": "code",
   "execution_count": 0,
   "metadata": {
    "application/vnd.databricks.v1+cell": {
     "inputWidgets": {},
     "nuid": "633bd45d-a9ab-49a3-8b36-cba73683a7ff",
     "showTitle": false,
     "title": ""
    }
   },
   "outputs": [
    {
     "data": {
      "text/html": [
       "<style scoped>\n",
       "  .ansiout {\n",
       "    display: block;\n",
       "    unicode-bidi: embed;\n",
       "    white-space: pre-wrap;\n",
       "    word-wrap: break-word;\n",
       "    word-break: break-all;\n",
       "    font-family: \"Source Code Pro\", \"Menlo\", monospace;;\n",
       "    font-size: 13px;\n",
       "    color: #555;\n",
       "    margin-left: 4px;\n",
       "    line-height: 19px;\n",
       "  }\n",
       "</style>\n",
       "<div class=\"ansiout\">Out[18]: [&#39;! $var = &amp;quot;&amp;quot;\\t1\\t1\\t0&#39;]</div>"
      ]
     },
     "metadata": {
      "application/vnd.databricks.v1+output": {
       "addedWidgets": {},
       "arguments": {},
       "data": "<div class=\"ansiout\">Out[18]: [&#39;! $var = &amp;quot;&amp;quot;\\t1\\t1\\t0&#39;]</div>",
       "datasetInfos": [],
       "metadata": {},
       "removedWidgets": [],
       "type": "html"
      }
     },
     "output_type": "display_data"
    }
   ],
   "source": [
    "# view record from indexRDD (RUN THIS CELL AS IS)\n",
    "# title\\t indx\\t inDeg\\t outDeg\n",
    "indexRDD.take(1)"
   ]
  },
  {
   "cell_type": "code",
   "execution_count": 0,
   "metadata": {
    "application/vnd.databricks.v1+cell": {
     "inputWidgets": {},
     "nuid": "45fd2ee9-6361-4132-9dd9-53ea3a45930d",
     "showTitle": false,
     "title": ""
    }
   },
   "outputs": [
    {
     "data": {
      "text/html": [
       "<style scoped>\n",
       "  .ansiout {\n",
       "    display: block;\n",
       "    unicode-bidi: embed;\n",
       "    white-space: pre-wrap;\n",
       "    word-wrap: break-word;\n",
       "    word-break: break-all;\n",
       "    font-family: \"Source Code Pro\", \"Menlo\", monospace;;\n",
       "    font-size: 13px;\n",
       "    color: #555;\n",
       "    margin-left: 4px;\n",
       "    line-height: 19px;\n",
       "  }\n",
       "</style>\n",
       "<div class=\"ansiout\"></div>"
      ]
     },
     "metadata": {
      "application/vnd.databricks.v1+output": {
       "addedWidgets": {},
       "arguments": {},
       "data": "<div class=\"ansiout\"></div>",
       "datasetInfos": [],
       "metadata": {},
       "removedWidgets": [],
       "type": "html"
      }
     },
     "output_type": "display_data"
    }
   ],
   "source": [
    "# map indexRDD to new format (index, name) (RUN THIS CELL AS IS)\n",
    "namesKV_RDD = indexRDD.map(lambda x: (int(x.split('\\t')[1]), x.split('\\t')[0]))"
   ]
  },
  {
   "cell_type": "code",
   "execution_count": 0,
   "metadata": {
    "application/vnd.databricks.v1+cell": {
     "inputWidgets": {},
     "nuid": "6039b9c1-fb99-4362-84fa-e60aeeb8e7c7",
     "showTitle": false,
     "title": ""
    }
   },
   "outputs": [
    {
     "data": {
      "text/html": [
       "<style scoped>\n",
       "  .ansiout {\n",
       "    display: block;\n",
       "    unicode-bidi: embed;\n",
       "    white-space: pre-wrap;\n",
       "    word-wrap: break-word;\n",
       "    word-break: break-all;\n",
       "    font-family: \"Source Code Pro\", \"Menlo\", monospace;;\n",
       "    font-size: 13px;\n",
       "    color: #555;\n",
       "    margin-left: 4px;\n",
       "    line-height: 19px;\n",
       "  }\n",
       "</style>\n",
       "<div class=\"ansiout\">Out[20]: [(1, &#39;! $var = &amp;quot;&amp;quot;&#39;), (2, &#39;! (CONFIG.SYS directive)&#39;)]</div>"
      ]
     },
     "metadata": {
      "application/vnd.databricks.v1+output": {
       "addedWidgets": {},
       "arguments": {},
       "data": "<div class=\"ansiout\">Out[20]: [(1, &#39;! $var = &amp;quot;&amp;quot;&#39;), (2, &#39;! (CONFIG.SYS directive)&#39;)]</div>",
       "datasetInfos": [],
       "metadata": {},
       "removedWidgets": [],
       "type": "html"
      }
     },
     "output_type": "display_data"
    }
   ],
   "source": [
    "# see new format (RUN THIS CELL AS IS)\n",
    "namesKV_RDD.take(2)"
   ]
  },
  {
   "cell_type": "markdown",
   "metadata": {
    "application/vnd.databricks.v1+cell": {
     "inputWidgets": {},
     "nuid": "ba476248-64de-47dc-9d5f-6ad7ad4c5adf",
     "showTitle": false,
     "title": ""
    }
   },
   "source": [
    "# OPTIONAL\n",
    "### The rest of this notebook is optional and doesn't count toward your grade.\n",
    "The indexRDD we created earlier from the indices.txt file contains the titles of the pages and thier IDs.\n",
    "\n",
    "* __a) code:__ Join this dataset with your top 20 results.\n",
    "* __b) code:__ Print the results"
   ]
  },
  {
   "cell_type": "markdown",
   "metadata": {
    "application/vnd.databricks.v1+cell": {
     "inputWidgets": {},
     "nuid": "9ce0a2af-2b68-45f9-ad6a-439ad7d61a58",
     "showTitle": false,
     "title": ""
    }
   },
   "source": [
    "## Join with indexRDD and print pretty"
   ]
  },
  {
   "cell_type": "code",
   "execution_count": 0,
   "metadata": {
    "application/vnd.databricks.v1+cell": {
     "inputWidgets": {},
     "nuid": "de97b6a6-c758-4f9d-b94b-5d0c970d58ee",
     "showTitle": false,
     "title": ""
    }
   },
   "outputs": [],
   "source": [
    "# part a\n",
    "joinedWithNames = None\n",
    "############## YOUR CODE HERE ###############\n",
    "\n",
    "############## END YOUR CODE ###############"
   ]
  },
  {
   "cell_type": "code",
   "execution_count": 0,
   "metadata": {
    "application/vnd.databricks.v1+cell": {
     "inputWidgets": {},
     "nuid": "45a9c1bc-4d3d-4774-9861-8cc539664eec",
     "showTitle": false,
     "title": ""
    }
   },
   "outputs": [],
   "source": [
    "# part b\n",
    "# Feel free to modify this cell to suit your implementation, but please keep the formatting and sort order.\n",
    "print(\"{:10s}\\t| {:10s}\\t| {}\".format(\"PageRank\",\"Page id\",\"Title\"))\n",
    "print(\"=\"*100)\n",
    "for r in joinedWithNames:\n",
    "    print (\"{:6f}\\t| {:10d}\\t| {}\".format(r[1][1],r[0],r[1][0]))"
   ]
  },
  {
   "cell_type": "code",
   "execution_count": 0,
   "metadata": {
    "application/vnd.databricks.v1+cell": {
     "inputWidgets": {},
     "nuid": "0571f008-f15d-4aa9-b2d1-2e21b8aa9f38",
     "showTitle": false,
     "title": ""
    }
   },
   "outputs": [],
   "source": []
  },
  {
   "cell_type": "markdown",
   "metadata": {
    "application/vnd.databricks.v1+cell": {
     "inputWidgets": {},
     "nuid": "60bd327a-a3aa-46ee-9398-65142b7ad8fc",
     "showTitle": false,
     "title": ""
    }
   },
   "source": [
    "## OPTIONAL - GraphFrames\n",
    "GraphFrames is a graph library which is built on top of the Spark DataFrames API.\n",
    "\n",
    "* __a) code:__ Using the same dataset, run the graphframes implementation of pagerank.\n",
    "* __b) code:__ Join the top 20 results with indices.txt and display in the same format as above.\n",
    "* __c) short answer:__ Compare your results with the results from graphframes.\n",
    "\n",
    "__NOTE:__ Feel free to create as many code cells as you need. Code should be clear and concise - do not include your scratch work. Comment your code if it's not self annotating."
   ]
  },
  {
   "cell_type": "code",
   "execution_count": 0,
   "metadata": {
    "application/vnd.databricks.v1+cell": {
     "inputWidgets": {},
     "nuid": "d8a4d59d-29fc-43ff-b858-c0cd970a0ece",
     "showTitle": false,
     "title": ""
    }
   },
   "outputs": [],
   "source": [
    "# imports\n",
    "import re\n",
    "import ast\n",
    "import time\n",
    "import numpy as np\n",
    "import pandas as pd\n",
    "import seaborn as sns\n",
    "import networkx as nx\n",
    "import matplotlib.pyplot as plt\n",
    "from graphframes import *\n",
    "from pyspark.sql import functions as F"
   ]
  },
  {
   "cell_type": "code",
   "execution_count": 0,
   "metadata": {
    "application/vnd.databricks.v1+cell": {
     "inputWidgets": {},
     "nuid": "736f292b-1ee2-4000-a804-8e61dccf71a0",
     "showTitle": false,
     "title": ""
    }
   },
   "outputs": [],
   "source": [
    "# load the data into Spark RDDs for convenience of use later (RUN THIS CELL AS IS)\n",
    "DATA_PATH = 'dbfs:/mnt/mids-w261/HW5/'\n",
    "testRDD = sc.textFile(DATA_PATH +'test_graph.txt')\n",
    "indexRDD = sc.textFile(DATA_PATH + '/indices.txt')\n",
    "wikiRDD = sc.textFile(DATA_PATH + '/all-pages-indexed-out.txt')"
   ]
  },
  {
   "cell_type": "markdown",
   "metadata": {
    "application/vnd.databricks.v1+cell": {
     "inputWidgets": {},
     "nuid": "aa9b8ba5-af17-461d-bb49-9cdb9b8beaaa",
     "showTitle": false,
     "title": ""
    }
   },
   "source": [
    "### You will need to generate vertices (v) and edges (e) to feed into the graph below. \n",
    "Use as many cells as you need for this task."
   ]
  },
  {
   "cell_type": "code",
   "execution_count": 0,
   "metadata": {
    "application/vnd.databricks.v1+cell": {
     "inputWidgets": {},
     "nuid": "6497a933-4dfe-468d-8d8f-8691b7a4abe1",
     "showTitle": false,
     "title": ""
    }
   },
   "outputs": [],
   "source": [
    "# Create a GraphFrame\n",
    "from graphframes import *\n",
    "g = GraphFrame(v, e)\n"
   ]
  },
  {
   "cell_type": "code",
   "execution_count": 0,
   "metadata": {
    "application/vnd.databricks.v1+cell": {
     "inputWidgets": {},
     "nuid": "dc573ad6-7468-4f09-b108-f90601d8f0e8",
     "showTitle": false,
     "title": ""
    }
   },
   "outputs": [],
   "source": [
    "# Run PageRank algorithm, and show results.\n",
    "results = g.pageRank(resetProbability=0.15, maxIter=10)"
   ]
  },
  {
   "cell_type": "code",
   "execution_count": 0,
   "metadata": {
    "application/vnd.databricks.v1+cell": {
     "inputWidgets": {},
     "nuid": "3167f766-4c07-4c03-afa4-39eddde69c23",
     "showTitle": false,
     "title": ""
    }
   },
   "outputs": [],
   "source": [
    "start = time.time()\n",
    "top_20 = results.vertices.orderBy(F.desc(\"pagerank\")).limit(20)\n",
    "print(f'... completed job in {time.time() - start} seconds.')"
   ]
  },
  {
   "cell_type": "code",
   "execution_count": 0,
   "metadata": {
    "application/vnd.databricks.v1+cell": {
     "inputWidgets": {},
     "nuid": "31439e55-31ac-4f4b-902b-454b78e4e790",
     "showTitle": false,
     "title": ""
    }
   },
   "outputs": [],
   "source": [
    "%%time\n",
    "top_20.show()"
   ]
  },
  {
   "cell_type": "markdown",
   "metadata": {
    "application/vnd.databricks.v1+cell": {
     "inputWidgets": {},
     "nuid": "b0d7e32f-b23b-49b9-b916-98ff642dd738",
     "showTitle": false,
     "title": ""
    }
   },
   "source": [
    "### Run the cells below to join the results of the graphframes pagerank algorithm with the names of the nodes."
   ]
  },
  {
   "cell_type": "code",
   "execution_count": 0,
   "metadata": {
    "application/vnd.databricks.v1+cell": {
     "inputWidgets": {},
     "nuid": "55f711ff-8e0a-4222-823d-7fc9ef4668c1",
     "showTitle": false,
     "title": ""
    }
   },
   "outputs": [],
   "source": [
    "namesKV_RDD = indexRDD.map(lambda x: (int(x.split('\\t')[1]), x.split('\\t')[0]))"
   ]
  },
  {
   "cell_type": "code",
   "execution_count": 0,
   "metadata": {
    "application/vnd.databricks.v1+cell": {
     "inputWidgets": {},
     "nuid": "4c7a1316-3ca2-4497-b645-76aef07669a1",
     "showTitle": false,
     "title": ""
    }
   },
   "outputs": [],
   "source": [
    "namesKV_DF = namesKV_RDD.toDF()"
   ]
  },
  {
   "cell_type": "code",
   "execution_count": 0,
   "metadata": {
    "application/vnd.databricks.v1+cell": {
     "inputWidgets": {},
     "nuid": "2ad31a82-8bea-4676-8ce7-cb3e0b0cfff1",
     "showTitle": false,
     "title": ""
    }
   },
   "outputs": [],
   "source": [
    "namesKV_DF = namesKV_DF.withColumnRenamed('_1','id')\n",
    "namesKV_DF = namesKV_DF.withColumnRenamed('_2','title')\n",
    "namesKV_DF.take(1)"
   ]
  },
  {
   "cell_type": "code",
   "execution_count": 0,
   "metadata": {
    "application/vnd.databricks.v1+cell": {
     "inputWidgets": {},
     "nuid": "8dc6fb8e-1abc-4230-984e-f118d4fc2b83",
     "showTitle": false,
     "title": ""
    }
   },
   "outputs": [],
   "source": [
    "resultsWithNames = namesKV_DF.join(top_20, namesKV_DF.id==top_20.id).orderBy(F.desc(\"pagerank\")).collect()"
   ]
  },
  {
   "cell_type": "code",
   "execution_count": 0,
   "metadata": {
    "application/vnd.databricks.v1+cell": {
     "inputWidgets": {},
     "nuid": "e98f5cf1-68cc-4681-bca3-94f9d50a165f",
     "showTitle": false,
     "title": ""
    }
   },
   "outputs": [],
   "source": [
    "# TODO: use f' for string formatting\n",
    "print(\"{:10s}\\t| {:10s}\\t| {}\".format(\"PageRank\",\"Page id\",\"Title\"))\n",
    "print(\"=\"*100)\n",
    "for r in resultsWithNames:\n",
    "    print (\"{:6f}\\t| {:10s}\\t| {}\".format(r[3],r[2],r[1]))"
   ]
  },
  {
   "cell_type": "markdown",
   "metadata": {
    "application/vnd.databricks.v1+cell": {
     "inputWidgets": {},
     "nuid": "c076d9bf-8a38-439e-8c67-393bca70d7f1",
     "showTitle": false,
     "title": ""
    }
   },
   "source": [
    "### Congratulations, you have completed HW5! Please refer to the readme for submission instructions.\n",
    "\n",
    "If you would like to provide feedback regarding this homework, please use the survey at: https://docs.google.com/forms/d/e/1FAIpQLSce9feiQeSkdP43A0ZYui1tMGIBfLfzb0rmgToQeZD9bXXX8Q/viewform"
   ]
  },
  {
   "cell_type": "code",
   "execution_count": 0,
   "metadata": {
    "application/vnd.databricks.v1+cell": {
     "inputWidgets": {},
     "nuid": "74b33bbd-5958-44d6-a5db-45d5fb77364e",
     "showTitle": false,
     "title": ""
    }
   },
   "outputs": [],
   "source": []
  }
 ],
 "metadata": {
  "application/vnd.databricks.v1+notebook": {
   "dashboards": [],
   "language": "python",
   "notebookMetadata": {
    "pythonIndentUnit": 2
   },
   "notebookName": "hw5_workbook_team20",
   "notebookOrigID": 960680182317902,
   "widgets": {}
  }
 },
 "nbformat": 4,
 "nbformat_minor": 0
}
