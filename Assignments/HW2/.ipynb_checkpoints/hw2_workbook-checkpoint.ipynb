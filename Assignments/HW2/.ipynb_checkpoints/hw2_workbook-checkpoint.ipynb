{
 "cells": [
  {
   "cell_type": "markdown",
   "metadata": {},
   "source": [
    "# HW 2 - Naive Bayes in Hadoop MR\n",
    "__`MIDS w261: Machine Learning at Scale | UC Berkeley School of Information | Fall 2018`__\n",
    "\n",
    "In the live sessions for week 2 and week 3 you got some practice designing and debugging Hadoop Streaming jobs. In this homework we'll use Hadoop MapReduce to implement your first parallelized machine learning algorithm: Naive Bayes. As you develop your implementation you'll test it on a small dataset that matches the 'Chinese Example' in the _Manning, Raghavan and Shutze_ reading for Week 2. For the main task in this assignment you'll be working with a small subset of the Enron Spam/Ham Corpus. By the end of this assignment you should be able to:\n",
    "* __... describe__ the Naive Bayes algorithm including both training and inference.\n",
    "* __... perform__ EDA on a corpus using Hadoop MR.\n",
    "* __... implement__ parallelized Naive Bayes.\n",
    "* __... constrast__ partial, unordered and total order sort and their implementations in Hadoop Streaming.\n",
    "* __... explain__ how smoothing affects the bias and variance of a Multinomial Naive Bayes model.\n",
    "\n",
    "As always, your work will be graded both on the correctness of your output and on the clarity and design of your code. __Please refer to the `README` for homework submission instructions.__ "
   ]
  },
  {
   "cell_type": "markdown",
   "metadata": {},
   "source": [
    "## Notebook Setup\n",
    "Before starting, run the following cells to confirm your setup."
   ]
  },
  {
   "cell_type": "code",
   "execution_count": 1,
   "metadata": {},
   "outputs": [],
   "source": [
    "# imports\n",
    "import numpy as np\n",
    "import matplotlib.pyplot as plt\n",
    "%matplotlib inline\n",
    "%reload_ext autoreload\n",
    "%autoreload 2"
   ]
  },
  {
   "cell_type": "code",
   "execution_count": 2,
   "metadata": {},
   "outputs": [],
   "source": [
    "# global vars (paths) - ADJUST AS NEEDED\n",
    "JAR_FILE = \"/usr/lib/hadoop/hadoop-streaming-3.2.2.jar\"\n",
    "HDFS_DIR = \"/user/root/HW2\"\n",
    "HOME_DIR = \"/media/w261-s22-courtney-smith-97/Assignments/HW2\" # FILL IN HERE eg. /media/notebooks/Assignments/HW2"
   ]
  },
  {
   "cell_type": "code",
   "execution_count": 3,
   "metadata": {},
   "outputs": [
    {
     "name": "stdout",
     "output_type": "stream",
     "text": [
      "/media/w261-s22-courtney-smith-97/Assignments/HW2\n"
     ]
    }
   ],
   "source": [
    "%cd /media/w261-s22-courtney-smith-97/Assignments/HW2"
   ]
  },
  {
   "cell_type": "code",
   "execution_count": 4,
   "metadata": {},
   "outputs": [],
   "source": [
    "# save path for use in Hadoop jobs (-cmdenv PATH={PATH})\n",
    "from os import environ\n",
    "PATH  = environ['PATH']"
   ]
  },
  {
   "cell_type": "code",
   "execution_count": 5,
   "metadata": {},
   "outputs": [],
   "source": [
    "# data path\n",
    "ENRON = \"data/enronemail_1h.txt\""
   ]
  },
  {
   "cell_type": "code",
   "execution_count": 6,
   "metadata": {},
   "outputs": [
    {
     "name": "stdout",
     "output_type": "stream",
     "text": [
      "Found 2 items\n",
      "drwxr-xr-x   - root hadoop          0 2022-01-31 01:47 HW2\n",
      "drwxr-xr-x   - root hadoop          0 2022-01-18 23:27 demo3\n",
      "mkdir: `/user/root/HW2': File exists\n"
     ]
    }
   ],
   "source": [
    "# make the HDFS directory if it doesn't already exist\n",
    "!hdfs dfs -ls \n",
    "!hdfs dfs -mkdir {HDFS_DIR}"
   ]
  },
  {
   "cell_type": "markdown",
   "metadata": {},
   "source": [
    "# Question 1: Hadoop MapReduce Key Takeaways.  \n",
    "\n",
    "This assignment will be the only one in which you use Hadoop Streaming to implement a distributed algorithm. The key reason we continue to teach Hadoop streaming is because of the way it forces the programmer to think carefully about what is happening under the hood when you parallelize a calculation. This question will briefly highlight some of the most important concepts that you need to understand about Hadoop Streaming and MapReduce before we move on to Spark next week.   \n",
    "\n",
    "### Q1 Tasks:\n",
    "\n",
    "* __a) short response:__ What \"programming paradigm\" is Hadoop MapReduce based on? What are the main ideas of this programming paradigm and how does MapReduce exemplify these ideas?\n",
    "\n",
    "* __b) short response:__ What is the Hadoop Shuffle? When does it happen? Why is it potentially costly? Describe one specific thing we can we do to mitigate the cost associated with this stage of our Hadoop Streaming jobs.\n",
    "\n",
    "* __c) short response:__ In Hadoop Streaming why do the input and output record format of a combiner script have to be the same? [__`HINT`__ _what level of combining does the framework guarantee? what is the relationship between the record format your mapper emits and the format your reducer expects to receive?_]\n",
    "\n",
    "* __d) short response:__ To what extent can you control the level of parallelization of your Hadoop Streaming jobs? Please be specific.\n",
    "\n",
    "* __e) short response:__ What change in the kind of computing resources available prompted the creation of parallel computation frameworks like Hadoop? "
   ]
  },
  {
   "cell_type": "markdown",
   "metadata": {},
   "source": [
    "### Q1 Student Answers:\n",
    "\n",
    "> __a)__ Hadoop MapReduce is based on the functional programming paradigm. Functional programming is declarative and avoids changing state and mutable data. MapReduce uses the key functional programming concept of higher order functions (functions that accept other functions as arguments). Mappers correspond to functional programming and reducers correspond approximately. Functional programming splits computing problems into functions and lends itself to parallelization. \n",
    "\n",
    "> __b)__ The Hadoop Shuffle is the partition and sort step that occurs before sending the output of the mappers to the reducers as input. It can be costly because it requires sorting all the records. Adding a combiner can reduce the number of records and make the shuffle more efficient. \n",
    "\n",
    "> __c)__ The input and output record format of a combiner have to be the same because the framework does not guarantee that the combiner will be run. If the combiner is not run, the output of the mapper is the input to the reducer, so the format needs to match that of the records the reducer would have received from the combiner.  \n",
    "\n",
    "> __d)__ We can control the level of parallelization through the number of reducers but we can't control the number of mappers. \n",
    "\n",
    "> __e)__  CPUs got faster and memory got much cheaper. "
   ]
  },
  {
   "cell_type": "markdown",
   "metadata": {},
   "source": [
    "# Question 2: MapReduce Design Patterns.  \n",
    "\n",
    "In the last two live sessions and in your readings from Lin & Dyer you encountered a number of techniques for manipulating the logistics of a MapReduce implementation to ensure that the right information is available at the right time and location. In this question we'll review a few of the key techniques you learned.   \n",
    "\n",
    "### Q2 Tasks:\n",
    "\n",
    "* __a) short response:__ What are counters (in the context of Hadoop Streaming)? How are they useful? What kinds of counters does Hadoop provide for you? How do you create your own custom counter?\n",
    "\n",
    "* __b) short response:__ What are composite keys? How are they useful? How are they related to the idea of custom partitioning?\n",
    "\n",
    "* __c) short response:__ What is the order inversion pattern? What problem does it help solve? How do we implement it? "
   ]
  },
  {
   "cell_type": "markdown",
   "metadata": {},
   "source": [
    "### Q2 Student Answers:\n",
    "\n",
    "> __a)__ Counters keep track of various metrics related to the streaming job. Hadoop has File System counters that track bytes read/written, Job Counters that track the number of tasks, and mapreduce framework counters for the number of input/output records associated with each mapper/reducer. Counters measure the efficiency of the streaming job. Custom counters can be used to balance the work between reducers and can be written into mapper/combiner/reducer scripts. \n",
    "\n",
    "> __b)__ A composite key combines multiple fields to create a key. This can be used for custom sorting or for custom partitioning on the values of the composite key.  \n",
    "\n",
    "> __c)__ The order inversion pattern ensures certain records are read first by the reducer as is implemented by adding a special character to the beginning of the key. Special characters are read first in alphabetical order. It helps solve the problem of computing frequencies/probabilities where the totals are needed first. \n"
   ]
  },
  {
   "cell_type": "markdown",
   "metadata": {},
   "source": [
    "# Question 3: Understanding Total Order Sort\n",
    "\n",
    "The key challenge in distributed computing is to break a problem into a set of sub-problems that can be performed without communicating with each other. Ideally, we should be able to define an arbirtary number of splits and still get the right result, but that is not always possible. Parallelization becomes particularly challenging when we need to make comparisons between records, for example when sorting. Total Order Sort allows us to order large datasets in a way that enables efficient retrieval of results. Before beginning this assignment, make sure you have read and understand the [Total Order Sort Notebook](https://github.com/UCB-w261/main/tree/master/HelpfulResources/TotalSortGuide/_total-sort-guide-spark2.01-JAN27-2017.ipynb). You can skip the first two MRJob sections, but the rest of section III and all of section IV are **very** important (and apply to Hadoop Streaming) so make sure to read them closely. Feel free to read the Spark sections as well but you won't be responsible for that material until later in the course. To verify your understanding, answer the following questions.\n",
    "\n",
    "### Q3 Tasks:\n",
    "\n",
    "* __a) short response:__ What is the difference between a partial sort, an unordered total sort, and a total order sort? From the programmer's perspective, what does total order sort allow us to do that we can't with unordered total? Why is this important with large datasets?\n",
    "\n",
    "* __b) short response:__ Which phase of a MapReduce job is leveraged to implement Total Order Sort? Which default behaviors must be changed. Why must they be changed?\n",
    "\n",
    "* __c) short response:__ Describe in words how to configure a Hadoop Streaming job for the custom sorting and partitioning that is required for Total Order Sort.  \n",
    "\n",
    "* __d) short response:__ Explain why we need to use an inverse hash code function.\n",
    "\n",
    "* __e) short response:__ Where does this function need to be located so that a Total Order Sort can be performed?"
   ]
  },
  {
   "cell_type": "markdown",
   "metadata": {},
   "source": [
    "### Q3 Student Answers:\n",
    "\n",
    "> __a)__ A partial sort is sorting done within each partition. An unordered total sort is run on all output partition files. A total order sort is a sort run on all output partition files where the partition file names are also in order, so everything is output in order.  \n",
    "\n",
    "> __b)__ Total order sort is done in the shuffle phase by providing a custom partitioner and a custom sort specification (ex. numeric decreasing). This overrides the default shuffle, which is a partial order sort.   \n",
    "\n",
    "> __c)__ A Hadoop streaming job can be configured for total order sort by generating custom partition keys in the mapper (using an inverse hash function) and then running the job with a custom key comparator, which specifies the record sort order within partitions, and with a custom partitioner based on the generated key field. The inverse hash function in the mapper has to dynamically partition based on the number of reducers.\n",
    "\n",
    "> __d)__ Hadoop uses a HashPartitioner to compute the partition index for the keys produced by the mappers. Hadoop doesn't sort partition keys and the index does not correspond to the \"order\" of the keys (ex. keys a,b,c will not have index 0,1,2). The inverse HashCode function preserves the desired partition key ordering by generating keys based on their partition index.\n",
    "\n",
    "> __e)__ This function needs to be located in the mapper (there is no guarantee a combiner would be run, and the records need to have custom partition keys before being sent to the reducer). "
   ]
  },
  {
   "cell_type": "markdown",
   "metadata": {},
   "source": [
    "# About the Data\n",
    "For the main task in this portion of the homework you will train a classifier to determine whether an email represents spam or not. You will train your Naive Bayes model on a 100 record subset of the Enron Spam/Ham corpus available in the HW2 data directory (__`HW2/data/enronemail_1h.txt`__).\n",
    "\n",
    "__Source:__   \n",
    "The original data included about 93,000 emails which were made public after the company's collapse. There have been a number raw and preprocessed versions of this corpus (including those available [here](http://www.aueb.gr/users/ion/data/enron-spam/index.html) and [here](http://www.aueb.gr/users/ion/publications.html)). The subset we will use is limited to emails from 6 Enron employees and a number of spam sources. It is part of [this data set](http://www.aueb.gr/users/ion/data/enron-spam/) which was created by researchers working on personlized Bayesian spam filters. Their original publication is [available here](http://www.aueb.gr/users/ion/docs/ceas2006_paper.pdf). __`IMPORTANT!`__ _For this homework please limit your analysis to the 100 email subset which we provide. No need to download or run your analysis on any of the original datasets, those links are merely provided as context._\n",
    "\n",
    "__Preprocessing:__  \n",
    "For their work, Metsis et al. (the authors) appeared to have pre-processed the data, not only collapsing all text to lower-case, but additionally separating \"words\" by spaces, where \"words\" unfortunately include punctuation. As a concrete example, the sentence:  \n",
    ">  `Hey Jon, I hope you don't get lost out there this weekend!`  \n",
    "\n",
    "... would have been reduced by Metsis et al. to the form:  \n",
    "> `hey jon , i hope you don ' t get lost out there this weekend !` \n",
    "\n",
    "... so we have reverted the data back toward its original state, removing spaces so that our sample sentence would now look like:\n",
    "> `hey jon, i hope you don't get lost out there this weekend!`  \n",
    "\n",
    "Thus we have at least preserved contractions and other higher-order lexical forms. However, one must be aware that this reversion is not complete, and that some object (specifically web sites) will be ill-formatted, and that all text is still lower-cased.\n",
    "\n",
    "\n",
    "__Format:__   \n",
    "All messages are collated to a tab-delimited format:  \n",
    "\n",
    ">    `ID \\t SPAM \\t SUBJECT \\t CONTENT \\n`  \n",
    "\n",
    "where:  \n",
    ">    `ID = string; unique message identifier`  \n",
    "    `SPAM = binary; with 1 indicating a spam message`  \n",
    "    `SUBJECT = string; title of the message`  \n",
    "    `CONTENT = string; content of the message`   \n",
    "    \n",
    "Note that either of `SUBJECT` or `CONTENT` may be \"NA\", and that all tab (\\t) and newline (\\n) characters have been removed from both of the `SUBJECT` and `CONTENT` columns.  "
   ]
  },
  {
   "cell_type": "code",
   "execution_count": 5,
   "metadata": {},
   "outputs": [
    {
     "name": "stdout",
     "output_type": "stream",
     "text": [
      "/media/w261-s22-courtney-smith-97/Assignments/HW2\n"
     ]
    }
   ],
   "source": [
    "%cd /media/w261-s22-courtney-smith-97/Assignments/HW2"
   ]
  },
  {
   "cell_type": "code",
   "execution_count": 6,
   "metadata": {},
   "outputs": [
    {
     "name": "stdout",
     "output_type": "stream",
     "text": [
      "/media/w261-s22-courtney-smith-97/Assignments/HW2\n"
     ]
    }
   ],
   "source": [
    "!pwd"
   ]
  },
  {
   "cell_type": "code",
   "execution_count": 13,
   "metadata": {},
   "outputs": [
    {
     "name": "stdout",
     "output_type": "stream",
     "text": [
      "0001.1999-12-10.farmer\t0\t christmas tree farm pictures\tNA\n",
      "0001.1999-12-10.kaminski\t0\t re: rankings\t thank you.\n",
      "0001.2000-01-17.beck\t0\t leadership development pilot\t\" sally:  what timing, ask and you shall receiv\n",
      "0001.2000-06-06.lokay\t0\t\" key dates and impact of upcoming sap implementation over the next few week\n",
      "0001.2001-02-07.kitchen\t0\t key hr issues going forward\t a) year end reviews-report needs generating \n"
     ]
    }
   ],
   "source": [
    "# take a look at the first 100 characters of the first 5 records (RUN THIS CELL AS IS)\n",
    "!head -n 5 ./{ENRON} | cut -c-100"
   ]
  },
  {
   "cell_type": "code",
   "execution_count": 14,
   "metadata": {},
   "outputs": [
    {
     "name": "stdout",
     "output_type": "stream",
     "text": [
      "100 ./data/enronemail_1h.txt\n"
     ]
    }
   ],
   "source": [
    "# see how many messages/lines are in the file \n",
    "#(this number may be off by 1 if the last line doesn't end with a newline)\n",
    "!wc -l ./{ENRON}"
   ]
  },
  {
   "cell_type": "code",
   "execution_count": null,
   "metadata": {},
   "outputs": [],
   "source": [
    "# make the HDFS directory if it doesn't already exist\n",
    "#!hdfs dfs -mkdir {HDFS_DIR}"
   ]
  },
  {
   "cell_type": "code",
   "execution_count": 15,
   "metadata": {},
   "outputs": [],
   "source": [
    "# load the data into HDFS (RUN THIS CELL AS IS)\n",
    "!hdfs dfs -copyFromLocal ./{ENRON} {HDFS_DIR}/enron.txt"
   ]
  },
  {
   "cell_type": "code",
   "execution_count": 35,
   "metadata": {},
   "outputs": [
    {
     "name": "stdout",
     "output_type": "stream",
     "text": [
      "Found 1 items\n",
      "-rw-r--r--   1 root hadoop     204559 2022-01-26 05:24 /user/root/HW2/enron.txt\n"
     ]
    }
   ],
   "source": [
    "!hdfs dfs -ls {HDFS_DIR}"
   ]
  },
  {
   "cell_type": "markdown",
   "metadata": {},
   "source": [
    "# Question 4:  Enron Ham/Spam EDA.\n",
    "Before building our classifier, lets get aquainted with our data. In particular, we're interested in which words occur more in spam emails than in legitimate (\"ham\") emails. In this question you'll implement two Hadoop MapReduce jobs to count and sort word occurrences by document class. You'll also learn about two new Hadoop streaming parameters that will allow you to control how the records output from your mappers are partitioned for reducing on separate nodes. \n",
    "\n",
    "__`IMPORTANT NOTE:`__ For this question and all subsequent items, you should include both the subject and the body of the email in your analysis (i.e. concatetate them to get the 'text' of the document).\n",
    "\n",
    "### Q4 Tasks:\n",
    "* __a) code:__ Complete the missing components of the code in __`EnronEDA/mapper.py`__ and __`EnronEDA/reducer.py`__ to create a Hadoop  MapReduce job that counts how many times each word in the corpus occurs in an email for each class. Pay close attention to the data format specified in the docstrings of these scripts _-- there are a number of ways to accomplish this task, we've chosen this format to help illustrate a technique in `part e`_. Run the provided unit tests to confirm that your code works as expected, then run the provided Hadoop Streaming command to apply your analysis to the Enron data.\n",
    "\n",
    "\n",
    "* __b) code + short response:__ How many times does the word \"__assistance__\" occur in each class? (`HINT:` Use a `grep` command to read from the results file you generated in '`a`' and then report the answer in the space provided.)\n",
    "\n",
    "\n",
    "* __c) short response:__ Would it have been possible to add some sorting parameters to the Hadoop streaming command that would cause our `part a` results to be sorted by count? Explain why or why not. (`HINT:` This question demands an understanding of the sequence of the phases of MapReduce.)\n",
    "\n",
    "\n",
    "* __d) code + short response:__ Write a second Hadoop MapReduce job to sort the output of `part a` first by class and then by count. Run your job and save the results to a local file. Then describe in words how you would go about printing the top 10 words in each class given this sorted output. (`HINT 1:` _remember that you can simply pass the `part a` output directory to the input field of this job; `HINT 2:` since this task is just reodering the records from `part a` we don't need to write a mapper or reducer, just use `/bin/cat` for both_)\n",
    "\n",
    "\n",
    "* __e) code:__ A more efficient alternative to '`grep`-ing' for the top 10 words in each class would be to use the Hadoop framework to separate records from each class into its own partition so that we can just read the top lines in each. Rewrite your job from ` part d` to specify 2 reduce tasks and to tell Hadoop to partition based on the second field (which indicates spam/ham in our data). Your code should maintain the secondary sort -- that is each partition should list words from most to least frequent."
   ]
  },
  {
   "cell_type": "markdown",
   "metadata": {},
   "source": [
    "### Q4 Student Answers:\n",
    "> __b)__ The word \"assistance\" appears 8 times in the spam class and 2 times in the ham class.  \n",
    "\n",
    "> __c)__ No, when computing word counts we can't sort until after the reduce phase so it would require 2 jobs.  \n",
    "\n",
    "> __d)__ "
   ]
  },
  {
   "cell_type": "code",
   "execution_count": 12,
   "metadata": {},
   "outputs": [],
   "source": [
    "# part a - do your work in the provided scripts then RUN THIS CELL AS IS\n",
    "!chmod a+x EnronEDA/mapper.py\n",
    "!chmod a+x EnronEDA/reducer.py"
   ]
  },
  {
   "cell_type": "code",
   "execution_count": 13,
   "metadata": {},
   "outputs": [
    {
     "name": "stdout",
     "output_type": "stream",
     "text": [
      "title\t1\t1\n",
      "body\t1\t1\n",
      "title\t0\t1\n",
      "body\t0\t1\n"
     ]
    }
   ],
   "source": [
    "# part a - unit test EnronEDA/mapper.py (RUN THIS CELL AS IS)\n",
    "!echo -e \"d1\t1\ttitle\tbody\\nd2\t0\ttitle\tbody\" | EnronEDA/mapper.py"
   ]
  },
  {
   "cell_type": "code",
   "execution_count": 14,
   "metadata": {},
   "outputs": [
    {
     "name": "stdout",
     "output_type": "stream",
     "text": [
      "one\t1\t1\n",
      "one\t0\t2\n",
      "two\t0\t1\n"
     ]
    }
   ],
   "source": [
    "# part a - unit test EnronEDA/reducer.py (RUN THIS CELL AS IS)\n",
    "!echo \"one\t1\t1\\none\t0\t1\\none\t0\t1\\ntwo\t0\t1\" | EnronEDA/reducer.py"
   ]
  },
  {
   "cell_type": "code",
   "execution_count": 15,
   "metadata": {},
   "outputs": [
    {
     "name": "stdout",
     "output_type": "stream",
     "text": [
      "Deleted /user/root/HW2/eda-output\n"
     ]
    }
   ],
   "source": [
    "# part a - clear output directory in HDFS (RUN THIS CELL AS IS)\n",
    "!hdfs dfs -rm -r {HDFS_DIR}/eda-output"
   ]
  },
  {
   "cell_type": "code",
   "execution_count": 16,
   "metadata": {},
   "outputs": [
    {
     "name": "stdout",
     "output_type": "stream",
     "text": [
      "packageJobJar: [] [/usr/lib/hadoop/hadoop-streaming-3.2.2.jar] /tmp/streamjob7266710168340562969.jar tmpDir=null\n",
      "2022-01-30 16:55:40,103 INFO client.RMProxy: Connecting to ResourceManager at w261-m/10.128.0.4:8032\n",
      "2022-01-30 16:55:40,374 INFO client.AHSProxy: Connecting to Application History server at w261-m/10.128.0.4:10200\n",
      "2022-01-30 16:55:40,882 INFO client.RMProxy: Connecting to ResourceManager at w261-m/10.128.0.4:8032\n",
      "2022-01-30 16:55:40,883 INFO client.AHSProxy: Connecting to Application History server at w261-m/10.128.0.4:10200\n",
      "2022-01-30 16:55:41,092 INFO mapreduce.JobResourceUploader: Disabling Erasure Coding for path: /tmp/hadoop-yarn/staging/root/.staging/job_1643557347028_0001\n",
      "2022-01-30 16:55:42,025 INFO mapred.FileInputFormat: Total input files to process : 1\n",
      "2022-01-30 16:55:42,900 INFO mapreduce.JobSubmitter: number of splits:9\n",
      "2022-01-30 16:55:43,041 INFO mapreduce.JobSubmitter: Submitting tokens for job: job_1643557347028_0001\n",
      "2022-01-30 16:55:43,043 INFO mapreduce.JobSubmitter: Executing with tokens: []\n",
      "2022-01-30 16:55:43,302 INFO conf.Configuration: resource-types.xml not found\n",
      "2022-01-30 16:55:43,303 INFO resource.ResourceUtils: Unable to find 'resource-types.xml'.\n",
      "2022-01-30 16:55:43,720 INFO impl.YarnClientImpl: Submitted application application_1643557347028_0001\n",
      "2022-01-30 16:55:43,778 INFO mapreduce.Job: The url to track the job: http://w261-m:8088/proxy/application_1643557347028_0001/\n",
      "2022-01-30 16:55:43,781 INFO mapreduce.Job: Running job: job_1643557347028_0001\n",
      "2022-01-30 16:55:54,058 INFO mapreduce.Job: Job job_1643557347028_0001 running in uber mode : false\n",
      "2022-01-30 16:55:54,059 INFO mapreduce.Job:  map 0% reduce 0%\n",
      "2022-01-30 16:56:03,225 INFO mapreduce.Job:  map 33% reduce 0%\n",
      "2022-01-30 16:56:09,298 INFO mapreduce.Job:  map 67% reduce 0%\n",
      "2022-01-30 16:56:16,360 INFO mapreduce.Job:  map 100% reduce 0%\n",
      "2022-01-30 16:56:24,537 INFO mapreduce.Job:  map 100% reduce 100%\n",
      "2022-01-30 16:56:26,554 INFO mapreduce.Job: Job job_1643557347028_0001 completed successfully\n",
      "2022-01-30 16:56:26,640 INFO mapreduce.Job: Counters: 55\n",
      "\tFile System Counters\n",
      "\t\tFILE: Number of bytes read=369010\n",
      "\t\tFILE: Number of bytes written=3469357\n",
      "\t\tFILE: Number of read operations=0\n",
      "\t\tFILE: Number of large read operations=0\n",
      "\t\tFILE: Number of write operations=0\n",
      "\t\tHDFS: Number of bytes read=258608\n",
      "\t\tHDFS: Number of bytes written=70551\n",
      "\t\tHDFS: Number of read operations=37\n",
      "\t\tHDFS: Number of large read operations=0\n",
      "\t\tHDFS: Number of write operations=6\n",
      "\t\tHDFS: Number of bytes read erasure-coded=0\n",
      "\tJob Counters \n",
      "\t\tKilled map tasks=1\n",
      "\t\tLaunched map tasks=9\n",
      "\t\tLaunched reduce tasks=2\n",
      "\t\tData-local map tasks=9\n",
      "\t\tTotal time spent by all maps in occupied slots (ms)=169729680\n",
      "\t\tTotal time spent by all reduces in occupied slots (ms)=26759724\n",
      "\t\tTotal time spent by all map tasks (ms)=53780\n",
      "\t\tTotal time spent by all reduce tasks (ms)=8479\n",
      "\t\tTotal vcore-milliseconds taken by all map tasks=53780\n",
      "\t\tTotal vcore-milliseconds taken by all reduce tasks=8479\n",
      "\t\tTotal megabyte-milliseconds taken by all map tasks=169729680\n",
      "\t\tTotal megabyte-milliseconds taken by all reduce tasks=26759724\n",
      "\tMap-Reduce Framework\n",
      "\t\tMap input records=100\n",
      "\t\tMap output records=31490\n",
      "\t\tMap output bytes=306018\n",
      "\t\tMap output materialized bytes=369106\n",
      "\t\tInput split bytes=801\n",
      "\t\tCombine input records=0\n",
      "\t\tCombine output records=0\n",
      "\t\tReduce input groups=5065\n",
      "\t\tReduce shuffle bytes=369106\n",
      "\t\tReduce input records=31490\n",
      "\t\tReduce output records=6060\n",
      "\t\tSpilled Records=62980\n",
      "\t\tShuffled Maps =18\n",
      "\t\tFailed Shuffles=0\n",
      "\t\tMerged Map outputs=18\n",
      "\t\tGC time elapsed (ms)=1742\n",
      "\t\tCPU time spent (ms)=11220\n",
      "\t\tPhysical memory (bytes) snapshot=4984537088\n",
      "\t\tVirtual memory (bytes) snapshot=48706396160\n",
      "\t\tTotal committed heap usage (bytes)=4798283776\n",
      "\t\tPeak Map Physical memory (bytes)=504279040\n",
      "\t\tPeak Map Virtual memory (bytes)=4427743232\n",
      "\t\tPeak Reduce Physical memory (bytes)=255815680\n",
      "\t\tPeak Reduce Virtual memory (bytes)=4436119552\n",
      "\tShuffle Errors\n",
      "\t\tBAD_ID=0\n",
      "\t\tCONNECTION=0\n",
      "\t\tIO_ERROR=0\n",
      "\t\tWRONG_LENGTH=0\n",
      "\t\tWRONG_MAP=0\n",
      "\t\tWRONG_REDUCE=0\n",
      "\tFile Input Format Counters \n",
      "\t\tBytes Read=257807\n",
      "\tFile Output Format Counters \n",
      "\t\tBytes Written=70551\n",
      "2022-01-30 16:56:26,641 INFO streaming.StreamJob: Output directory: /user/root/HW2/eda-output\n"
     ]
    }
   ],
   "source": [
    "# part a - Hadoop streaming job (RUN THIS CELL AS IS)\n",
    "!hadoop jar {JAR_FILE} \\\n",
    "  -files EnronEDA/reducer.py,EnronEDA/mapper.py \\\n",
    "  -mapper mapper.py \\\n",
    "  -reducer reducer.py \\\n",
    "  -input {HDFS_DIR}/enron.txt \\\n",
    "  -output {HDFS_DIR}/eda-output \\\n",
    "  -numReduceTasks 2 \\\n",
    "  -cmdenv PATH={PATH}"
   ]
  },
  {
   "cell_type": "code",
   "execution_count": 17,
   "metadata": {},
   "outputs": [],
   "source": [
    "# part a - retrieve results from HDFS & copy them into a local file (RUN THIS CELL AS IS)\n",
    "!hdfs dfs -cat {HDFS_DIR}/eda-output/part-0000* > EnronEDA/results.txt"
   ]
  },
  {
   "cell_type": "code",
   "execution_count": 18,
   "metadata": {},
   "outputs": [
    {
     "name": "stdout",
     "output_type": "stream",
     "text": [
      "assistance\t1\t8\n",
      "assistance\t0\t2\n"
     ]
    }
   ],
   "source": [
    "# part b - write your grep command here\n",
    "!grep assistance EnronEDA/results.txt"
   ]
  },
  {
   "cell_type": "code",
   "execution_count": 19,
   "metadata": {},
   "outputs": [
    {
     "name": "stdout",
     "output_type": "stream",
     "text": [
      "Deleted /user/root/HW2/eda-sort-output\n"
     ]
    }
   ],
   "source": [
    "# part d - clear the output directory in HDFS (RUN THIS CELL AS IS)\n",
    "!hdfs dfs -rm -r {HDFS_DIR}/eda-sort-output"
   ]
  },
  {
   "cell_type": "code",
   "execution_count": 20,
   "metadata": {},
   "outputs": [
    {
     "name": "stdout",
     "output_type": "stream",
     "text": [
      "packageJobJar: [] [/usr/lib/hadoop/hadoop-streaming-3.2.2.jar] /tmp/streamjob5078081102412032142.jar tmpDir=null\n",
      "2022-01-30 16:56:34,042 INFO client.RMProxy: Connecting to ResourceManager at w261-m/10.128.0.4:8032\n",
      "2022-01-30 16:56:34,293 INFO client.AHSProxy: Connecting to Application History server at w261-m/10.128.0.4:10200\n",
      "2022-01-30 16:56:34,882 INFO client.RMProxy: Connecting to ResourceManager at w261-m/10.128.0.4:8032\n",
      "2022-01-30 16:56:34,882 INFO client.AHSProxy: Connecting to Application History server at w261-m/10.128.0.4:10200\n",
      "2022-01-30 16:56:35,283 INFO mapreduce.JobResourceUploader: Disabling Erasure Coding for path: /tmp/hadoop-yarn/staging/root/.staging/job_1643557347028_0002\n",
      "2022-01-30 16:56:35,580 WARN concurrent.ExecutorHelper: Thread (Thread[GetFileInfo #2,5,main]) interrupted: \n",
      "java.lang.InterruptedException\n",
      "\tat com.google.common.util.concurrent.AbstractFuture.get(AbstractFuture.java:510)\n",
      "\tat com.google.common.util.concurrent.FluentFuture$TrustedFuture.get(FluentFuture.java:88)\n",
      "\tat org.apache.hadoop.util.concurrent.ExecutorHelper.logThrowableFromAfterExecute(ExecutorHelper.java:48)\n",
      "\tat org.apache.hadoop.util.concurrent.HadoopThreadPoolExecutor.afterExecute(HadoopThreadPoolExecutor.java:90)\n",
      "\tat java.util.concurrent.ThreadPoolExecutor.runWorker(ThreadPoolExecutor.java:1157)\n",
      "\tat java.util.concurrent.ThreadPoolExecutor$Worker.run(ThreadPoolExecutor.java:624)\n",
      "\tat java.lang.Thread.run(Thread.java:748)\n",
      "2022-01-30 16:56:35,582 INFO mapred.FileInputFormat: Total input files to process : 2\n",
      "2022-01-30 16:56:35,668 INFO mapreduce.JobSubmitter: number of splits:10\n",
      "2022-01-30 16:56:35,835 INFO mapreduce.JobSubmitter: Submitting tokens for job: job_1643557347028_0002\n",
      "2022-01-30 16:56:35,836 INFO mapreduce.JobSubmitter: Executing with tokens: []\n",
      "2022-01-30 16:56:36,122 INFO conf.Configuration: resource-types.xml not found\n",
      "2022-01-30 16:56:36,122 INFO resource.ResourceUtils: Unable to find 'resource-types.xml'.\n",
      "2022-01-30 16:56:36,422 INFO impl.YarnClientImpl: Submitted application application_1643557347028_0002\n",
      "2022-01-30 16:56:36,475 INFO mapreduce.Job: The url to track the job: http://w261-m:8088/proxy/application_1643557347028_0002/\n",
      "2022-01-30 16:56:36,477 INFO mapreduce.Job: Running job: job_1643557347028_0002\n",
      "2022-01-30 16:56:43,630 INFO mapreduce.Job: Job job_1643557347028_0002 running in uber mode : false\n",
      "2022-01-30 16:56:43,631 INFO mapreduce.Job:  map 0% reduce 0%\n",
      "2022-01-30 16:56:51,742 INFO mapreduce.Job:  map 30% reduce 0%\n",
      "2022-01-30 16:56:58,821 INFO mapreduce.Job:  map 60% reduce 0%\n",
      "2022-01-30 16:57:04,885 INFO mapreduce.Job:  map 90% reduce 0%\n",
      "2022-01-30 16:57:08,915 INFO mapreduce.Job:  map 100% reduce 0%\n",
      "2022-01-30 16:57:13,945 INFO mapreduce.Job:  map 100% reduce 100%\n",
      "2022-01-30 16:57:15,962 INFO mapreduce.Job: Job job_1643557347028_0002 completed successfully\n",
      "2022-01-30 16:57:16,054 INFO mapreduce.Job: Counters: 54\n",
      "\tFile System Counters\n",
      "\t\tFILE: Number of bytes read=88737\n",
      "\t\tFILE: Number of bytes written=2898114\n",
      "\t\tFILE: Number of read operations=0\n",
      "\t\tFILE: Number of large read operations=0\n",
      "\t\tFILE: Number of write operations=0\n",
      "\t\tHDFS: Number of bytes read=103706\n",
      "\t\tHDFS: Number of bytes written=76611\n",
      "\t\tHDFS: Number of read operations=35\n",
      "\t\tHDFS: Number of large read operations=0\n",
      "\t\tHDFS: Number of write operations=3\n",
      "\t\tHDFS: Number of bytes read erasure-coded=0\n",
      "\tJob Counters \n",
      "\t\tLaunched map tasks=10\n",
      "\t\tLaunched reduce tasks=1\n",
      "\t\tData-local map tasks=10\n",
      "\t\tTotal time spent by all maps in occupied slots (ms)=168700824\n",
      "\t\tTotal time spent by all reduces in occupied slots (ms)=9187116\n",
      "\t\tTotal time spent by all map tasks (ms)=53454\n",
      "\t\tTotal time spent by all reduce tasks (ms)=2911\n",
      "\t\tTotal vcore-milliseconds taken by all map tasks=53454\n",
      "\t\tTotal vcore-milliseconds taken by all reduce tasks=2911\n",
      "\t\tTotal megabyte-milliseconds taken by all map tasks=168700824\n",
      "\t\tTotal megabyte-milliseconds taken by all reduce tasks=9187116\n",
      "\tMap-Reduce Framework\n",
      "\t\tMap input records=6060\n",
      "\t\tMap output records=6060\n",
      "\t\tMap output bytes=76611\n",
      "\t\tMap output materialized bytes=88791\n",
      "\t\tInput split bytes=1010\n",
      "\t\tCombine input records=0\n",
      "\t\tCombine output records=0\n",
      "\t\tReduce input groups=6060\n",
      "\t\tReduce shuffle bytes=88791\n",
      "\t\tReduce input records=6060\n",
      "\t\tReduce output records=6060\n",
      "\t\tSpilled Records=12120\n",
      "\t\tShuffled Maps =10\n",
      "\t\tFailed Shuffles=0\n",
      "\t\tMerged Map outputs=10\n",
      "\t\tGC time elapsed (ms)=1399\n",
      "\t\tCPU time spent (ms)=8840\n",
      "\t\tPhysical memory (bytes) snapshot=5369278464\n",
      "\t\tVirtual memory (bytes) snapshot=48702885888\n",
      "\t\tTotal committed heap usage (bytes)=5118623744\n",
      "\t\tPeak Map Physical memory (bytes)=550854656\n",
      "\t\tPeak Map Virtual memory (bytes)=4429381632\n",
      "\t\tPeak Reduce Physical memory (bytes)=238084096\n",
      "\t\tPeak Reduce Virtual memory (bytes)=4430172160\n",
      "\tShuffle Errors\n",
      "\t\tBAD_ID=0\n",
      "\t\tCONNECTION=0\n",
      "\t\tIO_ERROR=0\n",
      "\t\tWRONG_LENGTH=0\n",
      "\t\tWRONG_MAP=0\n",
      "\t\tWRONG_REDUCE=0\n",
      "\tFile Input Format Counters \n",
      "\t\tBytes Read=102696\n",
      "\tFile Output Format Counters \n",
      "\t\tBytes Written=76611\n",
      "2022-01-30 16:57:16,054 INFO streaming.StreamJob: Output directory: /user/root/HW2/eda-sort-output\n"
     ]
    }
   ],
   "source": [
    "# part d - write your Hadoop streaming job here\n",
    "!hadoop jar {JAR_FILE} \\\n",
    "  -D stream.num.map.output.key.fields=3 \\\n",
    "  -D mapreduce.job.output.key.comparator.class=org.apache.hadoop.mapred.lib.KeyFieldBasedComparator \\\n",
    "  -D mapreduce.partition.keycomparator.options=\"-k2,2rn -k3,3rn \" \\\n",
    "  -mapper /bin/cat \\\n",
    "  -reducer /bin/cat \\\n",
    "  -input {HDFS_DIR}/eda-output/part-0000* \\\n",
    "  -output {HDFS_DIR}/eda-sort-output \\\n",
    "  -numReduceTasks 1 \\\n",
    "  -cmdenv PATH={PATH}"
   ]
  },
  {
   "cell_type": "code",
   "execution_count": 22,
   "metadata": {},
   "outputs": [
    {
     "name": "stdout",
     "output_type": "stream",
     "text": [
      "Deleted /user/root/HW2/eda-sort-output\n"
     ]
    }
   ],
   "source": [
    "# part e - clear the output directory in HDFS (RUN THIS CELL AS IS)\n",
    "!hdfs dfs -rm -r {HDFS_DIR}/eda-sort-output"
   ]
  },
  {
   "cell_type": "code",
   "execution_count": 23,
   "metadata": {},
   "outputs": [
    {
     "name": "stdout",
     "output_type": "stream",
     "text": [
      "packageJobJar: [] [/usr/lib/hadoop/hadoop-streaming-3.2.2.jar] /tmp/streamjob8226685202154302510.jar tmpDir=null\n",
      "2022-01-30 16:57:25,762 INFO client.RMProxy: Connecting to ResourceManager at w261-m/10.128.0.4:8032\n",
      "2022-01-30 16:57:25,996 INFO client.AHSProxy: Connecting to Application History server at w261-m/10.128.0.4:10200\n",
      "2022-01-30 16:57:26,583 INFO client.RMProxy: Connecting to ResourceManager at w261-m/10.128.0.4:8032\n",
      "2022-01-30 16:57:26,584 INFO client.AHSProxy: Connecting to Application History server at w261-m/10.128.0.4:10200\n",
      "2022-01-30 16:57:26,972 INFO mapreduce.JobResourceUploader: Disabling Erasure Coding for path: /tmp/hadoop-yarn/staging/root/.staging/job_1643557347028_0003\n",
      "2022-01-30 16:57:27,270 INFO mapred.FileInputFormat: Total input files to process : 2\n",
      "2022-01-30 16:57:27,345 INFO mapreduce.JobSubmitter: number of splits:10\n",
      "2022-01-30 16:57:27,507 INFO mapreduce.JobSubmitter: Submitting tokens for job: job_1643557347028_0003\n",
      "2022-01-30 16:57:27,509 INFO mapreduce.JobSubmitter: Executing with tokens: []\n",
      "2022-01-30 16:57:27,801 INFO conf.Configuration: resource-types.xml not found\n",
      "2022-01-30 16:57:27,801 INFO resource.ResourceUtils: Unable to find 'resource-types.xml'.\n",
      "2022-01-30 16:57:27,891 INFO impl.YarnClientImpl: Submitted application application_1643557347028_0003\n",
      "2022-01-30 16:57:27,930 INFO mapreduce.Job: The url to track the job: http://w261-m:8088/proxy/application_1643557347028_0003/\n",
      "2022-01-30 16:57:27,931 INFO mapreduce.Job: Running job: job_1643557347028_0003\n",
      "2022-01-30 16:57:36,062 INFO mapreduce.Job: Job job_1643557347028_0003 running in uber mode : false\n",
      "2022-01-30 16:57:36,063 INFO mapreduce.Job:  map 0% reduce 0%\n",
      "2022-01-30 16:57:44,200 INFO mapreduce.Job:  map 30% reduce 0%\n",
      "2022-01-30 16:57:50,263 INFO mapreduce.Job:  map 40% reduce 0%\n",
      "2022-01-30 16:57:51,269 INFO mapreduce.Job:  map 60% reduce 0%\n",
      "2022-01-30 16:57:56,318 INFO mapreduce.Job:  map 70% reduce 0%\n",
      "2022-01-30 16:57:57,325 INFO mapreduce.Job:  map 90% reduce 0%\n",
      "2022-01-30 16:58:00,356 INFO mapreduce.Job:  map 100% reduce 0%\n",
      "2022-01-30 16:58:06,394 INFO mapreduce.Job:  map 100% reduce 50%\n",
      "2022-01-30 16:58:07,398 INFO mapreduce.Job:  map 100% reduce 100%\n",
      "2022-01-30 16:58:08,412 INFO mapreduce.Job: Job job_1643557347028_0003 completed successfully\n",
      "2022-01-30 16:58:08,501 INFO mapreduce.Job: Counters: 55\n",
      "\tFile System Counters\n",
      "\t\tFILE: Number of bytes read=88743\n",
      "\t\tFILE: Number of bytes written=3150136\n",
      "\t\tFILE: Number of read operations=0\n",
      "\t\tFILE: Number of large read operations=0\n",
      "\t\tFILE: Number of write operations=0\n",
      "\t\tHDFS: Number of bytes read=103706\n",
      "\t\tHDFS: Number of bytes written=76611\n",
      "\t\tHDFS: Number of read operations=40\n",
      "\t\tHDFS: Number of large read operations=0\n",
      "\t\tHDFS: Number of write operations=6\n",
      "\t\tHDFS: Number of bytes read erasure-coded=0\n",
      "\tJob Counters \n",
      "\t\tKilled reduce tasks=1\n",
      "\t\tLaunched map tasks=10\n",
      "\t\tLaunched reduce tasks=2\n",
      "\t\tData-local map tasks=10\n",
      "\t\tTotal time spent by all maps in occupied slots (ms)=165229224\n",
      "\t\tTotal time spent by all reduces in occupied slots (ms)=23458548\n",
      "\t\tTotal time spent by all map tasks (ms)=52354\n",
      "\t\tTotal time spent by all reduce tasks (ms)=7433\n",
      "\t\tTotal vcore-milliseconds taken by all map tasks=52354\n",
      "\t\tTotal vcore-milliseconds taken by all reduce tasks=7433\n",
      "\t\tTotal megabyte-milliseconds taken by all map tasks=165229224\n",
      "\t\tTotal megabyte-milliseconds taken by all reduce tasks=23458548\n",
      "\tMap-Reduce Framework\n",
      "\t\tMap input records=6060\n",
      "\t\tMap output records=6060\n",
      "\t\tMap output bytes=76611\n",
      "\t\tMap output materialized bytes=88851\n",
      "\t\tInput split bytes=1010\n",
      "\t\tCombine input records=0\n",
      "\t\tCombine output records=0\n",
      "\t\tReduce input groups=6060\n",
      "\t\tReduce shuffle bytes=88851\n",
      "\t\tReduce input records=6060\n",
      "\t\tReduce output records=6060\n",
      "\t\tSpilled Records=12120\n",
      "\t\tShuffled Maps =20\n",
      "\t\tFailed Shuffles=0\n",
      "\t\tMerged Map outputs=20\n",
      "\t\tGC time elapsed (ms)=1642\n",
      "\t\tCPU time spent (ms)=9590\n",
      "\t\tPhysical memory (bytes) snapshot=5856202752\n",
      "\t\tVirtual memory (bytes) snapshot=53127581696\n",
      "\t\tTotal committed heap usage (bytes)=5932318720\n",
      "\t\tPeak Map Physical memory (bytes)=550027264\n",
      "\t\tPeak Map Virtual memory (bytes)=4428750848\n",
      "\t\tPeak Reduce Physical memory (bytes)=280543232\n",
      "\t\tPeak Reduce Virtual memory (bytes)=4430471168\n",
      "\tShuffle Errors\n",
      "\t\tBAD_ID=0\n",
      "\t\tCONNECTION=0\n",
      "\t\tIO_ERROR=0\n",
      "\t\tWRONG_LENGTH=0\n",
      "\t\tWRONG_MAP=0\n",
      "\t\tWRONG_REDUCE=0\n",
      "\tFile Input Format Counters \n",
      "\t\tBytes Read=102696\n",
      "\tFile Output Format Counters \n",
      "\t\tBytes Written=76611\n",
      "2022-01-30 16:58:08,502 INFO streaming.StreamJob: Output directory: /user/root/HW2/eda-sort-output\n"
     ]
    }
   ],
   "source": [
    "# part e - write your Hadoop streaming job here\n",
    "!hadoop jar {JAR_FILE} \\\n",
    "  -D stream.num.map.output.key.fields=3 \\\n",
    "  -D mapreduce.job.output.key.comparator.class=org.apache.hadoop.mapred.lib.KeyFieldBasedComparator \\\n",
    "  -D mapreduce.partition.keycomparator.options=\"-k3,3nr\" \\\n",
    "  -D mapreduce.partition.keypartitioner.options=\"-k2,2\"  \\\n",
    "  -mapper /bin/cat \\\n",
    "  -reducer /bin/cat \\\n",
    "  -partitioner org.apache.hadoop.mapred.lib.KeyFieldBasedPartitioner \\\n",
    "  -input {HDFS_DIR}/eda-output/part-0000* \\\n",
    "  -output {HDFS_DIR}/eda-sort-output \\\n",
    "  -cmdenv PATH={PATH}\\\n",
    "  -numReduceTasks 2"
   ]
  },
  {
   "cell_type": "code",
   "execution_count": 24,
   "metadata": {},
   "outputs": [
    {
     "name": "stdout",
     "output_type": "stream",
     "text": [
      "\n",
      "===== part-00000=====\n",
      "\n",
      "the\t0\t549\t\n",
      "to\t0\t398\t\n",
      "ect\t0\t382\t\n",
      "and\t0\t278\t\n",
      "of\t0\t230\t\n",
      "hou\t0\t206\t\n",
      "a\t0\t196\t\n",
      "in\t0\t182\t\n",
      "for\t0\t170\t\n",
      "on\t0\t135\t\n",
      "cat: Unable to write to output stream.\n",
      "\n",
      "===== part-00001=====\n",
      "\n",
      "the\t1\t698\t\n",
      "to\t1\t566\t\n",
      "and\t1\t392\t\n",
      "your\t1\t357\t\n",
      "a\t1\t347\t\n",
      "you\t1\t345\t\n",
      "of\t1\t336\t\n",
      "in\t1\t236\t\n",
      "for\t1\t204\t\n",
      "com\t1\t153\t\n",
      "cat: Unable to write to output stream.\n"
     ]
    }
   ],
   "source": [
    "# part e - view the top 10 records from each partition (RUN THIS CELL AS IS)\n",
    "for idx in range(2):\n",
    "    print(f\"\\n===== part-0000{idx}=====\\n\")\n",
    "    !hdfs dfs -cat {HDFS_DIR}/eda-sort-output/part-0000{idx} | head"
   ]
  },
  {
   "cell_type": "markdown",
   "metadata": {},
   "source": [
    "__Expected output:__\n",
    "<table>\n",
    "<th>part-00000:</th>\n",
    "<th>part-00001:</th>\n",
    "<tr><td><pre>\n",
    "the\t0\t549\t\n",
    "to\t0\t398\t\n",
    "ect\t0\t382\t\n",
    "and\t0\t278\t\n",
    "of\t0\t230\t\n",
    "hou\t0\t206\t\n",
    "a\t0\t196\t\n",
    "in\t0\t182\t\n",
    "for\t0\t170\t\n",
    "on\t0\t135\n",
    "</pre></td>\n",
    "<td><pre>\n",
    "the\t1\t698\t\n",
    "to\t1\t566\t\n",
    "and\t1\t392\t\n",
    "your\t1\t357\t\n",
    "a\t1\t347\t\n",
    "you\t1\t345\t\n",
    "of\t1\t336\t\n",
    "in\t1\t236\t\n",
    "for\t1\t204\t\n",
    "com\t1\t153\n",
    "</pre></td></tr>\n",
    "</table>"
   ]
  },
  {
   "cell_type": "markdown",
   "metadata": {},
   "source": [
    "# Question 5: Counters and Combiners.\n",
    "Tuning the number of mappers & reducers is helpful to optimize very large distributed computations. Doing so successfully requires a thorough understanding of the data size at each stage of the job. As you learned in the week3 live session, counters are an invaluable resource for understanding this kind of detail. In this question, we will take the EDA performed in Question 4 as an opportunity to illustrate some related concepts.\n",
    "\n",
    "### Q5 Tasks:\n",
    "* __a) short response:__ Read the Hadoop output from your job in Question 4a to report how many records are emitted by the mappers and how many records are received be the reducers. In the context of word counting what does this number represent practically?\n",
    "\n",
    "* __b) code:__ Note that we wrote the reducer in question 4a such that the input and output record format is identical. This makes it easy to use the same reducer script as a combiner. In the space provided below, write the Hadoop Streaming command to re-run your job from question 4a with this combining added.\n",
    "\n",
    "* __c) short response__: Report the number of records emitted by your mappers in part b and the number of records received by your reducers. Compare your results here to what you saw in part a. Explain.\n",
    "\n",
    "* __d) short response__: Describe a scenario where using a combiner would _NOT_ improve the efficiency of the shuffle stage. Explain. [__`BONUS:`__ how does increasing the number of mappers affect the usefulness of a combiner?]"
   ]
  },
  {
   "cell_type": "markdown",
   "metadata": {},
   "source": [
    "### Q5 Student Answers:\n",
    "> __a)__ The mapper emitted 31,490 records and the reducer received 31,490 records. This represents the total word count of the dataset.   \n",
    "\n",
    "> __c)__ The mapper emitted 31,490 records and the reducer received 11,433 records. The combiner consolidated the number of records from 31,490 to 11,433.   \n",
    "\n",
    "> __d)__ A combiner can be used when the reduce function is commutative and associative. A combiner would not improve efficiency (would not be used) when calculating word frequencies. As the number of mappers increases, the useful of a combiner decreases because there are fewer records within each mapper that could be aggregated at output."
   ]
  },
  {
   "cell_type": "code",
   "execution_count": 25,
   "metadata": {},
   "outputs": [
    {
     "name": "stdout",
     "output_type": "stream",
     "text": [
      "Deleted /user/root/HW2/eda-output\n"
     ]
    }
   ],
   "source": [
    "# part b - clear output directory in HDFS (RUN THIS CELL AS IS)\n",
    "!hdfs dfs -rm -r {HDFS_DIR}/eda-output"
   ]
  },
  {
   "cell_type": "code",
   "execution_count": 26,
   "metadata": {},
   "outputs": [
    {
     "name": "stdout",
     "output_type": "stream",
     "text": [
      "packageJobJar: [] [/usr/lib/hadoop/hadoop-streaming-3.2.2.jar] /tmp/streamjob1299963257902841079.jar tmpDir=null\n",
      "2022-01-30 17:01:41,308 INFO client.RMProxy: Connecting to ResourceManager at w261-m/10.128.0.4:8032\n",
      "2022-01-30 17:01:41,582 INFO client.AHSProxy: Connecting to Application History server at w261-m/10.128.0.4:10200\n",
      "2022-01-30 17:01:42,070 INFO client.RMProxy: Connecting to ResourceManager at w261-m/10.128.0.4:8032\n",
      "2022-01-30 17:01:42,071 INFO client.AHSProxy: Connecting to Application History server at w261-m/10.128.0.4:10200\n",
      "2022-01-30 17:01:42,265 INFO mapreduce.JobResourceUploader: Disabling Erasure Coding for path: /tmp/hadoop-yarn/staging/root/.staging/job_1643557347028_0004\n",
      "2022-01-30 17:01:42,647 INFO mapred.FileInputFormat: Total input files to process : 1\n",
      "2022-01-30 17:01:42,718 INFO mapreduce.JobSubmitter: number of splits:9\n",
      "2022-01-30 17:01:42,871 INFO mapreduce.JobSubmitter: Submitting tokens for job: job_1643557347028_0004\n",
      "2022-01-30 17:01:42,872 INFO mapreduce.JobSubmitter: Executing with tokens: []\n",
      "2022-01-30 17:01:43,135 INFO conf.Configuration: resource-types.xml not found\n",
      "2022-01-30 17:01:43,135 INFO resource.ResourceUtils: Unable to find 'resource-types.xml'.\n",
      "2022-01-30 17:01:43,204 INFO impl.YarnClientImpl: Submitted application application_1643557347028_0004\n",
      "2022-01-30 17:01:43,240 INFO mapreduce.Job: The url to track the job: http://w261-m:8088/proxy/application_1643557347028_0004/\n",
      "2022-01-30 17:01:43,241 INFO mapreduce.Job: Running job: job_1643557347028_0004\n",
      "2022-01-30 17:01:51,369 INFO mapreduce.Job: Job job_1643557347028_0004 running in uber mode : false\n",
      "2022-01-30 17:01:51,370 INFO mapreduce.Job:  map 0% reduce 0%\n",
      "2022-01-30 17:01:59,493 INFO mapreduce.Job:  map 33% reduce 0%\n",
      "2022-01-30 17:02:05,548 INFO mapreduce.Job:  map 44% reduce 0%\n",
      "2022-01-30 17:02:06,555 INFO mapreduce.Job:  map 67% reduce 0%\n",
      "2022-01-30 17:02:11,602 INFO mapreduce.Job:  map 78% reduce 0%\n",
      "2022-01-30 17:02:13,616 INFO mapreduce.Job:  map 100% reduce 0%\n",
      "2022-01-30 17:02:20,664 INFO mapreduce.Job:  map 100% reduce 50%\n",
      "2022-01-30 17:02:21,669 INFO mapreduce.Job:  map 100% reduce 100%\n",
      "2022-01-30 17:02:22,683 INFO mapreduce.Job: Job job_1643557347028_0004 completed successfully\n",
      "2022-01-30 17:02:22,779 INFO mapreduce.Job: Counters: 55\n",
      "\tFile System Counters\n",
      "\t\tFILE: Number of bytes read=149033\n",
      "\t\tFILE: Number of bytes written=3033308\n",
      "\t\tFILE: Number of read operations=0\n",
      "\t\tFILE: Number of large read operations=0\n",
      "\t\tFILE: Number of write operations=0\n",
      "\t\tHDFS: Number of bytes read=258608\n",
      "\t\tHDFS: Number of bytes written=70551\n",
      "\t\tHDFS: Number of read operations=37\n",
      "\t\tHDFS: Number of large read operations=0\n",
      "\t\tHDFS: Number of write operations=6\n",
      "\t\tHDFS: Number of bytes read erasure-coded=0\n",
      "\tJob Counters \n",
      "\t\tKilled map tasks=1\n",
      "\t\tLaunched map tasks=9\n",
      "\t\tLaunched reduce tasks=2\n",
      "\t\tData-local map tasks=9\n",
      "\t\tTotal time spent by all maps in occupied slots (ms)=158778360\n",
      "\t\tTotal time spent by all reduces in occupied slots (ms)=25364772\n",
      "\t\tTotal time spent by all map tasks (ms)=50310\n",
      "\t\tTotal time spent by all reduce tasks (ms)=8037\n",
      "\t\tTotal vcore-milliseconds taken by all map tasks=50310\n",
      "\t\tTotal vcore-milliseconds taken by all reduce tasks=8037\n",
      "\t\tTotal megabyte-milliseconds taken by all map tasks=158778360\n",
      "\t\tTotal megabyte-milliseconds taken by all reduce tasks=25364772\n",
      "\tMap-Reduce Framework\n",
      "\t\tMap input records=100\n",
      "\t\tMap output records=31490\n",
      "\t\tMap output bytes=306018\n",
      "\t\tMap output materialized bytes=149129\n",
      "\t\tInput split bytes=801\n",
      "\t\tCombine input records=31490\n",
      "\t\tCombine output records=11433\n",
      "\t\tReduce input groups=5065\n",
      "\t\tReduce shuffle bytes=149129\n",
      "\t\tReduce input records=11433\n",
      "\t\tReduce output records=6060\n",
      "\t\tSpilled Records=22866\n",
      "\t\tShuffled Maps =18\n",
      "\t\tFailed Shuffles=0\n",
      "\t\tMerged Map outputs=18\n",
      "\t\tGC time elapsed (ms)=1530\n",
      "\t\tCPU time spent (ms)=11720\n",
      "\t\tPhysical memory (bytes) snapshot=5143531520\n",
      "\t\tVirtual memory (bytes) snapshot=48709967872\n",
      "\t\tTotal committed heap usage (bytes)=5155323904\n",
      "\t\tPeak Map Physical memory (bytes)=550350848\n",
      "\t\tPeak Map Virtual memory (bytes)=4429017088\n",
      "\t\tPeak Reduce Physical memory (bytes)=286683136\n",
      "\t\tPeak Reduce Virtual memory (bytes)=4432986112\n",
      "\tShuffle Errors\n",
      "\t\tBAD_ID=0\n",
      "\t\tCONNECTION=0\n",
      "\t\tIO_ERROR=0\n",
      "\t\tWRONG_LENGTH=0\n",
      "\t\tWRONG_MAP=0\n",
      "\t\tWRONG_REDUCE=0\n",
      "\tFile Input Format Counters \n",
      "\t\tBytes Read=257807\n",
      "\tFile Output Format Counters \n",
      "\t\tBytes Written=70551\n",
      "2022-01-30 17:02:22,780 INFO streaming.StreamJob: Output directory: /user/root/HW2/eda-output\n"
     ]
    }
   ],
   "source": [
    "# part b - write your Hadoop streaming job here\n",
    "!hadoop jar {JAR_FILE} \\\n",
    "  -files EnronEDA/reducer.py,EnronEDA/mapper.py \\\n",
    "  -mapper mapper.py \\\n",
    "  -combiner reducer.py \\\n",
    "  -reducer reducer.py \\\n",
    "  -input {HDFS_DIR}/enron.txt \\\n",
    "  -output {HDFS_DIR}/eda-output \\\n",
    "  -numReduceTasks 2 \\\n",
    "  -cmdenv PATH={PATH}"
   ]
  },
  {
   "cell_type": "markdown",
   "metadata": {},
   "source": [
    "# Question 6: Document Classification Task Overview.\n",
    "The week 2 assigned reading from Chapter 13 of _Introduction to Information Retrieval_ by Manning, Raghavan and Schutze provides a thorough introduction to the document classification task and the math behind Naive Bayes. In this question we'll use the example from Table 13.1 (reproduced below) to 'train' an unsmoothed Multinomial Naive Bayes model and classify a test document by hand.\n",
    "\n",
    "<table>\n",
    "<th>DocID</th>\n",
    "<th>Class</th>\n",
    "<th>Subject</th>\n",
    "<th>Body</th>\n",
    "<tr><td>Doc1</td><td>1</td><td></td><td>Chinese Beijing Chinese</td></tr>\n",
    "<tr><td>Doc2</td><td>1</td><td></td><td>Chinese Chinese Shanghai</td></tr>\n",
    "<tr><td>Doc3</td><td>1</td><td></td><td>Chinese Macao</td></tr>\n",
    "<tr><td>Doc4</td><td>0</td><td></td><td>Tokyo Japan Chinese</td></tr>\n",
    "</table>\n",
    "\n",
    "### Q6 Tasks:\n",
    "* __a) short response:__ Equation 13.3 in Manning, Raghavan and Shutze shows how a Multinomial Naive Bayes model classifies a document. It predicts the class, $c$, for which the estimated conditional probability of the class given the document's contents,  $\\hat{P}(c|d)$, is greatest. In this equation what two pieces of information are required to calculate  $\\hat{P}(c|d)$? Your answer should include both mathematical notatation and verbal explanation.\n",
    "\n",
    "\n",
    "* __b) short response:__ The Enron data includes two classes of documents: `spam` and `ham` (they're actually labeled `1` and `0`). In plain English, explain what  $\\hat{P}(c)$ and   $\\hat{P}(t_{k} | c)$ mean in the context of this data. How will we would estimate these values from a training corpus? How many passes over the data would we need to make to retrieve this information for all classes and all words?\n",
    "\n",
    "\n",
    "* __c) hand calculations:__ Above we've reproduced the document classification example from the textbook (we added an empty subject field to mimic the Enron data format). Remember that the classes in this \"Chinese Example\" are `1` (about China) and `0` (not about China). Calculate the class priors and the conditional probabilities for an __unsmoothed__ Multinomial Naive Bayes model trained on this data. Show the calculations that lead to your result using markdown and $\\LaTeX$ in the space provided or by embedding an image of your hand written work. [`NOTE:` _Your results should NOT match those in the text -- they are training a model with +1 smoothing you are training a model without smoothing_]\n",
    "\n",
    "\n",
    "* __d) hand calculations:__ Use the model you trained to classify the following test document: `Chinese Chinese Chinese Tokyo Japan`. Show the calculations that lead to your result using markdown and   $\\LaTeX$ in the space provided or by embedding an image of your hand written work.\n",
    "\n",
    "\n",
    "* __e) short response:__ Compare the classification you get from this unsmoothed model in `d`/`e` to the results in the textbook's \"Example 1\" which reflects a model with Laplace plus 1 smoothing. How does smoothing affect our inference?"
   ]
  },
  {
   "cell_type": "markdown",
   "metadata": {},
   "source": [
    "### Q6 Student Answers:\n",
    "> __a)__ To calculate $\\hat{P}(c|d)$ we need to know $\\hat{P}(c)$, the estimated prior probability of a document occurring in class $c$, and $\\hat{P}(t_{k} | c)$, the conditional probability of the word $t_{k}$ occurring in class $c$. The conditional probability of the class given the content of the document is equal to the estimated prior probability of a document occurring in that class, multiplied by the probability of the term being in that class for each term in the document content, or in mathematical notation: $$\\hat{P}(c|d) = \\hat{P}(c)\\Pi \\hat{P}(t_{k} | c)$$\n",
    "\n",
    "> __b)__ $\\hat{P}(c)$ represents the prior probability of a document occurring in that class; for the spam class it's the number of spam documents divided by the total number of documents and for the ham class it's the number of ham documents divided by the total number of documents. $\\hat{P}(t_{k} | c) = \\frac{\\hat{P}(t_{k} \\cap c)}{\\hat{P}(c)}$ is the probability of a word appearing given that the document belongs to a certain class, so the frequency of that word among all words in documents belonging to that class.\n",
    "\n",
    "> __c)__ Embedded below\n",
    "\n",
    "> __d)__ Embedded below\n",
    "\n",
    "> __e)__ Smoothing prevents the conditional probability of a class from dropping to zero if a word occurs in the document that did not appear in the training documents for that class. In the smoothed model, the probability of the document belonging to class 0 is similar to the unsmoothed model, but the probability of the document belonging to class 1 is 0.0003 instead of 0. In the smoothed model, class 1 is more likely.\n"
   ]
  },
  {
   "cell_type": "code",
   "execution_count": null,
   "metadata": {},
   "outputs": [],
   "source": [
    "# part d/e - if you didn't write out your calcuations above, embed a picture of them here:\n",
    "from IPython.display import Image\n",
    "Image(filename=\"q6_calcs.png\")"
   ]
  },
  {
   "cell_type": "markdown",
   "metadata": {},
   "source": [
    "# Question 7: Naive Bayes Inference.\n",
    "In the next two questions you'll write code to parallelize the Naive Bayes calculations that you performed above. We'll do this in two phases: one MapReduce job to perform training and a second MapReduce to perform inference. While in practice we'd need to train a model before we can use it to classify documents, for learning purposes we're going to develop our code in the opposite order. By first focusing on the pieces of information/format we need to perform the classification (inference) task you should find it easier to develop a solid implementation for training phase when you get to question 8 below. In both of these questions we'll continue to use the Chinese example corpus from the textbook to help us test our MapReduce code as we develop it. Below we've reproduced the corpus, test set and model in text format that matches the Enron data.\n",
    "\n",
    "### Q7 Tasks:\n",
    "* __a) short response:__ run the provided cells to create the example files and load them in to HDFS. Then take a closer look at __`NBmodel.txt`__. This text file represents a Naive Bayes model trained (with Laplace +1 smoothing) on the example corpus. What are the 'keys' and 'values' in this file? Which record means something slightly different than the rest? The value field of each record includes two numbers which will be helpful for debugging but which we don't actually need to perform inference -- what are they? [`HINT`: _This file represents the model from Example 13.1 in the textbook, if you're having trouble getting oriented try comparing our file to the numbers in that example._]\n",
    "\n",
    "\n",
    "* __b) short response:__ When performing Naive Bayes in practice instead of multiplying the probabilities (as in equation 13.3) we add their logs (as in equation 13.4). Why do we choose to work with log probabilities? If we had an unsmoothed model, what potential error could arise from this transformation?\n",
    "\n",
    "\n",
    "* __c) short response:__ Documents 6 and 8 in the test set include a word that did not appear in the training corpus (and as a result does not appear in the model). What should we do at inference time when we need a class conditional probability for this word?\n",
    "\n",
    "\n",
    "* __d) short response:__ The goal of our MapReduce job is to stream over the test set and classify each document by peforming the calculation from equation 13.4. To do this we'll load the model file (which contains the probabilities for equation 13.4) into memory on the nodes where we do our mapping. This is called an in-memory join. Does loading a model 'state' like this depart from the functional programming principles? Explain why or why not. From a scability perspective when would this kind of memory use be justified? when would it be unwise?\n",
    "\n",
    "\n",
    "* __e) code:__ Complete the code in __`NaiveBayes/classify_mapper.py`__. Read the docstring carefully to understand how this script should work and the format it should return. Run the provided unit tests to confirm that your script works as expected then write a Hadoop streaming job to classify the Chinese example test set. [`HINT 1:` _you shouldn't need a reducer for this one._ `HINT 2:` _Don't forget to add the model file to the_ `-files` _parameter in your Hadoop streaming job so that it gets shipped to the mapper nodes where it will be accessed by your script._]\n",
    "\n",
    "\n",
    "* __f) short response:__ In our test example and in the Enron data set we have fairly short documents. Since these fit fine in memory on a mapper node we didn't need a reducer and could just do all of our calculations in the mapper. However with much longer documents (eg. books) we might want a higher level of parallelization -- for example we might want to process parts of a document on different nodes. In this hypothetical scenario how would our algorithm design change? What could the mappers still do? What key-value structure would they emit? What would the reducers have to do as a last step?"
   ]
  },
  {
   "cell_type": "markdown",
   "metadata": {},
   "source": [
    "### Q7 Student Answers:\n",
    "> __a)__ The keys in this file are the words, the values are lists of counts of the word in the ham class, counts of the word in the spam class, conditional probability of the word given the ham class, and conditional probability of the word given the spam class, respectively. The class priors record is the number of ham docs, number of spam docs, prior probability of a ham doc, and prior probability of a spam doc. The count of occurrences per class is helpful for debugging but not necessary to perform inference.\n",
    "\n",
    "> __b)__ Working with log probabilities prevents floating point underflow as a result of multiplying many numbers smaller than 1. In an unsmoothed model, this could cause an error when handling words with a conditional probability of 0, because the log of 0 is undefined.\n",
    "\n",
    "> __c)__ We should assume a class conditional probability of 1 because the log of 1 is 0 so the previously unseen words won't affect the inference.\n",
    "\n",
    "> __d)__ Type your answer here!\n",
    "\n",
    "> __e)__ Complete the coding portion of this question before answering 'f'.\n",
    "\n",
    "> __f)__ Type your answer here!\n"
   ]
  },
  {
   "cell_type": "markdown",
   "metadata": {},
   "source": [
    "Run these cells to create the example corpus and model."
   ]
  },
  {
   "cell_type": "code",
   "execution_count": 60,
   "metadata": {},
   "outputs": [
    {
     "name": "stdout",
     "output_type": "stream",
     "text": [
      "Writing NaiveBayes/chineseTrain.txt\n"
     ]
    }
   ],
   "source": [
    "%%writefile NaiveBayes/chineseTrain.txt\n",
    "D1\t1\t\tChinese Beijing Chinese\n",
    "D2\t1\t\tChinese Chinese Shanghai\n",
    "D3\t1\t\tChinese Macao\n",
    "D4\t0\t\tTokyo Japan Chinese"
   ]
  },
  {
   "cell_type": "code",
   "execution_count": 61,
   "metadata": {},
   "outputs": [
    {
     "name": "stdout",
     "output_type": "stream",
     "text": [
      "Writing NaiveBayes/chineseTest.txt\n"
     ]
    }
   ],
   "source": [
    "%%writefile NaiveBayes/chineseTest.txt\n",
    "D5\t1\t\tChinese Chinese Chinese Tokyo Japan\n",
    "D6\t1\t\tBeijing Shanghai Trade\n",
    "D7\t0\t\tJapan Macao Tokyo\n",
    "D8\t0\t\tTokyo Japan Trade"
   ]
  },
  {
   "cell_type": "code",
   "execution_count": 62,
   "metadata": {},
   "outputs": [
    {
     "name": "stdout",
     "output_type": "stream",
     "text": [
      "Writing NBmodel.txt\n"
     ]
    }
   ],
   "source": [
    "%%writefile NBmodel.txt\n",
    "beijing\t0.0,1.0,0.111111111111,0.142857142857\n",
    "chinese\t1.0,5.0,0.222222222222,0.428571428571\n",
    "tokyo\t1.0,0.0,0.222222222222,0.0714285714286\n",
    "shanghai\t0.0,1.0,0.111111111111,0.142857142857\n",
    "ClassPriors\t1.0,3.0,0.25,0.75\n",
    "japan\t1.0,0.0,0.222222222222,0.0714285714286\n",
    "macao\t0.0,1.0,0.111111111111,0.142857142857"
   ]
  },
  {
   "cell_type": "code",
   "execution_count": 63,
   "metadata": {},
   "outputs": [],
   "source": [
    "# load the data files into HDFS\n",
    "!hdfs dfs -copyFromLocal NaiveBayes/chineseTrain.txt {HDFS_DIR}\n",
    "!hdfs dfs -copyFromLocal NaiveBayes/chineseTest.txt {HDFS_DIR}"
   ]
  },
  {
   "cell_type": "markdown",
   "metadata": {},
   "source": [
    "Your work for `part e` starts here:"
   ]
  },
  {
   "cell_type": "code",
   "execution_count": 7,
   "metadata": {},
   "outputs": [],
   "source": [
    "# part e - do your work in NaiveBayes/classify_mapper.py first, then run this cell.\n",
    "!chmod a+x NaiveBayes/classify_mapper.py"
   ]
  },
  {
   "cell_type": "code",
   "execution_count": 8,
   "metadata": {},
   "outputs": [
    {
     "name": "stdout",
     "output_type": "stream",
     "text": [
      "#!/usr/bin/env python\n",
      "\"\"\"\n",
      "Mapper for Naive Bayes Inference.\n",
      "INPUT:\n",
      "    ID \\t true_class \\t subject \\t body \\n\n",
      "OUTPUT:\n",
      "    ID \\t true_class \\t logP(ham|doc) \\t logP(spam|doc) \\t predicted_class\n",
      "SUPPLEMENTAL FILE: \n",
      "    This script requires a trained Naive Bayes model stored \n",
      "    as NBmodel.txt in the current directory. The model should \n",
      "    be a tab separated file whose records look like:\n",
      "        WORD \\t ham_count,spam_count,P(word|ham),P(word|spam)\n",
      "        \n",
      "Instructions:\n",
      "    We have loaded the supplemental file and taken the log of \n",
      "    each conditional probability in the model. We also provide\n",
      "    the code to tokenize the input lines for you. Keep in mind \n",
      "    that each 'line' of this file represents a unique document \n",
      "    that we wish to classify. Fill in the missing code to get\n",
      "    the probability of each class given the words in the document.\n",
      "    Remember that you will need to handle the case where you\n",
      "    encounter a word that is not represented in the model.\n",
      "\"\"\"\n",
      "import os\n",
      "import re\n",
      "import sys\n",
      "import numpy as np\n",
      "\n",
      "# confirm that we have access to the model file\n",
      "assert 'NBmodel.txt' in os.listdir('.'), \"ERROR: can't find NBmodel.txt\"\n",
      "\n",
      "# load the model into a dictionary for easy access\n",
      "MODEL = {}\n",
      "for record in open('NBmodel.txt', 'r').readlines():\n",
      "    word, payload = record.split('\\t')\n",
      "    # extract conditional probabilities\n",
      "    ham_cProb, spam_cProb = payload.split(',')[2:]\n",
      "    # save their logs as a tuple in our model dictionary\n",
      "    take_log = lambda x: np.log(x) if x != 0 else float(\"-inf\")\n",
      "    MODEL[word] = (take_log(float(ham_cProb)),\n",
      "                   take_log(float(spam_cProb)))\n",
      "\n",
      "# read from standard input\n",
      "for line in sys.stdin:\n",
      "    # parse input and tokenize\n",
      "    docID, _class, subject, body = line.lower().split('\\t')\n",
      "    words = re.findall(r'[a-z]+', subject + ' ' + body)\n",
      "    \n",
      "    # initialize variables that student code should overwrite\n",
      "    logpHam, logpSpam, pred_class = None, None, None\n",
      "    \n",
      "    ################# YOUR CODE HERE ################\n",
      "    # TIP: try using MODEL.get(word, (0,0)) to access the tuple \n",
      "    # of log probabilities without throwing a KeyError!\n",
      "    logpHam = MODEL.get('ClassPriors')[0]\n",
      "    logpSpam = MODEL.get('ClassPriors')[1]\n",
      "    \n",
      "    for word in words:\n",
      "        l_ham, l_spam = MODEL.get(word, (0,0))\n",
      "        logpHam += l_ham\n",
      "        logpSpam += l_spam\n",
      "    \n",
      "    if logpHam > logpSam\n",
      "        pred_class = 0\n",
      "    else:\n",
      "        pred_class = 1\n",
      "\n",
      "    ################# (END) YOUR CODE ##############\n",
      "    \n",
      "    print(f\"{docID}\\t{_class}\\t{logpHam}\\t{logpSpam}\\t{pred_class}\")"
     ]
    }
   ],
   "source": [
    "!cat NaiveBayes/classify_mapper.py"
   ]
  },
  {
   "cell_type": "code",
   "execution_count": 10,
   "metadata": {},
   "outputs": [
    {
     "name": "stdout",
     "output_type": "stream",
     "text": [
      "d5  1  -8.90668134500626   -8.10769031284611   1\n",
      "d6  1  -5.780743515794329  -4.179502370564408  1\n",
      "d7  0  -6.591673732011658  -7.511706880737812  0\n",
      "d8  0  -4.394449154674438  -5.565796731681498  0\n"
     ]
    }
   ],
   "source": [
    "# part e - unit test NaiveBayes/classify_mapper.py (RUN THIS CELL AS IS)\n",
    "!cat NaiveBayes/chineseTest.txt | NaiveBayes/classify_mapper.py | column -t"
   ]
  },
  {
   "cell_type": "code",
   "execution_count": 33,
   "metadata": {},
   "outputs": [
    {
     "name": "stdout",
     "output_type": "stream",
     "text": [
      "Deleted /user/root/HW2/chinese-output\n"
     ]
    }
   ],
   "source": [
    "# part e - clear the output directory in HDFS (RUN THIS CELL AS IS)\n",
    "!hdfs dfs -rm -r {HDFS_DIR}/chinese-output"
   ]
  },
  {
   "cell_type": "code",
   "execution_count": 34,
   "metadata": {},
   "outputs": [
    {
     "name": "stdout",
     "output_type": "stream",
     "text": [
      "packageJobJar: [] [/usr/lib/hadoop/hadoop-streaming-3.2.2.jar] /tmp/streamjob134036378462332476.jar tmpDir=null\n",
      "2022-01-30 17:31:16,022 INFO client.RMProxy: Connecting to ResourceManager at w261-m/10.128.0.4:8032\n",
      "2022-01-30 17:31:16,299 INFO client.AHSProxy: Connecting to Application History server at w261-m/10.128.0.4:10200\n",
      "2022-01-30 17:31:16,776 INFO client.RMProxy: Connecting to ResourceManager at w261-m/10.128.0.4:8032\n",
      "2022-01-30 17:31:16,777 INFO client.AHSProxy: Connecting to Application History server at w261-m/10.128.0.4:10200\n",
      "2022-01-30 17:31:16,967 INFO mapreduce.JobResourceUploader: Disabling Erasure Coding for path: /tmp/hadoop-yarn/staging/root/.staging/job_1643557347028_0006\n",
      "2022-01-30 17:31:17,339 INFO mapred.FileInputFormat: Total input files to process : 1\n",
      "2022-01-30 17:31:17,419 INFO mapreduce.JobSubmitter: number of splits:10\n",
      "2022-01-30 17:31:17,576 INFO mapreduce.JobSubmitter: Submitting tokens for job: job_1643557347028_0006\n",
      "2022-01-30 17:31:17,577 INFO mapreduce.JobSubmitter: Executing with tokens: []\n",
      "2022-01-30 17:31:17,845 INFO conf.Configuration: resource-types.xml not found\n",
      "2022-01-30 17:31:17,846 INFO resource.ResourceUtils: Unable to find 'resource-types.xml'.\n",
      "2022-01-30 17:31:17,919 INFO impl.YarnClientImpl: Submitted application application_1643557347028_0006\n",
      "2022-01-30 17:31:17,962 INFO mapreduce.Job: The url to track the job: http://w261-m:8088/proxy/application_1643557347028_0006/\n",
      "2022-01-30 17:31:17,964 INFO mapreduce.Job: Running job: job_1643557347028_0006\n",
      "2022-01-30 17:31:26,075 INFO mapreduce.Job: Job job_1643557347028_0006 running in uber mode : false\n",
      "2022-01-30 17:31:26,076 INFO mapreduce.Job:  map 0% reduce 0%\n",
      "2022-01-30 17:31:34,202 INFO mapreduce.Job:  map 30% reduce 0%\n",
      "2022-01-30 17:31:41,280 INFO mapreduce.Job:  map 60% reduce 0%\n",
      "2022-01-30 17:31:48,355 INFO mapreduce.Job:  map 90% reduce 0%\n",
      "2022-01-30 17:31:52,378 INFO mapreduce.Job:  map 100% reduce 0%\n",
      "2022-01-30 17:31:58,416 INFO mapreduce.Job:  map 100% reduce 100%\n",
      "2022-01-30 17:31:59,431 INFO mapreduce.Job: Job job_1643557347028_0006 completed successfully\n",
      "2022-01-30 17:31:59,532 INFO mapreduce.Job: Counters: 54\n",
      "\tFile System Counters\n",
      "\t\tFILE: Number of bytes read=192\n",
      "\t\tFILE: Number of bytes written=2732002\n",
      "\t\tFILE: Number of read operations=0\n",
      "\t\tFILE: Number of large read operations=0\n",
      "\t\tFILE: Number of write operations=0\n",
      "\t\tHDFS: Number of bytes read=1555\n",
      "\t\tHDFS: Number of bytes written=178\n",
      "\t\tHDFS: Number of read operations=35\n",
      "\t\tHDFS: Number of large read operations=0\n",
      "\t\tHDFS: Number of write operations=3\n",
      "\t\tHDFS: Number of bytes read erasure-coded=0\n",
      "\tJob Counters \n",
      "\t\tLaunched map tasks=10\n",
      "\t\tLaunched reduce tasks=1\n",
      "\t\tData-local map tasks=10\n",
      "\t\tTotal time spent by all maps in occupied slots (ms)=186292368\n",
      "\t\tTotal time spent by all reduces in occupied slots (ms)=8808396\n",
      "\t\tTotal time spent by all map tasks (ms)=59028\n",
      "\t\tTotal time spent by all reduce tasks (ms)=2791\n",
      "\t\tTotal vcore-milliseconds taken by all map tasks=59028\n",
      "\t\tTotal vcore-milliseconds taken by all reduce tasks=2791\n",
      "\t\tTotal megabyte-milliseconds taken by all map tasks=186292368\n",
      "\t\tTotal megabyte-milliseconds taken by all reduce tasks=8808396\n",
      "\tMap-Reduce Framework\n",
      "\t\tMap input records=4\n",
      "\t\tMap output records=4\n",
      "\t\tMap output bytes=178\n",
      "\t\tMap output materialized bytes=246\n",
      "\t\tInput split bytes=950\n",
      "\t\tCombine input records=0\n",
      "\t\tCombine output records=0\n",
      "\t\tReduce input groups=4\n",
      "\t\tReduce shuffle bytes=246\n",
      "\t\tReduce input records=4\n",
      "\t\tReduce output records=4\n",
      "\t\tSpilled Records=8\n",
      "\t\tShuffled Maps =10\n",
      "\t\tFailed Shuffles=0\n",
      "\t\tMerged Map outputs=10\n",
      "\t\tGC time elapsed (ms)=1540\n",
      "\t\tCPU time spent (ms)=7950\n",
      "\t\tPhysical memory (bytes) snapshot=5249245184\n",
      "\t\tVirtual memory (bytes) snapshot=48700870656\n",
      "\t\tTotal committed heap usage (bytes)=5002756096\n",
      "\t\tPeak Map Physical memory (bytes)=508379136\n",
      "\t\tPeak Map Virtual memory (bytes)=4430491648\n",
      "\t\tPeak Reduce Physical memory (bytes)=238473216\n",
      "\t\tPeak Reduce Virtual memory (bytes)=4430946304\n",
      "\tShuffle Errors\n",
      "\t\tBAD_ID=0\n",
      "\t\tCONNECTION=0\n",
      "\t\tIO_ERROR=0\n",
      "\t\tWRONG_LENGTH=0\n",
      "\t\tWRONG_MAP=0\n",
      "\t\tWRONG_REDUCE=0\n",
      "\tFile Input Format Counters \n",
      "\t\tBytes Read=605\n",
      "\tFile Output Format Counters \n",
      "\t\tBytes Written=178\n",
      "2022-01-30 17:31:59,532 INFO streaming.StreamJob: Output directory: /user/root/HW2/chinese-output\n"
     ]
    }
   ],
   "source": [
    "# part e - write your Hadooop streaming job here\n",
    "!hadoop jar {JAR_FILE} \\\n",
    "  -files NaiveBayes/classify_mapper.py,NBmodel.txt \\\n",
    "  -mapper classify_mapper.py \\\n",
    "  -reducer /bin/cat \\\n",
    "  -input {HDFS_DIR}/chineseTest.txt \\\n",
    "  -output {HDFS_DIR}/chinese-output \\\n",
    "  -numReduceTasks 1 \\\n",
    "  -cmdenv PATH={PATH}"
   ]
  },
  {
   "cell_type": "code",
   "execution_count": 35,
   "metadata": {},
   "outputs": [],
   "source": [
    "# part e - retrieve test set results from HDFS (RUN THIS CELL AS IS)\n",
    "!hdfs dfs -cat {HDFS_DIR}/chinese-output/part-000* > NaiveBayes/chineseResults.txt"
   ]
  },
  {
   "cell_type": "code",
   "execution_count": 36,
   "metadata": {},
   "outputs": [
    {
     "name": "stdout",
     "output_type": "stream",
     "text": [
      "d5  1  -8.90668134500626   -8.10769031284611   1\n",
      "d6  1  -5.780743515794329  -4.179502370564408  1\n",
      "d7  0  -6.591673732011658  -7.511706880737812  0\n",
      "d8  0  -4.394449154674438  -5.565796731681498  0\n"
     ]
    }
   ],
   "source": [
    "# part e - take a look (RUN THIS CELL AS IS)\n",
    "!cat NaiveBayes/chineseResults.txt | column -t"
   ]
  },
  {
   "cell_type": "markdown",
   "metadata": {},
   "source": [
    "<table>\n",
    "<th> Expected output for the test set:</th>\n",
    "<tr align=Left><td><pre>\n",
    "d5\t1\t-8.90668134\t-8.10769031\t1\n",
    "d6\t1\t-5.78074351\t-4.17950237\t1\n",
    "d7\t0\t-6.59167373\t-7.51170688\t0\n",
    "d8\t0\t-4.39444915\t-5.56579673\t0\n",
    "</pre></td><tr>\n",
    "</table>"
   ]
  },
  {
   "cell_type": "markdown",
   "metadata": {},
   "source": [
    "# Question 8: Naive Bayes Training.\n",
    "In Question 7 we used a model that we had trained by hand. Next we'll develop the code to do that same training in parallel, making it suitable for use with larger corpora (like the Enron emails). The end result of the MapReduce job you write in this question should be a model text file that looks just like the example (`NBmodel.txt`) that we created by hand above.\n",
    "\n",
    "To refresh your memory about the training process take a look at  `6a` and `6b` where you described the pieces of information you'll need to collect in order to encode a Multinomial Naive Bayes model. We now want to retrieve those pieces of information while streaming over a corpus. The bulk of the task will be very similar to the word counting excercises you've already done but you may want to consider a slightly different key-value record structure to efficiently tally counts for each class. \n",
    "\n",
    "The most challenging (interesting?) design question will be how to retrieve the totals (# of documents and # of words in documents for each class). Of course, counting these numbers is easy. The hard part is the timing: you'll need to make sure you have the counts totalled up _before_ you start estimating the class conditional probabilities for each word. It would be best (i.e. most scalable) if we could find a way to do this tallying without storing the whole vocabulary in memory... Use an appropriate MapReduce design pattern to implement this efficiently! \n",
    "\n",
    "\n",
    "### Q8 Tasks:\n",
    "* __a) make a plan:__  Fill in the docstrings for __`NaiveBayes/train_mapper.py`__ and __`NaiveBayes/train_reducer.py`__ to appropriately reflect the format that each script will input/output. [`HINT:` _the input files_ (`enronemail_1h.txt` & `chineseTrain.txt`) _have a prespecified format and your output file should match_ `NBmodel.txt` _so you really only have to decide on an internal format for Hadoop_].\n",
    "\n",
    "\n",
    "* __b) implement it:__ Complete the code in __`NaiveBayes/train_mapper.py`__ and __`NaiveBayes/train_reducer.py`__ so that together they train a Multinomial Naive Bayes model __with no smoothing__. Make sure your end result is formatted correctly (see note above). Test your scripts independently and together (using `chineseTrain.txt` or test input of your own devising). When you are satisfied with your Python code design and run a Hadoop streaming command to run your job in parallel on the __chineseTrain.txt__. Confirm that your trained model matches your hand calculations from Question 6.\n",
    "\n",
    "\n",
    "* __c) short response:__ We saw in Question 6 that adding Laplace smoothing (where the smoothing parameter $k=1$) makes our classifications less sensitve to rare words. However implementing this technique requires access to one additional piece of information that we had not previously used in our Naive Bayes training. What is that extra piece of information? [`HINT:` see equation 13.7 in Manning, Raghavan and Schutze].\n",
    "\n",
    "\n",
    "* __d) short response:__ There are a couple of approaches that we could take to handle the extra piece of information you identified in `c`: 1) if we knew this extra information beforehand, we could provide it to our reducer as a configurable parameter for the vocab size dynamically (_where would we get it in the first place?_). Or 2) we could compute it in the reducer without storing any bulky information in memory but then we'd need some postprocessing or a second MapReduce job to complete the calculation (_why?_). Breifly explain what is non-ideal about each of these options. \n",
    "\n",
    "\n",
    "* __e) code + short response:__ Choose one of the 2 options above. State your choice & reasoning in the space below then use that strategy to complete the code in __`NaiveBayes/train_reducer_smooth.py`__. Test this alternate reducer then write and run a Hadoop streaming job to train an MNB model with smoothing on the Chinese example. Your results should match the model that we provided for you above (and the calculations in the textbook example). __IMPORTANT NOTE:__ For full credit on this question, your code must work with multiple reducers. \n",
    "\n",
    "    - [`HINT:` You will need to implement custom partitioning - [Total Order Sort Notebook](https://github.com/UCB-w261/main/tree/master/HelpfulResources/TotalSortGuide/_total-sort-guide-spark2.01-JAN27-2017.ipynb)] \n",
    "\n",
    "    - [`HINT:` Don't start from scratch with this one -- you can just copy over your reducer code from part `b` and make the needed modifications]. \n"
   ]
  },
  {
   "cell_type": "markdown",
   "metadata": {},
   "source": [
    "\n",
    "__IMPORTANT NOTE:__ For full credit on this question, your code must work with multiple reducers. [`HINT:`_You will need to implement custom partitioning - [Total Order Sort Notebook](https://github.com/UCB-w261/main/tree/master/HelpfulResources/TotalSortGuide/_total-sort-guide-spark2.01-JAN27-2017.ipynb)]\n"
   ]
  },
  {
   "cell_type": "markdown",
   "metadata": {},
   "source": [
    "### Q8 Student Answers:\n",
    "> __ c)__ Type your answer here!\n",
    "\n",
    "> __ d)__ Type your answer here!\n",
    "\n",
    "> __ e)__ Type your answer here!\n"
   ]
  },
  {
   "cell_type": "code",
   "execution_count": 170,
   "metadata": {},
   "outputs": [
    {
     "name": "stdout",
     "output_type": "stream",
     "text": [
      "=========== MAPPER DOCSTRING ============\n",
      "Mapper reads in text documents and emits word counts by class.\n",
      "INPUT:                                                    \n",
      "    DocID \\t true_class \\t subject \\t body                \n",
      "OUTPUT:                                                   \n",
      "    partitionKey \\t word \\t class0_partialCount,class1_partialCount       \n",
      "    \n",
      "=========== REDUCER DOCSTRING ============\n",
      "Reducer aggregates word counts by class and emits frequencies.\n",
      "\n",
      "INPUT:\n",
      "    partitionKey \\t word \\t class0_partialCount,class1_partialCount\n",
      "OUTPUT:\n",
      "    word \\t hamCount \\t spamCount \\t \n"
     ]
    }
   ],
   "source": [
    "# part a - do your work in train_mapper.py and train_reducer.py then RUN THIS CELL AS IS\n",
    "!chmod a+x NaiveBayes/train_mapper.py\n",
    "!chmod a+x NaiveBayes/train_reducer.py\n",
    "!echo \"=========== MAPPER DOCSTRING ============\"\n",
    "!head -n 8 NaiveBayes/train_mapper.py | tail -n 6\n",
    "!echo \"=========== REDUCER DOCSTRING ============\"\n",
    "!head -n 8 NaiveBayes/train_reducer.py | tail -n 6"
   ]
  },
  {
   "cell_type": "code",
   "execution_count": 171,
   "metadata": {},
   "outputs": [
    {
     "name": "stdout",
     "output_type": "stream",
     "text": [
      "#!/usr/bin/env python\n",
      "\"\"\"\n",
      "Mapper reads in text documents and emits word counts by class.\n",
      "INPUT:                                                    \n",
      "    DocID \\t true_class \\t subject \\t body                \n",
      "OUTPUT:                                                   \n",
      "    partitionKey \\t word \\t class0_partialCount,class1_partialCount       \n",
      "    \n",
      "\n",
      "Instructions:\n",
      "    You know what this script should do, go for it!\n",
      "    (As a favor to the graders, please comment your code clearly!)\n",
      "    \n",
      "    A few reminders:\n",
      "    1) To make sure your results match ours please be sure\n",
      "       to use the same tokenizing that we have provided in\n",
      "       all the other jobs:\n",
      "         words = re.findall(r'[a-z]+', text-to-tokenize.lower())\n",
      "         \n",
      "    2) Don't forget to handle the various \"totals\" that you need\n",
      "       for your conditional probabilities and class priors.\n",
      "       \n",
      "Partitioning:\n",
      "    In order to send the totals to each reducer, we need to implement\n",
      "    a custom partitioning strategy.\n",
      "    \n",
      "    We will generate a list of keys based on the number of reduce tasks \n",
      "    that we read in from the environment configuration of our job.\n",
      "    \n",
      "    We'll prepend the partition key by hashing the word and selecting the\n",
      "    appropriate key from our list. This will end up partitioning our data\n",
      "    as if we'd used the word as the partition key - that's how it worked\n",
      "    for the single reducer implementation. This is not necessarily \"good\",\n",
      "    as our data could be very skewed. However, in practice, for this\n",
      "    exercise it works well. The next step would be to generate a file of\n",
      "    partition split points based on the distribution as we've seen in \n",
      "    previous exercises.\n",
      "    \n",
      "    Now that we have a list of partition keys, we can send the totals to \n",
      "    each reducer by prepending each of the keys to each total.\n",
      "       \n",
      "\"\"\"\n",
      "\n",
      "import re                                                   \n",
      "import sys                                                  \n",
      "import numpy as np      \n",
      "\n",
      "from operator import itemgetter\n",
      "import os\n",
      "\n",
      "#################### YOUR CODE HERE ###################\n",
      "#extract the number of reducers\n",
      "if os.getenv('mapreduce_job_reduces') == None:\n",
      "    n = 1\n",
      "else:\n",
      "    n = int(os.getenv('mapreduce_job_reduces'))\n",
      "#n = 3 #num reducers -- change to env var\n",
      "keys = list(map(chr, range(ord('A'), ord('Z')+1)))[:n]\n",
      "\n",
      "#helper functions\n",
      "def makeKeyHash(key, num_reducers):\n",
      "    \"\"\"\n",
      "    Mimic the Hadoop string-hash function.\n",
      "    \n",
      "    key             the key that will be used for partitioning\n",
      "    num_reducers    the number of reducers that will be configured\n",
      "    \"\"\"\n",
      "    byteof = lambda char: int(format(ord(char), 'b'), 2)\n",
      "    current_hash = 0\n",
      "    for c in key:\n",
      "        current_hash = (current_hash * 31 + byteof(c))\n",
      "    return current_hash % num_reducers \n",
      "\n",
      "def getPartition(word):  \n",
      "    a = makeKeyHash(word,n)\n",
      "    return keys[int(a)]\n",
      "    \n",
      "\n",
      "total_c1 = 0\n",
      "total_c0 = 0\n",
      "class_priors_c1 = 0\n",
      "class_priors_c0 = 0\n",
      "\n",
      "for line in sys.stdin:\n",
      "    # parse input and tokenize\n",
      "    docID, _class, subject, body = line.lower().split('\\t')\n",
      "    words = re.findall(r'[a-z]+', subject + ' ' + body)\n",
      "    \n",
      "    #get partial count of num docs per class\n",
      "    if _class == '1':\n",
      "        #add 1 to class doc count\n",
      "        class_priors_c1 += 1\n",
      "        for word in words:\n",
      "            #increment class word count\n",
      "            print(f'{getPartition(word)}\\t{word}\\t{0},{1}')\n",
      "            total_c1 += 1\n",
      "    else:\n",
      "        class_priors_c0 += 1\n",
      "        for word in words:\n",
      "            print(f'{getPartition(word)}\\t{word}\\t{1},{0}')\n",
      "            total_c0 += 1\n",
      "    \n",
      "for key in keys:            \n",
      "    print(f'{key}\\t!total\\t{total_c0},{total_c1}')\n",
      "    print(f'{key}\\tClassPriors\\t{class_priors_c0},{class_priors_c1}')\n",
      "\n",
      "\n",
      "\n",
      "\n",
      "#################### (END) YOUR CODE ###################"
     ]
    }
   ],
   "source": [
    "!cat NaiveBayes/train_mapper.py"
   ]
  },
  {
   "cell_type": "code",
   "execution_count": 172,
   "metadata": {
    "scrolled": true
   },
   "outputs": [
    {
     "name": "stdout",
     "output_type": "stream",
     "text": [
      "#!/usr/bin/env python\n",
      "\"\"\"\n",
      "Reducer aggregates word counts by class and emits frequencies.\n",
      "\n",
      "INPUT:\n",
      "    partitionKey \\t word \\t class0_partialCount,class1_partialCount\n",
      "OUTPUT:\n",
      "    word \\t hamCount \\t spamCount \\t \n",
      "    \n",
      "Instructions:\n",
      "    Again, you are free to design a solution however you see \n",
      "    fit as long as your final model meets our required format\n",
      "    for the inference job we designed in Question 8. Please\n",
      "    comment your code clearly and concisely.\n",
      "    \n",
      "    A few reminders: \n",
      "    1) Don't forget to emit Class Priors (with the right key).\n",
      "    2) In python2: 3/4 = 0 and 3/float(4) = 0.75\n",
      "\"\"\"\n",
      "##################### YOUR CODE HERE ####################\n",
      "import re                                                   \n",
      "import sys                                                  \n",
      "import numpy as np      \n",
      "\n",
      "from operator import itemgetter\n",
      "import os\n",
      "\n",
      "total_c1 = 0\n",
      "total_c0 = 0\n",
      "curr_word = None\n",
      "curr_count_c1 = 0\n",
      "curr_count_c0 = 0\n",
      "# increment_val = 0\n",
      "# curr_key = None\n",
      "\n",
      "for line in sys.stdin:\n",
      "    part, word, counts = line.lower().split('\\t')\n",
      "    \n",
      "    #sys.stderr.write(f'reporter:counter:MyCounters,{part},{increment_val}\\n')\n",
      "    \n",
      "    count_c0, count_c1 = counts.split(',')\n",
      "    count_c0, count_c1 = int(count_c0), int(count_c1)\n",
      "    \n",
      "    if word == curr_word:\n",
      "        curr_count_c1 += int(count_c1)\n",
      "        curr_count_c0 += int(count_c0)\n",
      "    else:\n",
      "        if curr_word == '!total':\n",
      "            total_c1 = float(curr_count_c1)\n",
      "            total_c0 = float(curr_count_c0)\n",
      "            \n",
      "        if curr_word == 'classpriors':\n",
      "            print(f'ClassPriors\\t{curr_count_c0},{curr_count_c1},{curr_count_c0/(curr_count_c0+curr_count_c1)},{curr_count_c1/(curr_count_c0+curr_count_c1)}')\n",
      "            \n",
      "        if curr_word and curr_word!='!total' and curr_word!='classpriors':\n",
      "            \n",
      "            print(f'{curr_word}\\t{curr_count_c0},{curr_count_c1},{curr_count_c0/total_c0},{curr_count_c1/total_c1}')\n",
      "            \n",
      "        curr_word, curr_count_c0, curr_count_c1 = word, int(count_c0), int(count_c1)\n",
      "        \n",
      "print(f'{curr_word}\\t{curr_count_c0},{curr_count_c1},{curr_count_c0/total_c0},{curr_count_c1/total_c1}')\n",
      "\n",
      "\n",
      "\n",
      "##################### (END) CODE HERE ####################"
     ]
    }
   ],
   "source": [
    "!cat NaiveBayes/train_reducer.py"
   ]
  },
  {
   "cell_type": "code",
   "execution_count": 173,
   "metadata": {},
   "outputs": [
    {
     "name": "stdout",
     "output_type": "stream",
     "text": [
      "#!/usr/bin/env python\n",
      "\n",
      "import os\n",
      "import sys                                                  \n",
      "import numpy as np  \n",
      "\n",
      "#################### YOUR CODE HERE ###################\n",
      "vocab = int(sys.argv[1])\n",
      "\n",
      "total_c1 = 0\n",
      "total_c0 = 0\n",
      "curr_word = None\n",
      "curr_count_c1 = 0\n",
      "curr_count_c0 = 0\n",
      "# increment_val = 0\n",
      "# curr_key = None\n",
      "\n",
      "for line in sys.stdin:\n",
      "    part, word, counts = line.lower().split('\\t')\n",
      "    \n",
      "    #sys.stderr.write(f'reporter:counter:MyCounters,{part},{increment_val}\\n')\n",
      "    \n",
      "    count_c0, count_c1 = counts.split(',')\n",
      "    count_c0, count_c1 = int(count_c0), int(count_c1)\n",
      "    \n",
      "    if word == curr_word:\n",
      "        curr_count_c1 += int(count_c1)\n",
      "        curr_count_c0 += int(count_c0)\n",
      "    else:\n",
      "        if curr_word == '!total':\n",
      "            total_c1 = float(curr_count_c1)\n",
      "            total_c0 = float(curr_count_c0)\n",
      "            \n",
      "        if curr_word == 'classpriors':\n",
      "            print(f'ClassPriors\\t{curr_count_c0},{curr_count_c1},{curr_count_c0/(curr_count_c0+curr_count_c1)},{curr_count_c1/(curr_count_c0+curr_count_c1)}')\n",
      "            \n",
      "        if curr_word and curr_word!='!total' and curr_word!='classpriors':\n",
      "            \n",
      "            print(f'{curr_word}\\t{curr_count_c0},{curr_count_c1},{(curr_count_c0+1)/(total_c0+vocab)},{(curr_count_c1+1)/(total_c1+vocab)}')\n",
      "            \n",
      "        curr_word, curr_count_c0, curr_count_c1 = word, int(count_c0), int(count_c1)\n",
      "        \n",
      "print(f'{curr_word}\\t{curr_count_c0},{curr_count_c1},{(curr_count_c0+1)/(total_c0+vocab)},{(curr_count_c1+1)/(total_c1+vocab)}')\n",
      "\n",
      "\n",
      "\n",
      "##################### (END) CODE HERE ####################"
     ]
    }
   ],
   "source": [
    "!cat NaiveBayes/train_reducer_smooth.py"
   ]
  },
  {
   "cell_type": "markdown",
   "metadata": {},
   "source": [
    "__`part b starts here`:__ MNB _without_ Smoothing (training on Chinese Example Corpus)."
   ]
  },
  {
   "cell_type": "code",
   "execution_count": 174,
   "metadata": {},
   "outputs": [
    {
     "name": "stdout",
     "output_type": "stream",
     "text": [
      "A\tchinese\t0,1\n",
      "A\tbeijing\t0,1\n",
      "A\tchinese\t0,1\n",
      "A\tchinese\t0,1\n",
      "A\tchinese\t0,1\n",
      "A\tshanghai\t0,1\n",
      "A\tchinese\t0,1\n",
      "A\tmacao\t0,1\n",
      "A\ttokyo\t1,0\n",
      "A\tjapan\t1,0\n",
      "A\tchinese\t1,0\n",
      "A\t!total\t3,8\n",
      "A\tClassPriors\t1,3\n"
     ]
    }
   ],
   "source": [
    "# part b - write a unit test for your mapper here\n",
    "!cat NaiveBayes/chineseTrain.txt | NaiveBayes/train_mapper.py"
   ]
  },
  {
   "cell_type": "code",
   "execution_count": 175,
   "metadata": {},
   "outputs": [
    {
     "name": "stdout",
     "output_type": "stream",
     "text": [
      "ClassPriors  1,3,0.25,0.75\n",
      "beijing      0,1,0.0,0.125\n",
      "chinese      1,5,0.3333333333333333,0.625\n",
      "japan        1,0,0.3333333333333333,0.0\n",
      "macao        0,1,0.0,0.125\n",
      "shanghai     0,1,0.0,0.125\n",
      "tokyo        1,0,0.3333333333333333,0.0\n"
     ]
    }
   ],
   "source": [
    "# part b - write a unit test for your reducer here\n",
    "!cat NaiveBayes/chineseTrain.txt | NaiveBayes/train_mapper.py | sort -k1,1 -k2,2| NaiveBayes/train_reducer.py | column -t"
   ]
  },
  {
   "cell_type": "code",
   "execution_count": 176,
   "metadata": {},
   "outputs": [
    {
     "name": "stdout",
     "output_type": "stream",
     "text": [
      "ClassPriors  1,3,0.25,0.75\n",
      "beijing      0,1,0.0,0.125\n",
      "chinese      1,5,0.3333333333333333,0.625\n",
      "japan        1,0,0.3333333333333333,0.0\n",
      "macao        0,1,0.0,0.125\n",
      "shanghai     0,1,0.0,0.125\n",
      "tokyo        1,0,0.3333333333333333,0.0\n"
     ]
    }
   ],
   "source": [
    "# part b - write a systems test for your mapper + reducer together here\n",
    "!cat NaiveBayes/chineseTrain.txt | NaiveBayes/train_mapper.py | sort -k1,1 -k2,2| NaiveBayes/train_reducer.py | column -t"
   ]
  },
  {
   "cell_type": "code",
   "execution_count": 177,
   "metadata": {},
   "outputs": [
    {
     "name": "stdout",
     "output_type": "stream",
     "text": [
      "Deleted /user/root/HW2/chinese-nb-output\n"
     ]
    }
   ],
   "source": [
    "# part b - clear (and name) an output directory in HDFS for your unsmoothed chinese NB model\n",
    "!hdfs dfs -rm -r {HDFS_DIR}/chinese-nb-output"
   ]
  },
  {
   "cell_type": "code",
   "execution_count": 178,
   "metadata": {},
   "outputs": [
    {
     "name": "stdout",
     "output_type": "stream",
     "text": [
      "packageJobJar: [] [/usr/lib/hadoop/hadoop-streaming-3.2.2.jar] /tmp/streamjob2676550447143690601.jar tmpDir=null\n",
      "2022-01-30 23:20:03,486 INFO client.RMProxy: Connecting to ResourceManager at w261-m/10.128.0.4:8032\n",
      "2022-01-30 23:20:03,762 INFO client.AHSProxy: Connecting to Application History server at w261-m/10.128.0.4:10200\n",
      "2022-01-30 23:20:04,277 INFO client.RMProxy: Connecting to ResourceManager at w261-m/10.128.0.4:8032\n",
      "2022-01-30 23:20:04,278 INFO client.AHSProxy: Connecting to Application History server at w261-m/10.128.0.4:10200\n",
      "2022-01-30 23:20:04,474 INFO mapreduce.JobResourceUploader: Disabling Erasure Coding for path: /tmp/hadoop-yarn/staging/root/.staging/job_1643557347028_0019\n",
      "2022-01-30 23:20:04,828 INFO mapred.FileInputFormat: Total input files to process : 1\n",
      "2022-01-30 23:20:04,898 INFO mapreduce.JobSubmitter: number of splits:10\n",
      "2022-01-30 23:20:05,049 INFO mapreduce.JobSubmitter: Submitting tokens for job: job_1643557347028_0019\n",
      "2022-01-30 23:20:05,051 INFO mapreduce.JobSubmitter: Executing with tokens: []\n",
      "2022-01-30 23:20:05,360 INFO conf.Configuration: resource-types.xml not found\n",
      "2022-01-30 23:20:05,361 INFO resource.ResourceUtils: Unable to find 'resource-types.xml'.\n",
      "2022-01-30 23:20:05,434 INFO impl.YarnClientImpl: Submitted application application_1643557347028_0019\n",
      "2022-01-30 23:20:05,472 INFO mapreduce.Job: The url to track the job: http://w261-m:8088/proxy/application_1643557347028_0019/\n",
      "2022-01-30 23:20:05,474 INFO mapreduce.Job: Running job: job_1643557347028_0019\n",
      "2022-01-30 23:20:13,574 INFO mapreduce.Job: Job job_1643557347028_0019 running in uber mode : false\n",
      "2022-01-30 23:20:13,575 INFO mapreduce.Job:  map 0% reduce 0%\n",
      "2022-01-30 23:20:21,698 INFO mapreduce.Job:  map 30% reduce 0%\n",
      "2022-01-30 23:20:27,772 INFO mapreduce.Job:  map 50% reduce 0%\n",
      "2022-01-30 23:20:28,778 INFO mapreduce.Job:  map 60% reduce 0%\n",
      "2022-01-30 23:20:34,841 INFO mapreduce.Job:  map 90% reduce 0%\n",
      "2022-01-30 23:20:38,864 INFO mapreduce.Job:  map 100% reduce 0%\n",
      "2022-01-30 23:20:44,902 INFO mapreduce.Job:  map 100% reduce 50%\n",
      "2022-01-30 23:20:45,940 INFO mapreduce.Job:  map 100% reduce 100%\n",
      "2022-01-30 23:20:47,957 INFO mapreduce.Job: Job job_1643557347028_0019 completed successfully\n",
      "2022-01-30 23:20:48,051 INFO mapreduce.Job: Counters: 55\n",
      "\tFile System Counters\n",
      "\t\tFILE: Number of bytes read=883\n",
      "\t\tFILE: Number of bytes written=2993556\n",
      "\t\tFILE: Number of read operations=0\n",
      "\t\tFILE: Number of large read operations=0\n",
      "\t\tFILE: Number of write operations=0\n",
      "\t\tHDFS: Number of bytes read=1535\n",
      "\t\tHDFS: Number of bytes written=220\n",
      "\t\tHDFS: Number of read operations=40\n",
      "\t\tHDFS: Number of large read operations=0\n",
      "\t\tHDFS: Number of write operations=6\n",
      "\t\tHDFS: Number of bytes read erasure-coded=0\n",
      "\tJob Counters \n",
      "\t\tKilled reduce tasks=1\n",
      "\t\tLaunched map tasks=10\n",
      "\t\tLaunched reduce tasks=2\n",
      "\t\tData-local map tasks=10\n",
      "\t\tTotal time spent by all maps in occupied slots (ms)=177726984\n",
      "\t\tTotal time spent by all reduces in occupied slots (ms)=23941416\n",
      "\t\tTotal time spent by all map tasks (ms)=56314\n",
      "\t\tTotal time spent by all reduce tasks (ms)=7586\n",
      "\t\tTotal vcore-milliseconds taken by all map tasks=56314\n",
      "\t\tTotal vcore-milliseconds taken by all reduce tasks=7586\n",
      "\t\tTotal megabyte-milliseconds taken by all map tasks=177726984\n",
      "\t\tTotal megabyte-milliseconds taken by all reduce tasks=23941416\n",
      "\tMap-Reduce Framework\n",
      "\t\tMap input records=4\n",
      "\t\tMap output records=51\n",
      "\t\tMap output bytes=769\n",
      "\t\tMap output materialized bytes=991\n",
      "\t\tInput split bytes=960\n",
      "\t\tCombine input records=0\n",
      "\t\tCombine output records=0\n",
      "\t\tReduce input groups=10\n",
      "\t\tReduce shuffle bytes=991\n",
      "\t\tReduce input records=51\n",
      "\t\tReduce output records=8\n",
      "\t\tSpilled Records=102\n",
      "\t\tShuffled Maps =20\n",
      "\t\tFailed Shuffles=0\n",
      "\t\tMerged Map outputs=20\n",
      "\t\tGC time elapsed (ms)=1584\n",
      "\t\tCPU time spent (ms)=8720\n",
      "\t\tPhysical memory (bytes) snapshot=5784215552\n",
      "\t\tVirtual memory (bytes) snapshot=53133111296\n",
      "\t\tTotal committed heap usage (bytes)=5657591808\n",
      "\t\tPeak Map Physical memory (bytes)=554434560\n",
      "\t\tPeak Map Virtual memory (bytes)=4429717504\n",
      "\t\tPeak Reduce Physical memory (bytes)=282132480\n",
      "\t\tPeak Reduce Virtual memory (bytes)=4430233600\n",
      "\tShuffle Errors\n",
      "\t\tBAD_ID=0\n",
      "\t\tCONNECTION=0\n",
      "\t\tIO_ERROR=0\n",
      "\t\tWRONG_LENGTH=0\n",
      "\t\tWRONG_MAP=0\n",
      "\t\tWRONG_REDUCE=0\n",
      "\tFile Input Format Counters \n",
      "\t\tBytes Read=575\n",
      "\tFile Output Format Counters \n",
      "\t\tBytes Written=220\n",
      "2022-01-30 23:20:48,051 INFO streaming.StreamJob: Output directory: /user/root/HW2/chinese-nb-output\n"
     ]
    }
   ],
   "source": [
    "# part b - write your hadoop streaming job\n",
    "!hadoop jar {JAR_FILE} \\\n",
    "  -D stream.num.map.output.key.fields=2 \\\n",
    "  -D mapreduce.job.output.key.comparator.class=org.apache.hadoop.mapred.lib.KeyFieldBasedComparator \\\n",
    "  -D mapreduce.partition.keycomparator.options=\"-k2,2\" \\\n",
    "  -D mapreduce.partition.keypartitioner.options=\"-k1,1\"  \\\n",
    "  -files NaiveBayes/train_mapper.py,NaiveBayes/train_reducer.py \\\n",
    "  -mapper train_mapper.py \\\n",
    "  -reducer train_reducer.py \\\n",
    "  -partitioner org.apache.hadoop.mapred.lib.KeyFieldBasedPartitioner \\\n",
    "  -input {HDFS_DIR}/chineseTrain.txt \\\n",
    "  -output {HDFS_DIR}/chinese-nb-output \\\n",
    "  -numReduceTasks 2 \\\n",
    "  -cmdenv PATH={PATH}"
   ]
  },
  {
   "cell_type": "code",
   "execution_count": 179,
   "metadata": {},
   "outputs": [],
   "source": [
    "# part b - extract your results (i.e. model) to a local file\n",
    "!hdfs dfs -cat {HDFS_DIR}/chinese-nb-output/part-0000* > NaiveBayes/model.txt"
   ]
  },
  {
   "cell_type": "code",
   "execution_count": 180,
   "metadata": {},
   "outputs": [
    {
     "name": "stdout",
     "output_type": "stream",
     "text": [
      "ClassPriors\t1,3,0.25,0.75\n",
      "chinese\t1,5,0.3333333333333333,0.625\n",
      "macao\t0,1,0.0,0.125\n",
      "shanghai\t0,1,0.0,0.125\n",
      "ClassPriors\t1,3,0.25,0.75\n",
      "beijing\t0,1,0.0,0.125\n",
      "japan\t1,0,0.3333333333333333,0.0\n",
      "tokyo\t1,0,0.3333333333333333,0.0\n"
     ]
    }
   ],
   "source": [
    "# part b - print your model so that we can confirm that it matches expected results\n",
    "!cat NaiveBayes/model.txt"
   ]
  },
  {
   "cell_type": "code",
   "execution_count": 181,
   "metadata": {},
   "outputs": [
    {
     "name": "stdout",
     "output_type": "stream",
     "text": [
      "D1\t1\t\tChinese Beijing Chinese\n",
      "D2\t1\t\tChinese Chinese Shanghai\n",
      "D3\t1\t\tChinese Macao\n",
      "D4\t0\t\tTokyo Japan Chinese\n"
     ]
    }
   ],
   "source": [
    "!cat NaiveBayes/chineseTrain.txt"
   ]
  },
  {
   "cell_type": "markdown",
   "metadata": {},
   "source": [
    "__`part e starts here`:__ MNB _with_ Smoothing (training on Chinese Example Corpus)."
   ]
  },
  {
   "cell_type": "code",
   "execution_count": 182,
   "metadata": {},
   "outputs": [],
   "source": [
    "!chmod a+x NaiveBayes/train_reducer_smooth.py"
   ]
  },
  {
   "cell_type": "code",
   "execution_count": 183,
   "metadata": {},
   "outputs": [],
   "source": [
    "wc = !cat NaiveBayes/model.txt | grep -v 'ClassPriors' | wc -l\n",
    "wc = int(wc[0])"
   ]
  },
  {
   "cell_type": "code",
   "execution_count": 184,
   "metadata": {},
   "outputs": [
    {
     "name": "stdout",
     "output_type": "stream",
     "text": [
      "ClassPriors  1,3,0.25,0.75\n",
      "beijing      0,1,0.1111111111111111,0.14285714285714285\n",
      "chinese      1,5,0.2222222222222222,0.42857142857142855\n",
      "japan        1,0,0.2222222222222222,0.07142857142857142\n",
      "macao        0,1,0.1111111111111111,0.14285714285714285\n",
      "shanghai     0,1,0.1111111111111111,0.14285714285714285\n",
      "tokyo        1,0,0.2222222222222222,0.07142857142857142\n"
     ]
    }
   ],
   "source": [
    "# part e - write a unit test for your NEW reducer here\n",
    "!cat NaiveBayes/chineseTrain.txt | NaiveBayes/train_mapper.py | sort -k1,1 -k2,2| NaiveBayes/train_reducer_smooth.py {wc}| column -t"
   ]
  },
  {
   "cell_type": "code",
   "execution_count": 185,
   "metadata": {},
   "outputs": [
    {
     "name": "stdout",
     "output_type": "stream",
     "text": [
      "ClassPriors  1,3,0.25,0.75\n",
      "beijing      0,1,0.1111111111111111,0.14285714285714285\n",
      "chinese      1,5,0.2222222222222222,0.42857142857142855\n",
      "japan        1,0,0.2222222222222222,0.07142857142857142\n",
      "macao        0,1,0.1111111111111111,0.14285714285714285\n",
      "shanghai     0,1,0.1111111111111111,0.14285714285714285\n",
      "tokyo        1,0,0.2222222222222222,0.07142857142857142\n"
     ]
    }
   ],
   "source": [
    "# part e - write a systems test for your mapper + reducer together here\n",
    "!cat NaiveBayes/chineseTrain.txt | NaiveBayes/train_mapper.py | sort -k1,1 -k2,2| NaiveBayes/train_reducer_smooth.py {wc}| column -t"
   ]
  },
  {
   "cell_type": "code",
   "execution_count": 186,
   "metadata": {},
   "outputs": [
    {
     "name": "stdout",
     "output_type": "stream",
     "text": [
      "Deleted /user/root/HW2/chinese-nb-smooth-output\n"
     ]
    }
   ],
   "source": [
    "# part e - clear (and name) an output directory in HDFS for your SMOOTHED chinese NB model\n",
    "!hdfs dfs -rm -r {HDFS_DIR}/chinese-nb-smooth-output"
   ]
  },
  {
   "cell_type": "code",
   "execution_count": 187,
   "metadata": {},
   "outputs": [
    {
     "name": "stdout",
     "output_type": "stream",
     "text": [
      "packageJobJar: [] [/usr/lib/hadoop/hadoop-streaming-3.2.2.jar] /tmp/streamjob9110760183829401561.jar tmpDir=null\n",
      "2022-01-30 23:21:16,948 INFO client.RMProxy: Connecting to ResourceManager at w261-m/10.128.0.4:8032\n",
      "2022-01-30 23:21:17,227 INFO client.AHSProxy: Connecting to Application History server at w261-m/10.128.0.4:10200\n",
      "2022-01-30 23:21:17,720 INFO client.RMProxy: Connecting to ResourceManager at w261-m/10.128.0.4:8032\n",
      "2022-01-30 23:21:17,721 INFO client.AHSProxy: Connecting to Application History server at w261-m/10.128.0.4:10200\n",
      "2022-01-30 23:21:17,907 INFO mapreduce.JobResourceUploader: Disabling Erasure Coding for path: /tmp/hadoop-yarn/staging/root/.staging/job_1643557347028_0020\n",
      "2022-01-30 23:21:18,258 INFO mapred.FileInputFormat: Total input files to process : 1\n",
      "2022-01-30 23:21:18,320 INFO mapreduce.JobSubmitter: number of splits:10\n",
      "2022-01-30 23:21:18,471 INFO mapreduce.JobSubmitter: Submitting tokens for job: job_1643557347028_0020\n",
      "2022-01-30 23:21:18,472 INFO mapreduce.JobSubmitter: Executing with tokens: []\n",
      "2022-01-30 23:21:18,743 INFO conf.Configuration: resource-types.xml not found\n",
      "2022-01-30 23:21:18,743 INFO resource.ResourceUtils: Unable to find 'resource-types.xml'.\n",
      "2022-01-30 23:21:18,808 INFO impl.YarnClientImpl: Submitted application application_1643557347028_0020\n",
      "2022-01-30 23:21:18,843 INFO mapreduce.Job: The url to track the job: http://w261-m:8088/proxy/application_1643557347028_0020/\n",
      "2022-01-30 23:21:18,844 INFO mapreduce.Job: Running job: job_1643557347028_0020\n",
      "2022-01-30 23:21:26,941 INFO mapreduce.Job: Job job_1643557347028_0020 running in uber mode : false\n",
      "2022-01-30 23:21:26,942 INFO mapreduce.Job:  map 0% reduce 0%\n",
      "2022-01-30 23:21:35,105 INFO mapreduce.Job:  map 30% reduce 0%\n",
      "2022-01-30 23:21:41,171 INFO mapreduce.Job:  map 60% reduce 0%\n",
      "2022-01-30 23:21:48,242 INFO mapreduce.Job:  map 80% reduce 0%\n",
      "2022-01-30 23:21:49,249 INFO mapreduce.Job:  map 90% reduce 0%\n",
      "2022-01-30 23:21:51,261 INFO mapreduce.Job:  map 100% reduce 0%\n",
      "2022-01-30 23:21:58,307 INFO mapreduce.Job:  map 100% reduce 50%\n",
      "2022-01-30 23:21:59,311 INFO mapreduce.Job:  map 100% reduce 100%\n",
      "2022-01-30 23:22:00,324 INFO mapreduce.Job: Job job_1643557347028_0020 completed successfully\n",
      "2022-01-30 23:22:00,413 INFO mapreduce.Job: Counters: 55\n",
      "\tFile System Counters\n",
      "\t\tFILE: Number of bytes read=883\n",
      "\t\tFILE: Number of bytes written=2994000\n",
      "\t\tFILE: Number of read operations=0\n",
      "\t\tFILE: Number of large read operations=0\n",
      "\t\tFILE: Number of write operations=0\n",
      "\t\tHDFS: Number of bytes read=1535\n",
      "\t\tHDFS: Number of bytes written=353\n",
      "\t\tHDFS: Number of read operations=40\n",
      "\t\tHDFS: Number of large read operations=0\n",
      "\t\tHDFS: Number of write operations=6\n",
      "\t\tHDFS: Number of bytes read erasure-coded=0\n",
      "\tJob Counters \n",
      "\t\tKilled reduce tasks=1\n",
      "\t\tLaunched map tasks=10\n",
      "\t\tLaunched reduce tasks=2\n",
      "\t\tData-local map tasks=10\n",
      "\t\tTotal time spent by all maps in occupied slots (ms)=173295960\n",
      "\t\tTotal time spent by all reduces in occupied slots (ms)=24474780\n",
      "\t\tTotal time spent by all map tasks (ms)=54910\n",
      "\t\tTotal time spent by all reduce tasks (ms)=7755\n",
      "\t\tTotal vcore-milliseconds taken by all map tasks=54910\n",
      "\t\tTotal vcore-milliseconds taken by all reduce tasks=7755\n",
      "\t\tTotal megabyte-milliseconds taken by all map tasks=173295960\n",
      "\t\tTotal megabyte-milliseconds taken by all reduce tasks=24474780\n",
      "\tMap-Reduce Framework\n",
      "\t\tMap input records=4\n",
      "\t\tMap output records=51\n",
      "\t\tMap output bytes=769\n",
      "\t\tMap output materialized bytes=991\n",
      "\t\tInput split bytes=960\n",
      "\t\tCombine input records=0\n",
      "\t\tCombine output records=0\n",
      "\t\tReduce input groups=10\n",
      "\t\tReduce shuffle bytes=991\n",
      "\t\tReduce input records=51\n",
      "\t\tReduce output records=8\n",
      "\t\tSpilled Records=102\n",
      "\t\tShuffled Maps =20\n",
      "\t\tFailed Shuffles=0\n",
      "\t\tMerged Map outputs=20\n",
      "\t\tGC time elapsed (ms)=1539\n",
      "\t\tCPU time spent (ms)=8530\n",
      "\t\tPhysical memory (bytes) snapshot=5611474944\n",
      "\t\tVirtual memory (bytes) snapshot=53126021120\n",
      "\t\tTotal committed heap usage (bytes)=5462556672\n",
      "\t\tPeak Map Physical memory (bytes)=551182336\n",
      "\t\tPeak Map Virtual memory (bytes)=4427943936\n",
      "\t\tPeak Reduce Physical memory (bytes)=281432064\n",
      "\t\tPeak Reduce Virtual memory (bytes)=4429733888\n",
      "\tShuffle Errors\n",
      "\t\tBAD_ID=0\n",
      "\t\tCONNECTION=0\n",
      "\t\tIO_ERROR=0\n",
      "\t\tWRONG_LENGTH=0\n",
      "\t\tWRONG_MAP=0\n",
      "\t\tWRONG_REDUCE=0\n",
      "\tFile Input Format Counters \n",
      "\t\tBytes Read=575\n",
      "\tFile Output Format Counters \n",
      "\t\tBytes Written=353\n",
      "2022-01-30 23:22:00,413 INFO streaming.StreamJob: Output directory: /user/root/HW2/chinese-nb-smooth-output\n"
     ]
    }
   ],
   "source": [
    "# part e - write your hadoop streaming job\n",
    "!hadoop jar {JAR_FILE} \\\n",
    "  -files NaiveBayes/train_mapper.py,NaiveBayes/train_reducer_smooth.py\\\n",
    "  -D stream.num.map.output.key.fields=2 \\\n",
    "  -D mapreduce.job.output.key.comparator.class=org.apache.hadoop.mapred.lib.KeyFieldBasedComparator \\\n",
    "  -D mapreduce.partition.keycomparator.options=\"-k2,2\" \\\n",
    "  -D mapreduce.partition.keypartitioner.options=\"-k1,1\" \\\n",
    "  -mapper train_mapper.py \\\n",
    "  -reducer 'train_reducer_smooth.py {wc}' \\\n",
    "  -partitioner org.apache.hadoop.mapred.lib.KeyFieldBasedPartitioner \\\n",
    "  -input {HDFS_DIR}/chineseTrain.txt \\\n",
    "  -output {HDFS_DIR}/chinese-nb-smooth-output \\\n",
    "  -numReduceTasks 2 \\\n",
    "  -cmdenv PATH={PATH}"
   ]
  },
  {
   "cell_type": "code",
   "execution_count": 188,
   "metadata": {},
   "outputs": [],
   "source": [
    "# part e - extract your results (i.e. model) to a local file\n",
    "!hdfs dfs -cat {HDFS_DIR}/chinese-nb-smooth-output/part-0000* > NaiveBayes/smooth_model.txt"
   ]
  },
  {
   "cell_type": "code",
   "execution_count": 189,
   "metadata": {},
   "outputs": [
    {
     "name": "stdout",
     "output_type": "stream",
     "text": [
      "ClassPriors\t1,3,0.25,0.75\n",
      "chinese\t1,5,0.2222222222222222,0.42857142857142855\n",
      "macao\t0,1,0.1111111111111111,0.14285714285714285\n",
      "shanghai\t0,1,0.1111111111111111,0.14285714285714285\n",
      "ClassPriors\t1,3,0.25,0.75\n",
      "beijing\t0,1,0.1111111111111111,0.14285714285714285\n",
      "japan\t1,0,0.2222222222222222,0.07142857142857142\n",
      "tokyo\t1,0,0.2222222222222222,0.07142857142857142\n"
     ]
    }
   ],
   "source": [
    "# part e - print your model (above local file) so that we can confirm that it matches expected results\n",
    "!cat NaiveBayes/smooth_model.txt"
   ]
  },
  {
   "cell_type": "markdown",
   "metadata": {},
   "source": [
    "# Question 9: Enron Ham/Spam NB Classifier & Results.\n",
    "\n",
    "Fantastic work. We're finally ready to perform Spam Classification on the Enron Corpus. In this question you'll run the analysis you've developed, report its performance.\n",
    "\n",
    "### Q9 Tasks:\n",
    "* __a) train/test split:__ Run the provided code to split our Enron file into a training set and testing set then load them into HDFS. [`NOTE:` _Make sure you re calculate the vocab size for just the training set!_]\n",
    "\n",
    "* __b) train 2 models:__ Write Hadoop Streaming jobs to train MNB Models on the training set with and without smoothing. Save your models to local files at __`NaiveBayes/Unsmoothed/NBmodel.txt`__ and __`NaiveBayes/Smoothed/NBmodel.txt`__. [`NOTE:` _This naming is important because we wrote our classification task so that it expects a file of that name... if this inelegance frustrates you there is an alternative that would involve a few adjustments to your code [read more about it here](http://www.tnoda.com/blog/2013-11-23)._] Finally run the checks that we provide to confirm that your results are correct.\n",
    "\n",
    "\n",
    "* __c) code:__ Recall that we designed our classification job with just a mapper. An efficient way to report the performance of our models would be to simply add a reducer phase to this job and compute precision and recall right there. Complete the code in __`NaiveBayes/evaluation_reducer.py`__ and then write Hadoop jobs to evaluate your two models on the test set. Report their performance side by side. [`NOTE:` if you need a refresher on precision, recall and F1-score [Wikipedia](https://en.wikipedia.org/wiki/F1_score) is a good resource.]\n",
    "\n",
    "\n",
    "* __d) short response:__ Compare the performance of your two models. What do you notice about the unsmoothed model's predictions? Can you guess why this is happening? Which evaluation measure do you think is most relevant in our use case? [`NOTE:` _Feel free to answer using your common sense but if you want more information on evaluating the classification task checkout_ [this blogpost](https://tryolabs.com/blog/2013/03/25/why-accuracy-alone-bad-measure-classification-tasks-and-what-we-can-do-about-it/\n",
    ") or [this paper](http://www.flinders.edu.au/science_engineering/fms/School-CSEM/publications/tech_reps-research_artfcts/TRRA_2007.pdf\n",
    ")]\n",
    "\n"
   ]
  },
  {
   "cell_type": "markdown",
   "metadata": {},
   "source": [
    "### Q9 Student Answers:\n",
    "> __d)__ Type your answer here!\n",
    "\n"
   ]
  },
  {
   "cell_type": "markdown",
   "metadata": {},
   "source": [
    "__Test/Train split__"
   ]
  },
  {
   "cell_type": "code",
   "execution_count": 190,
   "metadata": {},
   "outputs": [],
   "source": [
    "# part a - test/train split (RUN THIS CELL AS IS)\n",
    "!head -n 80 data/enronemail_1h.txt > data/enron_train.txt\n",
    "!tail -n 20 data/enronemail_1h.txt > data/enron_test.txt\n",
    "!hdfs dfs -copyFromLocal data/enron_train.txt {HDFS_DIR}\n",
    "!hdfs dfs -copyFromLocal data/enron_test.txt {HDFS_DIR}"
   ]
  },
  {
   "cell_type": "markdown",
   "metadata": {},
   "source": [
    "__Training__ (Enron MNB Model _without smoothing_ )"
   ]
  },
  {
   "cell_type": "code",
   "execution_count": 196,
   "metadata": {},
   "outputs": [
    {
     "name": "stdout",
     "output_type": "stream",
     "text": [
      "Deleted /user/root/HW2/enron-model\n",
      "packageJobJar: [] [/usr/lib/hadoop/hadoop-streaming-3.2.2.jar] /tmp/streamjob6463346976496737465.jar tmpDir=null\n",
      "2022-01-30 23:51:44,601 INFO client.RMProxy: Connecting to ResourceManager at w261-m/10.128.0.4:8032\n",
      "2022-01-30 23:51:44,871 INFO client.AHSProxy: Connecting to Application History server at w261-m/10.128.0.4:10200\n",
      "2022-01-30 23:51:45,364 INFO client.RMProxy: Connecting to ResourceManager at w261-m/10.128.0.4:8032\n",
      "2022-01-30 23:51:45,364 INFO client.AHSProxy: Connecting to Application History server at w261-m/10.128.0.4:10200\n",
      "2022-01-30 23:51:45,544 INFO mapreduce.JobResourceUploader: Disabling Erasure Coding for path: /tmp/hadoop-yarn/staging/root/.staging/job_1643557347028_0022\n",
      "2022-01-30 23:51:45,873 INFO mapred.FileInputFormat: Total input files to process : 1\n",
      "2022-01-30 23:51:45,938 INFO mapreduce.JobSubmitter: number of splits:9\n",
      "2022-01-30 23:51:46,101 INFO mapreduce.JobSubmitter: Submitting tokens for job: job_1643557347028_0022\n",
      "2022-01-30 23:51:46,103 INFO mapreduce.JobSubmitter: Executing with tokens: []\n",
      "2022-01-30 23:51:46,392 INFO conf.Configuration: resource-types.xml not found\n",
      "2022-01-30 23:51:46,393 INFO resource.ResourceUtils: Unable to find 'resource-types.xml'.\n",
      "2022-01-30 23:51:46,661 INFO impl.YarnClientImpl: Submitted application application_1643557347028_0022\n",
      "2022-01-30 23:51:46,697 INFO mapreduce.Job: The url to track the job: http://w261-m:8088/proxy/application_1643557347028_0022/\n",
      "2022-01-30 23:51:46,698 INFO mapreduce.Job: Running job: job_1643557347028_0022\n",
      "2022-01-30 23:51:54,799 INFO mapreduce.Job: Job job_1643557347028_0022 running in uber mode : false\n",
      "2022-01-30 23:51:54,800 INFO mapreduce.Job:  map 0% reduce 0%\n",
      "2022-01-30 23:52:02,953 INFO mapreduce.Job:  map 33% reduce 0%\n",
      "2022-01-30 23:52:08,001 INFO mapreduce.Job:  map 44% reduce 0%\n",
      "2022-01-30 23:52:10,024 INFO mapreduce.Job:  map 67% reduce 0%\n",
      "2022-01-30 23:52:15,070 INFO mapreduce.Job:  map 78% reduce 0%\n",
      "2022-01-30 23:52:16,084 INFO mapreduce.Job:  map 89% reduce 0%\n",
      "2022-01-30 23:52:17,090 INFO mapreduce.Job:  map 100% reduce 0%\n",
      "2022-01-30 23:52:24,149 INFO mapreduce.Job:  map 100% reduce 50%\n",
      "2022-01-30 23:52:25,155 INFO mapreduce.Job:  map 100% reduce 100%\n",
      "2022-01-30 23:52:26,167 INFO mapreduce.Job: Job job_1643557347028_0022 completed successfully\n",
      "2022-01-30 23:52:26,261 INFO mapreduce.Job: Counters: 55\n",
      "\tFile System Counters\n",
      "\t\tFILE: Number of bytes read=344194\n",
      "\t\tFILE: Number of bytes written=3430750\n",
      "\t\tFILE: Number of read operations=0\n",
      "\t\tFILE: Number of large read operations=0\n",
      "\t\tFILE: Number of write operations=0\n",
      "\t\tHDFS: Number of bytes read=213073\n",
      "\t\tHDFS: Number of bytes written=186955\n",
      "\t\tHDFS: Number of read operations=37\n",
      "\t\tHDFS: Number of large read operations=0\n",
      "\t\tHDFS: Number of write operations=6\n",
      "\t\tHDFS: Number of bytes read erasure-coded=0\n",
      "\tJob Counters \n",
      "\t\tKilled reduce tasks=1\n",
      "\t\tLaunched map tasks=9\n",
      "\t\tLaunched reduce tasks=2\n",
      "\t\tData-local map tasks=9\n",
      "\t\tTotal time spent by all maps in occupied slots (ms)=162436164\n",
      "\t\tTotal time spent by all reduces in occupied slots (ms)=26207424\n",
      "\t\tTotal time spent by all map tasks (ms)=51469\n",
      "\t\tTotal time spent by all reduce tasks (ms)=8304\n",
      "\t\tTotal vcore-milliseconds taken by all map tasks=51469\n",
      "\t\tTotal vcore-milliseconds taken by all reduce tasks=8304\n",
      "\t\tTotal megabyte-milliseconds taken by all map tasks=162436164\n",
      "\t\tTotal megabyte-milliseconds taken by all reduce tasks=26207424\n",
      "\tMap-Reduce Framework\n",
      "\t\tMap input records=80\n",
      "\t\tMap output records=25103\n",
      "\t\tMap output bytes=293976\n",
      "\t\tMap output materialized bytes=344290\n",
      "\t\tInput split bytes=855\n",
      "\t\tCombine input records=0\n",
      "\t\tCombine output records=0\n",
      "\t\tReduce input groups=4559\n",
      "\t\tReduce shuffle bytes=344290\n",
      "\t\tReduce input records=25103\n",
      "\t\tReduce output records=4557\n",
      "\t\tSpilled Records=50206\n",
      "\t\tShuffled Maps =18\n",
      "\t\tFailed Shuffles=0\n",
      "\t\tMerged Map outputs=18\n",
      "\t\tGC time elapsed (ms)=1643\n",
      "\t\tCPU time spent (ms)=12320\n",
      "\t\tPhysical memory (bytes) snapshot=5234372608\n",
      "\t\tVirtual memory (bytes) snapshot=48702234624\n",
      "\t\tTotal committed heap usage (bytes)=5289541632\n",
      "\t\tPeak Map Physical memory (bytes)=551280640\n",
      "\t\tPeak Map Virtual memory (bytes)=4427513856\n",
      "\t\tPeak Reduce Physical memory (bytes)=283230208\n",
      "\t\tPeak Reduce Virtual memory (bytes)=4431548416\n",
      "\tShuffle Errors\n",
      "\t\tBAD_ID=0\n",
      "\t\tCONNECTION=0\n",
      "\t\tIO_ERROR=0\n",
      "\t\tWRONG_LENGTH=0\n",
      "\t\tWRONG_MAP=0\n",
      "\t\tWRONG_REDUCE=0\n",
      "\tFile Input Format Counters \n",
      "\t\tBytes Read=212218\n",
      "\tFile Output Format Counters \n",
      "\t\tBytes Written=186955\n",
      "2022-01-30 23:52:26,262 INFO streaming.StreamJob: Output directory: /user/root/HW2/enron-model\n",
      "mkdir: cannot create directory ‘NaiveBayes/Unsmoothed’: File exists\n"
     ]
    }
   ],
   "source": [
    "# part b -  Unsmoothed model (FILL IN THE MISSING CODE BELOW)\n",
    "\n",
    "# clear the output directory\n",
    "!hdfs dfs -rm -r {HDFS_DIR}/enron-model\n",
    "\n",
    "# hadoop command\n",
    "!hadoop jar {JAR_FILE} \\\n",
    "  -files NaiveBayes/train_mapper.py,NaiveBayes/train_reducer.py\\\n",
    "  -D stream.num.map.output.key.fields=2 \\\n",
    "  -D mapreduce.job.output.key.comparator.class=org.apache.hadoop.mapred.lib.KeyFieldBasedComparator \\\n",
    "  -D mapreduce.partition.keycomparator.options=\"-k2,2\" \\\n",
    "  -D mapreduce.partition.keypartitioner.options=\"-k1,1\" \\\n",
    "  -mapper train_mapper.py \\\n",
    "  -reducer train_reducer.py \\\n",
    "  -partitioner org.apache.hadoop.mapred.lib.KeyFieldBasedPartitioner \\\n",
    "  -input {HDFS_DIR}/enron_train.txt \\\n",
    "  -output {HDFS_DIR}/enron-model \\\n",
    "  -numReduceTasks 2 \\\n",
    "  -cmdenv PATH={PATH}\n",
    "\n",
    "\n",
    "# save the model locally\n",
    "!mkdir NaiveBayes/Unsmoothed\n",
    "!hdfs dfs -cat {HDFS_DIR}/enron-model/part-000* > NaiveBayes/Unsmoothed/NBmodel.txt"
   ]
  },
  {
   "cell_type": "code",
   "execution_count": 233,
   "metadata": {},
   "outputs": [
    {
     "name": "stdout",
     "output_type": "stream",
     "text": [
      "assistance\t2,4,0.0001725476662928134,0.00029682398337785694\n"
     ]
    }
   ],
   "source": [
    "# part b - check your UNSMOOTHED model results (RUN THIS CELL AS IS)\n",
    "!grep assistance NaiveBayes/Unsmoothed/NBmodel.txt\n",
    "# EXPECTED OUTPUT: assistance\t2,4,0.000172547666293,0.000296823983378"
   ]
  },
  {
   "cell_type": "code",
   "execution_count": 234,
   "metadata": {},
   "outputs": [
    {
     "name": "stdout",
     "output_type": "stream",
     "text": [
      "money\t1,22,8.62738331464067e-05,0.001632531908578213\n"
     ]
    }
   ],
   "source": [
    "# part b - check your UNSMOOTHED model results (RUN THIS CELL AS IS)\n",
    "!grep money NaiveBayes/Unsmoothed/NBmodel.txt\n",
    "# EXPECTED OUTPUT: money\t1,22,8.62738331464e-05,0.00163253190858"
   ]
  },
  {
   "cell_type": "markdown",
   "metadata": {},
   "source": [
    "__Training__ (Enron MNB Model _with Laplace +1 smoothing_ )"
   ]
  },
  {
   "cell_type": "code",
   "execution_count": 219,
   "metadata": {},
   "outputs": [
    {
     "name": "stdout",
     "output_type": "stream",
     "text": [
      "Deleted /user/root/HW2/smooth-model\n",
      "packageJobJar: [] [/usr/lib/hadoop/hadoop-streaming-3.2.2.jar] /tmp/streamjob3505045076582678428.jar tmpDir=null\n",
      "2022-01-31 00:48:19,873 INFO client.RMProxy: Connecting to ResourceManager at w261-m/10.128.0.4:8032\n",
      "2022-01-31 00:48:20,161 INFO client.AHSProxy: Connecting to Application History server at w261-m/10.128.0.4:10200\n",
      "2022-01-31 00:48:20,680 INFO client.RMProxy: Connecting to ResourceManager at w261-m/10.128.0.4:8032\n",
      "2022-01-31 00:48:20,681 INFO client.AHSProxy: Connecting to Application History server at w261-m/10.128.0.4:10200\n",
      "2022-01-31 00:48:20,888 INFO mapreduce.JobResourceUploader: Disabling Erasure Coding for path: /tmp/hadoop-yarn/staging/root/.staging/job_1643557347028_0033\n",
      "2022-01-31 00:48:21,641 INFO mapred.FileInputFormat: Total input files to process : 1\n",
      "2022-01-31 00:48:21,706 INFO mapreduce.JobSubmitter: number of splits:9\n",
      "2022-01-31 00:48:21,858 INFO mapreduce.JobSubmitter: Submitting tokens for job: job_1643557347028_0033\n",
      "2022-01-31 00:48:21,860 INFO mapreduce.JobSubmitter: Executing with tokens: []\n",
      "2022-01-31 00:48:22,118 INFO conf.Configuration: resource-types.xml not found\n",
      "2022-01-31 00:48:22,118 INFO resource.ResourceUtils: Unable to find 'resource-types.xml'.\n",
      "2022-01-31 00:48:22,187 INFO impl.YarnClientImpl: Submitted application application_1643557347028_0033\n",
      "2022-01-31 00:48:22,225 INFO mapreduce.Job: The url to track the job: http://w261-m:8088/proxy/application_1643557347028_0033/\n",
      "2022-01-31 00:48:22,227 INFO mapreduce.Job: Running job: job_1643557347028_0033\n",
      "2022-01-31 00:48:30,336 INFO mapreduce.Job: Job job_1643557347028_0033 running in uber mode : false\n",
      "2022-01-31 00:48:30,337 INFO mapreduce.Job:  map 0% reduce 0%\n",
      "2022-01-31 00:48:38,471 INFO mapreduce.Job:  map 33% reduce 0%\n",
      "2022-01-31 00:48:45,552 INFO mapreduce.Job:  map 56% reduce 0%\n",
      "2022-01-31 00:48:46,570 INFO mapreduce.Job:  map 67% reduce 0%\n",
      "2022-01-31 00:48:51,611 INFO mapreduce.Job:  map 89% reduce 0%\n",
      "2022-01-31 00:48:52,617 INFO mapreduce.Job:  map 100% reduce 0%\n",
      "2022-01-31 00:48:59,666 INFO mapreduce.Job:  map 100% reduce 50%\n",
      "2022-01-31 00:49:00,671 INFO mapreduce.Job:  map 100% reduce 100%\n",
      "2022-01-31 00:49:01,684 INFO mapreduce.Job: Job job_1643557347028_0033 completed successfully\n",
      "2022-01-31 00:49:01,782 INFO mapreduce.Job: Counters: 55\n",
      "\tFile System Counters\n",
      "\t\tFILE: Number of bytes read=344194\n",
      "\t\tFILE: Number of bytes written=3431132\n",
      "\t\tFILE: Number of read operations=0\n",
      "\t\tFILE: Number of large read operations=0\n",
      "\t\tFILE: Number of write operations=0\n",
      "\t\tHDFS: Number of bytes read=213073\n",
      "\t\tHDFS: Number of bytes written=254204\n",
      "\t\tHDFS: Number of read operations=37\n",
      "\t\tHDFS: Number of large read operations=0\n",
      "\t\tHDFS: Number of write operations=6\n",
      "\t\tHDFS: Number of bytes read erasure-coded=0\n",
      "\tJob Counters \n",
      "\t\tKilled map tasks=1\n",
      "\t\tLaunched map tasks=9\n",
      "\t\tLaunched reduce tasks=2\n",
      "\t\tData-local map tasks=9\n",
      "\t\tTotal time spent by all maps in occupied slots (ms)=172352316\n",
      "\t\tTotal time spent by all reduces in occupied slots (ms)=26636640\n",
      "\t\tTotal time spent by all map tasks (ms)=54611\n",
      "\t\tTotal time spent by all reduce tasks (ms)=8440\n",
      "\t\tTotal vcore-milliseconds taken by all map tasks=54611\n",
      "\t\tTotal vcore-milliseconds taken by all reduce tasks=8440\n",
      "\t\tTotal megabyte-milliseconds taken by all map tasks=172352316\n",
      "\t\tTotal megabyte-milliseconds taken by all reduce tasks=26636640\n",
      "\tMap-Reduce Framework\n",
      "\t\tMap input records=80\n",
      "\t\tMap output records=25103\n",
      "\t\tMap output bytes=293976\n",
      "\t\tMap output materialized bytes=344290\n",
      "\t\tInput split bytes=855\n",
      "\t\tCombine input records=0\n",
      "\t\tCombine output records=0\n",
      "\t\tReduce input groups=4559\n",
      "\t\tReduce shuffle bytes=344290\n",
      "\t\tReduce input records=25103\n",
      "\t\tReduce output records=4557\n",
      "\t\tSpilled Records=50206\n",
      "\t\tShuffled Maps =18\n",
      "\t\tFailed Shuffles=0\n",
      "\t\tMerged Map outputs=18\n",
      "\t\tGC time elapsed (ms)=1679\n",
      "\t\tCPU time spent (ms)=12100\n",
      "\t\tPhysical memory (bytes) snapshot=5254496256\n",
      "\t\tVirtual memory (bytes) snapshot=48706756608\n",
      "\t\tTotal committed heap usage (bytes)=5254938624\n",
      "\t\tPeak Map Physical memory (bytes)=551190528\n",
      "\t\tPeak Map Virtual memory (bytes)=4427857920\n",
      "\t\tPeak Reduce Physical memory (bytes)=281780224\n",
      "\t\tPeak Reduce Virtual memory (bytes)=4432322560\n",
      "\tShuffle Errors\n",
      "\t\tBAD_ID=0\n",
      "\t\tCONNECTION=0\n",
      "\t\tIO_ERROR=0\n",
      "\t\tWRONG_LENGTH=0\n",
      "\t\tWRONG_MAP=0\n",
      "\t\tWRONG_REDUCE=0\n",
      "\tFile Input Format Counters \n",
      "\t\tBytes Read=212218\n",
      "\tFile Output Format Counters \n",
      "\t\tBytes Written=254204\n",
      "2022-01-31 00:49:01,783 INFO streaming.StreamJob: Output directory: /user/root/HW2/smooth-model\n",
      "mkdir: cannot create directory ‘NaiveBayes/Smoothed’: File exists\n"
     ]
    }
   ],
   "source": [
    "# part b -  Smoothed model (FILL IN THE MISSING CODE BELOW)\n",
    "#get vocab count in training set\n",
    "wc = !cat NaiveBayes/Unsmoothed/NBmodel.txt | grep -v ClassPriors | wc -l\n",
    "wc = int(wc[0])\n",
    "\n",
    "# clear the output directory\n",
    "!hdfs dfs -rm -r {HDFS_DIR}/smooth-model\n",
    "\n",
    "# hadoop command\n",
    "!hadoop jar {JAR_FILE} \\\n",
    "  -files NaiveBayes/train_mapper.py,NaiveBayes/train_reducer_smooth.py\\\n",
    "  -D stream.num.map.output.key.fields=2 \\\n",
    "  -D mapreduce.job.output.key.comparator.class=org.apache.hadoop.mapred.lib.KeyFieldBasedComparator \\\n",
    "  -D mapreduce.partition.keycomparator.options=\"-k2,2\" \\\n",
    "  -D mapreduce.partition.keypartitioner.options=\"-k1,1\" \\\n",
    "  -mapper train_mapper.py \\\n",
    "  -reducer 'train_reducer_smooth.py {wc}' \\\n",
    "  -partitioner org.apache.hadoop.mapred.lib.KeyFieldBasedPartitioner \\\n",
    "  -input {HDFS_DIR}/enron_train.txt \\\n",
    "  -output {HDFS_DIR}/smooth-model \\\n",
    "  -numReduceTasks 2 \\\n",
    "  -cmdenv PATH={PATH}\n",
    "\n",
    "\n",
    "\n",
    "\n",
    "# save the model locally\n",
    "!mkdir NaiveBayes/Smoothed\n",
    "!hdfs dfs -cat {HDFS_DIR}/smooth-model/part-000* > NaiveBayes/Smoothed/NBmodel.txt"
   ]
  },
  {
   "cell_type": "code",
   "execution_count": 235,
   "metadata": {},
   "outputs": [
    {
     "name": "stdout",
     "output_type": "stream",
     "text": [
      "assistance\t2,4,0.0001858045336306206,0.00027730020520215184\n"
     ]
    }
   ],
   "source": [
    "# part b - check your SMOOTHED model results (RUN THIS CELL AS IS)\n",
    "!grep assistance NaiveBayes/Smoothed/NBmodel.txt\n",
    "# EXPECTED OUTPUT: assistance\t2,4,0.000185804533631,0.000277300205202"
   ]
  },
  {
   "cell_type": "code",
   "execution_count": 236,
   "metadata": {},
   "outputs": [
    {
     "name": "stdout",
     "output_type": "stream",
     "text": [
      "money\t1,22,0.0001238696890870804,0.0012755809439298986\n"
     ]
    }
   ],
   "source": [
    "# part b - check your SMOOTHED model results (RUN THIS CELL AS IS)\n",
    "!grep money NaiveBayes/Smoothed/NBmodel.txt\n",
    "# EXPECTED OUTPUT: money\t1,22,0.000123869689087,0.00127558094393"
   ]
  },
  {
   "cell_type": "markdown",
   "metadata": {},
   "source": [
    "__Evaluation__"
   ]
  },
  {
   "cell_type": "code",
   "execution_count": 206,
   "metadata": {},
   "outputs": [],
   "source": [
    "# part c - write your code in NaiveBayes/evaluation_reducer.py then RUN THIS\n",
    "!chmod a+x NaiveBayes/evaluation_reducer.py"
   ]
  },
  {
   "cell_type": "code",
   "execution_count": 228,
   "metadata": {},
   "outputs": [
    {
     "name": "stdout",
     "output_type": "stream",
     "text": [
      "#!/usr/bin/env python\n",
      "\"\"\"\n",
      "Reducer to calculate precision and recall as part\n",
      "of the inference phase of Naive Bayes.\n",
      "INPUT:\n",
      "    ID \\t true_class \\t P(ham|doc) \\t P(spam|doc) \\t predicted_class\n",
      "OUTPUT:\n",
      "    precision \\t ##\n",
      "    recall \\t ##\n",
      "    accuracy \\t ##\n",
      "    F-score \\t ##\n",
      "         \n",
      "Instructions:\n",
      "    Complete the missing code to compute these^ four\n",
      "    evaluation measures for our classification task.\n",
      "    \n",
      "    Note: if you have no True Positives you will not \n",
      "    be able to compute the F1 score (and maybe not \n",
      "    precision/recall). Your code should handle this \n",
      "    case appropriately feel free to interpret the \n",
      "    \"output format\" above as a rough suggestion. It\n",
      "    may be helpful to also print the counts for true\n",
      "    positives, false positives, etc.\n",
      "\"\"\"\n",
      "import sys\n",
      "\n",
      "# initialize counters\n",
      "FP = 0.0 # false positives\n",
      "FN = 0.0 # false negatives\n",
      "TP = 0.0 # true positives\n",
      "TN = 0.0 # true negatives\n",
      "\n",
      "# read from STDIN\n",
      "for line in sys.stdin:\n",
      "    # parse input\n",
      "    docID, class_, pHam, pSpam, pred = line.split()\n",
      "    # emit classification results first\n",
      "    print(line[:-2], class_ == pred)\n",
      "    \n",
      "    # then compute evaluation stats\n",
      "#################### YOUR CODE HERE ###################\n",
      "    if (class_ == '1') & (pred == '1'):\n",
      "        TP += 1\n",
      "    if (class_ == '0') & (pred == '0'):\n",
      "        TN += 1\n",
      "    if (class_ == '1') & (pred == '0'):\n",
      "        FN += 1\n",
      "    if (class_ == '0') & (pred == '1'):\n",
      "        FP += 1\n",
      "\n",
      "accuracy = (TP + TN)/(TP + TN + FP + FN)\n",
      "precision = TP / (TP + FP)\n",
      "recall = TP / (TP + FN)\n",
      "f1_score = 2*(recall * precision) / (recall + precision)\n",
      "\n",
      "print(f'Num documents:{FP+FN+TP+TN}')\n",
      "print(f'False positives:{FP}')\n",
      "print(f'False negatives:{FN}')\n",
      "print(f'True positives:{TP}')\n",
      "print(f'True negatives:'{TN})\n",
      "print(f'precision\\t{precision}')\n",
      "print(f'recall\\t{recall}')\n",
      "print(f'accuracy\\t{accuracy}')\n",
      "print(f'F-score\\t{f1_score}')\n",
      "\n",
      "\n",
      "#################### (END) YOUR CODE ###################\n",
      "    "
     ]
    }
   ],
   "source": [
    "!cat NaiveBayes/evaluation_reducer.py"
   ]
  },
  {
   "cell_type": "code",
   "execution_count": 241,
   "metadata": {},
   "outputs": [
    {
     "name": "stdout",
     "output_type": "stream",
     "text": [
      "d5\t1\t-8.90668134500626\t-8.10769031284611\t1\n",
      "d6\t1\t-5.780743515794329\t-4.179502370564408\t1\n",
      "d7\t0\t-6.591673732011658\t-7.511706880737812\t0\n",
      "d8\t0\t-4.394449154674438\t-5.565796731681498\t0\n",
      "d5\t1\t-8.90668134500626\t-8.10769031284611\t True\n",
      "d6\t1\t-5.780743515794329\t-4.179502370564408\t True\n",
      "d7\t0\t-6.591673732011658\t-7.511706880737812\t True\n",
      "d8\t0\t-4.394449154674438\t-5.565796731681498\t True\n",
      "Num documents:4.0\n",
      "True positives:2.0\n",
      "True negatives:2.0\n",
      "False positives:0.0\n",
      "False negatives:0.0\n",
      "precision\t1.0\n",
      "recall\t1.0\n",
      "accuracy\t1.0\n",
      "F-score\t1.0\n"
     ]
    }
   ],
   "source": [
    "# part c - unit test your evaluation job on the chinese model (RUN THIS CELL AS IS)\n",
    "!cat NaiveBayes/chineseTest.txt | NaiveBayes/classify_mapper.py \n",
    "!cat NaiveBayes/chineseTest.txt | NaiveBayes/classify_mapper.py | NaiveBayes/evaluation_reducer.py"
   ]
  },
  {
   "cell_type": "code",
   "execution_count": 242,
   "metadata": {},
   "outputs": [
    {
     "name": "stdout",
     "output_type": "stream",
     "text": [
      "Deleted /user/root/HW2/enron-results\n",
      "packageJobJar: [] [/usr/lib/hadoop/hadoop-streaming-3.2.2.jar] /tmp/streamjob2015493249767193624.jar tmpDir=null\n",
      "2022-01-31 01:11:34,756 INFO client.RMProxy: Connecting to ResourceManager at w261-m/10.128.0.4:8032\n",
      "2022-01-31 01:11:35,043 INFO client.AHSProxy: Connecting to Application History server at w261-m/10.128.0.4:10200\n",
      "2022-01-31 01:11:35,552 INFO client.RMProxy: Connecting to ResourceManager at w261-m/10.128.0.4:8032\n",
      "2022-01-31 01:11:35,552 INFO client.AHSProxy: Connecting to Application History server at w261-m/10.128.0.4:10200\n",
      "2022-01-31 01:11:35,739 INFO mapreduce.JobResourceUploader: Disabling Erasure Coding for path: /tmp/hadoop-yarn/staging/root/.staging/job_1643557347028_0041\n",
      "2022-01-31 01:11:36,124 INFO mapred.FileInputFormat: Total input files to process : 1\n",
      "2022-01-31 01:11:36,188 INFO mapreduce.JobSubmitter: number of splits:9\n",
      "2022-01-31 01:11:36,353 INFO mapreduce.JobSubmitter: Submitting tokens for job: job_1643557347028_0041\n",
      "2022-01-31 01:11:36,355 INFO mapreduce.JobSubmitter: Executing with tokens: []\n",
      "2022-01-31 01:11:36,663 INFO conf.Configuration: resource-types.xml not found\n",
      "2022-01-31 01:11:36,663 INFO resource.ResourceUtils: Unable to find 'resource-types.xml'.\n",
      "2022-01-31 01:11:36,741 INFO impl.YarnClientImpl: Submitted application application_1643557347028_0041\n",
      "2022-01-31 01:11:36,778 INFO mapreduce.Job: The url to track the job: http://w261-m:8088/proxy/application_1643557347028_0041/\n",
      "2022-01-31 01:11:36,779 INFO mapreduce.Job: Running job: job_1643557347028_0041\n",
      "2022-01-31 01:11:44,896 INFO mapreduce.Job: Job job_1643557347028_0041 running in uber mode : false\n",
      "2022-01-31 01:11:44,897 INFO mapreduce.Job:  map 0% reduce 0%\n",
      "2022-01-31 01:11:53,018 INFO mapreduce.Job:  map 33% reduce 0%\n",
      "2022-01-31 01:12:00,092 INFO mapreduce.Job:  map 67% reduce 0%\n",
      "2022-01-31 01:12:07,160 INFO mapreduce.Job:  map 100% reduce 0%\n",
      "2022-01-31 01:12:13,194 INFO mapreduce.Job:  map 100% reduce 100%\n",
      "2022-01-31 01:12:14,207 INFO mapreduce.Job: Job job_1643557347028_0041 completed successfully\n",
      "2022-01-31 01:12:14,304 INFO mapreduce.Job: Counters: 55\n",
      "\tFile System Counters\n",
      "\t\tFILE: Number of bytes read=818\n",
      "\t\tFILE: Number of bytes written=2488689\n",
      "\t\tFILE: Number of read operations=0\n",
      "\t\tFILE: Number of large read operations=0\n",
      "\t\tFILE: Number of write operations=0\n",
      "\t\tHDFS: Number of bytes read=91491\n",
      "\t\tHDFS: Number of bytes written=1047\n",
      "\t\tHDFS: Number of read operations=32\n",
      "\t\tHDFS: Number of large read operations=0\n",
      "\t\tHDFS: Number of write operations=3\n",
      "\t\tHDFS: Number of bytes read erasure-coded=0\n",
      "\tJob Counters \n",
      "\t\tKilled map tasks=1\n",
      "\t\tLaunched map tasks=9\n",
      "\t\tLaunched reduce tasks=1\n",
      "\t\tData-local map tasks=9\n",
      "\t\tTotal time spent by all maps in occupied slots (ms)=169676028\n",
      "\t\tTotal time spent by all reduces in occupied slots (ms)=8950416\n",
      "\t\tTotal time spent by all map tasks (ms)=53763\n",
      "\t\tTotal time spent by all reduce tasks (ms)=2836\n",
      "\t\tTotal vcore-milliseconds taken by all map tasks=53763\n",
      "\t\tTotal vcore-milliseconds taken by all reduce tasks=2836\n",
      "\t\tTotal megabyte-milliseconds taken by all map tasks=169676028\n",
      "\t\tTotal megabyte-milliseconds taken by all reduce tasks=8950416\n",
      "\tMap-Reduce Framework\n",
      "\t\tMap input records=20\n",
      "\t\tMap output records=20\n",
      "\t\tMap output bytes=772\n",
      "\t\tMap output materialized bytes=866\n",
      "\t\tInput split bytes=846\n",
      "\t\tCombine input records=0\n",
      "\t\tCombine output records=0\n",
      "\t\tReduce input groups=20\n",
      "\t\tReduce shuffle bytes=866\n",
      "\t\tReduce input records=20\n",
      "\t\tReduce output records=29\n",
      "\t\tSpilled Records=40\n",
      "\t\tShuffled Maps =9\n",
      "\t\tFailed Shuffles=0\n",
      "\t\tMerged Map outputs=9\n",
      "\t\tGC time elapsed (ms)=1349\n",
      "\t\tCPU time spent (ms)=7200\n",
      "\t\tPhysical memory (bytes) snapshot=4938158080\n",
      "\t\tVirtual memory (bytes) snapshot=44271673344\n",
      "\t\tTotal committed heap usage (bytes)=4850712576\n",
      "\t\tPeak Map Physical memory (bytes)=550965248\n",
      "\t\tPeak Map Virtual memory (bytes)=4428251136\n",
      "\t\tPeak Reduce Physical memory (bytes)=235245568\n",
      "\t\tPeak Reduce Virtual memory (bytes)=4431536128\n",
      "\tShuffle Errors\n",
      "\t\tBAD_ID=0\n",
      "\t\tCONNECTION=0\n",
      "\t\tIO_ERROR=0\n",
      "\t\tWRONG_LENGTH=0\n",
      "\t\tWRONG_MAP=0\n",
      "\t\tWRONG_REDUCE=0\n",
      "\tFile Input Format Counters \n",
      "\t\tBytes Read=90645\n",
      "\tFile Output Format Counters \n",
      "\t\tBytes Written=1047\n",
      "2022-01-31 01:12:14,305 INFO streaming.StreamJob: Output directory: /user/root/HW2/enron-results\n"
     ]
    }
   ],
   "source": [
    "# part c - Evaluate the UNSMOOTHED Model Here (FILL IN THE MISSING CODE)\n",
    "\n",
    "# clear output directory\n",
    "!hdfs dfs -rm -r {HDFS_DIR}/enron-results\n",
    "\n",
    "# hadoop job\n",
    "!hadoop jar {JAR_FILE} \\\n",
    "  -files NaiveBayes/classify_mapper.py,NaiveBayes/evaluation_reducer.py,NaiveBayes/Unsmoothed/NBmodel.txt\\\n",
    "  -mapper classify_mapper.py \\\n",
    "  -reducer evaluation_reducer.py \\\n",
    "  -input {HDFS_DIR}/enron_test.txt \\\n",
    "  -output {HDFS_DIR}/enron-results \\\n",
    "  -numReduceTasks 1 \\\n",
    "  -cmdenv PATH={PATH}\n",
    "\n",
    "\n",
    "\n",
    "# retrieve results locally\n",
    "#!mkdir NaiveBayes/Unsmoothed\n",
    "!hdfs dfs -cat {HDFS_DIR}/enron-results/part-000* > NaiveBayes/Unsmoothed/results.txt"
   ]
  },
  {
   "cell_type": "code",
   "execution_count": 243,
   "metadata": {},
   "outputs": [
    {
     "name": "stdout",
     "output_type": "stream",
     "text": [
      "Deleted /user/root/HW2/smoothed-results\n",
      "packageJobJar: [] [/usr/lib/hadoop/hadoop-streaming-3.2.2.jar] /tmp/streamjob1549688033998385401.jar tmpDir=null\n",
      "2022-01-31 01:12:21,718 INFO client.RMProxy: Connecting to ResourceManager at w261-m/10.128.0.4:8032\n",
      "2022-01-31 01:12:22,003 INFO client.AHSProxy: Connecting to Application History server at w261-m/10.128.0.4:10200\n",
      "2022-01-31 01:12:22,495 INFO client.RMProxy: Connecting to ResourceManager at w261-m/10.128.0.4:8032\n",
      "2022-01-31 01:12:22,496 INFO client.AHSProxy: Connecting to Application History server at w261-m/10.128.0.4:10200\n",
      "2022-01-31 01:12:22,686 INFO mapreduce.JobResourceUploader: Disabling Erasure Coding for path: /tmp/hadoop-yarn/staging/root/.staging/job_1643557347028_0042\n",
      "2022-01-31 01:12:23,463 INFO mapred.FileInputFormat: Total input files to process : 1\n",
      "2022-01-31 01:12:23,526 INFO mapreduce.JobSubmitter: number of splits:9\n",
      "2022-01-31 01:12:23,674 INFO mapreduce.JobSubmitter: Submitting tokens for job: job_1643557347028_0042\n",
      "2022-01-31 01:12:23,676 INFO mapreduce.JobSubmitter: Executing with tokens: []\n",
      "2022-01-31 01:12:23,946 INFO conf.Configuration: resource-types.xml not found\n",
      "2022-01-31 01:12:23,947 INFO resource.ResourceUtils: Unable to find 'resource-types.xml'.\n",
      "2022-01-31 01:12:24,016 INFO impl.YarnClientImpl: Submitted application application_1643557347028_0042\n",
      "2022-01-31 01:12:24,055 INFO mapreduce.Job: The url to track the job: http://w261-m:8088/proxy/application_1643557347028_0042/\n",
      "2022-01-31 01:12:24,057 INFO mapreduce.Job: Running job: job_1643557347028_0042\n",
      "2022-01-31 01:12:32,173 INFO mapreduce.Job: Job job_1643557347028_0042 running in uber mode : false\n",
      "2022-01-31 01:12:32,174 INFO mapreduce.Job:  map 0% reduce 0%\n",
      "2022-01-31 01:12:40,300 INFO mapreduce.Job:  map 33% reduce 0%\n",
      "2022-01-31 01:12:47,377 INFO mapreduce.Job:  map 67% reduce 0%\n",
      "2022-01-31 01:12:54,438 INFO mapreduce.Job:  map 100% reduce 0%\n",
      "2022-01-31 01:13:01,481 INFO mapreduce.Job:  map 100% reduce 100%\n",
      "2022-01-31 01:13:02,493 INFO mapreduce.Job: Job job_1643557347028_0042 completed successfully\n",
      "2022-01-31 01:13:02,585 INFO mapreduce.Job: Counters: 55\n",
      "\tFile System Counters\n",
      "\t\tFILE: Number of bytes read=1349\n",
      "\t\tFILE: Number of bytes written=2489761\n",
      "\t\tFILE: Number of read operations=0\n",
      "\t\tFILE: Number of large read operations=0\n",
      "\t\tFILE: Number of write operations=0\n",
      "\t\tHDFS: Number of bytes read=91491\n",
      "\t\tHDFS: Number of bytes written=1556\n",
      "\t\tHDFS: Number of read operations=32\n",
      "\t\tHDFS: Number of large read operations=0\n",
      "\t\tHDFS: Number of write operations=3\n",
      "\t\tHDFS: Number of bytes read erasure-coded=0\n",
      "\tJob Counters \n",
      "\t\tKilled map tasks=1\n",
      "\t\tLaunched map tasks=9\n",
      "\t\tLaunched reduce tasks=1\n",
      "\t\tData-local map tasks=9\n",
      "\t\tTotal time spent by all maps in occupied slots (ms)=170070528\n",
      "\t\tTotal time spent by all reduces in occupied slots (ms)=12134820\n",
      "\t\tTotal time spent by all map tasks (ms)=53888\n",
      "\t\tTotal time spent by all reduce tasks (ms)=3845\n",
      "\t\tTotal vcore-milliseconds taken by all map tasks=53888\n",
      "\t\tTotal vcore-milliseconds taken by all reduce tasks=3845\n",
      "\t\tTotal megabyte-milliseconds taken by all map tasks=170070528\n",
      "\t\tTotal megabyte-milliseconds taken by all reduce tasks=12134820\n",
      "\tMap-Reduce Framework\n",
      "\t\tMap input records=20\n",
      "\t\tMap output records=20\n",
      "\t\tMap output bytes=1303\n",
      "\t\tMap output materialized bytes=1397\n",
      "\t\tInput split bytes=846\n",
      "\t\tCombine input records=0\n",
      "\t\tCombine output records=0\n",
      "\t\tReduce input groups=20\n",
      "\t\tReduce shuffle bytes=1397\n",
      "\t\tReduce input records=20\n",
      "\t\tReduce output records=29\n",
      "\t\tSpilled Records=40\n",
      "\t\tShuffled Maps =9\n",
      "\t\tFailed Shuffles=0\n",
      "\t\tMerged Map outputs=9\n",
      "\t\tGC time elapsed (ms)=1398\n",
      "\t\tCPU time spent (ms)=7160\n",
      "\t\tPhysical memory (bytes) snapshot=4953665536\n",
      "\t\tVirtual memory (bytes) snapshot=44257390592\n",
      "\t\tTotal committed heap usage (bytes)=4886364160\n",
      "\t\tPeak Map Physical memory (bytes)=553373696\n",
      "\t\tPeak Map Virtual memory (bytes)=4429692928\n",
      "\t\tPeak Reduce Physical memory (bytes)=233381888\n",
      "\t\tPeak Reduce Virtual memory (bytes)=4430557184\n",
      "\tShuffle Errors\n",
      "\t\tBAD_ID=0\n",
      "\t\tCONNECTION=0\n",
      "\t\tIO_ERROR=0\n",
      "\t\tWRONG_LENGTH=0\n",
      "\t\tWRONG_MAP=0\n",
      "\t\tWRONG_REDUCE=0\n",
      "\tFile Input Format Counters \n",
      "\t\tBytes Read=90645\n",
      "\tFile Output Format Counters \n",
      "\t\tBytes Written=1556\n",
      "2022-01-31 01:13:02,585 INFO streaming.StreamJob: Output directory: /user/root/HW2/smoothed-results\n",
      "mkdir: cannot create directory ‘NaiveBayes/Smoothed’: File exists\n"
     ]
    }
   ],
   "source": [
    "# part c - Evaluate the SMOOTHED Model Here (FILL IN THE MISSING CODE)\n",
    "\n",
    "# clear output directory\n",
    "!hdfs dfs -rm -r {HDFS_DIR}/smoothed-results\n",
    "\n",
    "# hadoop job\n",
    "!hadoop jar {JAR_FILE} \\\n",
    "  -files NaiveBayes/classify_mapper.py,NaiveBayes/evaluation_reducer.py,NaiveBayes/Smoothed/NBmodel.txt\\\n",
    "  -mapper classify_mapper.py \\\n",
    "  -reducer evaluation_reducer.py \\\n",
    "  -input {HDFS_DIR}/enron_test.txt \\\n",
    "  -output {HDFS_DIR}/smoothed-results \\\n",
    "  -numReduceTasks 1 \\\n",
    "  -cmdenv PATH={PATH}\n",
    "\n",
    "\n",
    "\n",
    "\n",
    "# retrieve results locally\n",
    "!mkdir NaiveBayes/Smoothed\n",
    "!hdfs dfs -cat {HDFS_DIR}/smoothed-results/part-000* > NaiveBayes/Smoothed/results.txt"
   ]
  },
  {
   "cell_type": "code",
   "execution_count": 244,
   "metadata": {},
   "outputs": [
    {
     "name": "stdout",
     "output_type": "stream",
     "text": [
      "=========== UNSMOOTHED MODEL ============\n",
      "Num documents:20.0\t\n",
      "True positives:1.0\t\n",
      "True negatives:9.0\t\n",
      "False positives:0.0\t\n",
      "False negatives:10.0\t\n",
      "precision\t1.0\n",
      "recall\t0.09090909090909091\n",
      "accuracy\t0.5\n",
      "F-score\t0.16666666666666669\n",
      "=========== SMOOTHED MODEL ============\n",
      "Num documents:20.0\t\n",
      "True positives:11.0\t\n",
      "True negatives:6.0\t\n",
      "False positives:3.0\t\n",
      "False negatives:0.0\t\n",
      "precision\t0.7857142857142857\n",
      "recall\t1.0\n",
      "accuracy\t0.85\n",
      "F-score\t0.88\n"
     ]
    }
   ],
   "source": [
    "# part c - display results \n",
    "# NOTE: feel free to modify the tail commands to match the format of your results file\n",
    "print('=========== UNSMOOTHED MODEL ============')\n",
    "!tail -n 9 NaiveBayes/Unsmoothed/results.txt\n",
    "print('=========== SMOOTHED MODEL ============')\n",
    "!tail -n 9 NaiveBayes/Smoothed/results.txt"
   ]
  },
  {
   "cell_type": "markdown",
   "metadata": {},
   "source": [
    "__`EXPECTED RESULTS:`__ \n",
    "<table>\n",
    "<th>Unsmoothed Model</th>\n",
    "<th>Smoothed Model</th>\n",
    "<tr>\n",
    "<td><pre>\n",
    "# Documents:\t20\n",
    "True Positives:\t1\n",
    "True Negatives:\t9\n",
    "False Positives:\t0\n",
    "False Negatives:\t10\n",
    "Accuracy\t0.5\n",
    "Precision\t1.0\n",
    "Recall\t0.0909\n",
    "F-Score\t0.1666\n",
    "</pre></td>\n",
    "<td><pre>\n",
    "# Documents:\t20\n",
    "True Positives:\t11\n",
    "True Negatives:\t6\n",
    "False Positives:\t3\n",
    "False Negatives:\t0\n",
    "Accuracy\t0.85\n",
    "Precision\t0.7857\n",
    "Recall\t1.0\n",
    "F-Score\t0.88\n",
    "</pre></td>\n",
    "</tr>\n",
    "</table>\n",
    "\n",
    "__`NOTE:`__ _Don't be too disappointed if these seem low to you. We've trained and tested on a very very small corpus... bigger datasets coming soon!_"
   ]
  },
  {
   "cell_type": "markdown",
   "metadata": {},
   "source": [
    "# Question 10: Custom Partitioning and Secondary Sort\n",
    "\n",
    "Now that we have our model, we can analyse the results and think about future improvements.\n",
    "\n",
    "### Q10 Tasks:\n",
    "\n",
    "* __a) code + short response:__ Let's look at the top ten words with the highest conditional probability in `Spam` and in `Ham`. We'll do this by writing a Hadoop job that sorts the model file (`NaiveBayes/Smoothed/NBmodel.py`). Normally we'd have to run two jobs -- one that sorts on $P(word|ham)$ and another that sorts on $P(word|spam)$. However if we slighly modify the data format in the model file then we can get the top words in each class with just one job. We've written a mapper that will do just this for you. Read through __`NaiveBayes/model_sort_mapper.py`__ and then briefly explain how this mapper will allow us to partition and sort our model file. Write a Hadoop job that uses our mapper and `/bin/cat` for a reducer to partition and sort. Print out the top 10 words in each class (where 'top' == highest conditional probability).[`HINT:` _this should remind you a lot of what we did in Question 6._]\n",
    "\n",
    "\n",
    "* __b) short response:__ What do you notice about the 'top words' we printed in `a`? How would increasing the smoothing parameter 'k' affect the probabilities for the top words that you identified for 'a'. How would they affect the probabilities of words that occur much more in one class than another? In summary, how does the smoothing parameter 'k' affect the bias and the variance of our model. [`NOTE:` _you do not need to code anything for this task, but if you are struggling with it you could try changing 'k' and see what happens to the test set. We don't recommend doing this exploration with the Enron data because it will be harder to see the impact with such a big vocabulary_]"
   ]
  },
  {
   "cell_type": "markdown",
   "metadata": {},
   "source": [
    "### Q10 Student Answers:\n",
    "> __a)__ Type your answer here!\n",
    "\n",
    "> __b)__ Type your answer here!"
   ]
  },
  {
   "cell_type": "code",
   "execution_count": 264,
   "metadata": {},
   "outputs": [
    {
     "name": "stdout",
     "output_type": "stream",
     "text": [
      "Deleted /user/root/HW2/model-sort-output\n",
      "packageJobJar: [] [/usr/lib/hadoop/hadoop-streaming-3.2.2.jar] /tmp/streamjob2486906230393830295.jar tmpDir=null\n",
      "2022-01-31 01:47:21,087 INFO client.RMProxy: Connecting to ResourceManager at w261-m/10.128.0.4:8032\n",
      "2022-01-31 01:47:21,389 INFO client.AHSProxy: Connecting to Application History server at w261-m/10.128.0.4:10200\n",
      "2022-01-31 01:47:21,929 INFO client.RMProxy: Connecting to ResourceManager at w261-m/10.128.0.4:8032\n",
      "2022-01-31 01:47:21,930 INFO client.AHSProxy: Connecting to Application History server at w261-m/10.128.0.4:10200\n",
      "2022-01-31 01:47:22,138 INFO mapreduce.JobResourceUploader: Disabling Erasure Coding for path: /tmp/hadoop-yarn/staging/root/.staging/job_1643557347028_0053\n",
      "2022-01-31 01:47:22,511 WARN concurrent.ExecutorHelper: Thread (Thread[GetFileInfo #0,5,main]) interrupted: \n",
      "java.lang.InterruptedException\n",
      "\tat com.google.common.util.concurrent.AbstractFuture.get(AbstractFuture.java:510)\n",
      "\tat com.google.common.util.concurrent.FluentFuture$TrustedFuture.get(FluentFuture.java:88)\n",
      "\tat org.apache.hadoop.util.concurrent.ExecutorHelper.logThrowableFromAfterExecute(ExecutorHelper.java:48)\n",
      "\tat org.apache.hadoop.util.concurrent.HadoopThreadPoolExecutor.afterExecute(HadoopThreadPoolExecutor.java:90)\n",
      "\tat java.util.concurrent.ThreadPoolExecutor.runWorker(ThreadPoolExecutor.java:1157)\n",
      "\tat java.util.concurrent.ThreadPoolExecutor$Worker.run(ThreadPoolExecutor.java:624)\n",
      "\tat java.lang.Thread.run(Thread.java:748)\n",
      "2022-01-31 01:47:22,511 WARN concurrent.ExecutorHelper: Thread (Thread[GetFileInfo #2,5,main]) interrupted: \n",
      "java.lang.InterruptedException\n",
      "\tat com.google.common.util.concurrent.AbstractFuture.get(AbstractFuture.java:510)\n",
      "\tat com.google.common.util.concurrent.FluentFuture$TrustedFuture.get(FluentFuture.java:88)\n",
      "\tat org.apache.hadoop.util.concurrent.ExecutorHelper.logThrowableFromAfterExecute(ExecutorHelper.java:48)\n",
      "\tat org.apache.hadoop.util.concurrent.HadoopThreadPoolExecutor.afterExecute(HadoopThreadPoolExecutor.java:90)\n",
      "\tat java.util.concurrent.ThreadPoolExecutor.runWorker(ThreadPoolExecutor.java:1157)\n",
      "\tat java.util.concurrent.ThreadPoolExecutor$Worker.run(ThreadPoolExecutor.java:624)\n",
      "\tat java.lang.Thread.run(Thread.java:748)\n",
      "2022-01-31 01:47:22,511 WARN concurrent.ExecutorHelper: Thread (Thread[GetFileInfo #1,5,main]) interrupted: \n",
      "java.lang.InterruptedException\n",
      "\tat com.google.common.util.concurrent.AbstractFuture.get(AbstractFuture.java:510)\n",
      "\tat com.google.common.util.concurrent.FluentFuture$TrustedFuture.get(FluentFuture.java:88)\n",
      "\tat org.apache.hadoop.util.concurrent.ExecutorHelper.logThrowableFromAfterExecute(ExecutorHelper.java:48)\n",
      "\tat org.apache.hadoop.util.concurrent.HadoopThreadPoolExecutor.afterExecute(HadoopThreadPoolExecutor.java:90)\n",
      "\tat java.util.concurrent.ThreadPoolExecutor.runWorker(ThreadPoolExecutor.java:1157)\n",
      "\tat java.util.concurrent.ThreadPoolExecutor$Worker.run(ThreadPoolExecutor.java:624)\n",
      "\tat java.lang.Thread.run(Thread.java:748)\n",
      "2022-01-31 01:47:22,517 INFO mapred.FileInputFormat: Total input files to process : 2\n",
      "2022-01-31 01:47:22,599 INFO mapreduce.JobSubmitter: number of splits:10\n",
      "2022-01-31 01:47:22,775 INFO mapreduce.JobSubmitter: Submitting tokens for job: job_1643557347028_0053\n",
      "2022-01-31 01:47:22,777 INFO mapreduce.JobSubmitter: Executing with tokens: []\n",
      "2022-01-31 01:47:23,128 INFO conf.Configuration: resource-types.xml not found\n",
      "2022-01-31 01:47:23,128 INFO resource.ResourceUtils: Unable to find 'resource-types.xml'.\n",
      "2022-01-31 01:47:23,211 INFO impl.YarnClientImpl: Submitted application application_1643557347028_0053\n",
      "2022-01-31 01:47:23,257 INFO mapreduce.Job: The url to track the job: http://w261-m:8088/proxy/application_1643557347028_0053/\n",
      "2022-01-31 01:47:23,258 INFO mapreduce.Job: Running job: job_1643557347028_0053\n",
      "2022-01-31 01:47:31,369 INFO mapreduce.Job: Job job_1643557347028_0053 running in uber mode : false\n",
      "2022-01-31 01:47:31,370 INFO mapreduce.Job:  map 0% reduce 0%\n",
      "2022-01-31 01:47:40,512 INFO mapreduce.Job:  map 30% reduce 0%\n",
      "2022-01-31 01:47:45,582 INFO mapreduce.Job:  map 40% reduce 0%\n",
      "2022-01-31 01:47:46,601 INFO mapreduce.Job:  map 50% reduce 0%\n",
      "2022-01-31 01:47:47,623 INFO mapreduce.Job:  map 60% reduce 0%\n",
      "2022-01-31 01:47:52,684 INFO mapreduce.Job:  map 70% reduce 0%\n",
      "2022-01-31 01:47:53,692 INFO mapreduce.Job:  map 90% reduce 0%\n",
      "2022-01-31 01:47:56,711 INFO mapreduce.Job:  map 100% reduce 0%\n",
      "2022-01-31 01:48:03,760 INFO mapreduce.Job:  map 100% reduce 50%\n",
      "2022-01-31 01:48:04,765 INFO mapreduce.Job:  map 100% reduce 100%\n",
      "2022-01-31 01:48:06,785 INFO mapreduce.Job: Job job_1643557347028_0053 completed successfully\n",
      "2022-01-31 01:48:06,887 INFO mapreduce.Job: Counters: 54\n",
      "\tFile System Counters\n",
      "\t\tFILE: Number of bytes read=658607\n",
      "\t\tFILE: Number of bytes written=4305272\n",
      "\t\tFILE: Number of read operations=0\n",
      "\t\tFILE: Number of large read operations=0\n",
      "\t\tFILE: Number of write operations=0\n",
      "\t\tHDFS: Number of bytes read=288002\n",
      "\t\tHDFS: Number of bytes written=640375\n",
      "\t\tHDFS: Number of read operations=40\n",
      "\t\tHDFS: Number of large read operations=0\n",
      "\t\tHDFS: Number of write operations=6\n",
      "\t\tHDFS: Number of bytes read erasure-coded=0\n",
      "\tJob Counters \n",
      "\t\tLaunched map tasks=10\n",
      "\t\tLaunched reduce tasks=2\n",
      "\t\tData-local map tasks=10\n",
      "\t\tTotal time spent by all maps in occupied slots (ms)=173983968\n",
      "\t\tTotal time spent by all reduces in occupied slots (ms)=25560444\n",
      "\t\tTotal time spent by all map tasks (ms)=55128\n",
      "\t\tTotal time spent by all reduce tasks (ms)=8099\n",
      "\t\tTotal vcore-milliseconds taken by all map tasks=55128\n",
      "\t\tTotal vcore-milliseconds taken by all reduce tasks=8099\n",
      "\t\tTotal megabyte-milliseconds taken by all map tasks=173983968\n",
      "\t\tTotal megabyte-milliseconds taken by all reduce tasks=25560444\n",
      "\tMap-Reduce Framework\n",
      "\t\tMap input records=4557\n",
      "\t\tMap output records=9110\n",
      "\t\tMap output bytes=640375\n",
      "\t\tMap output materialized bytes=658715\n",
      "\t\tInput split bytes=1030\n",
      "\t\tCombine input records=0\n",
      "\t\tCombine output records=0\n",
      "\t\tReduce input groups=9110\n",
      "\t\tReduce shuffle bytes=658715\n",
      "\t\tReduce input records=9110\n",
      "\t\tReduce output records=9110\n",
      "\t\tSpilled Records=18220\n",
      "\t\tShuffled Maps =20\n",
      "\t\tFailed Shuffles=0\n",
      "\t\tMerged Map outputs=20\n",
      "\t\tGC time elapsed (ms)=1635\n",
      "\t\tCPU time spent (ms)=11540\n",
      "\t\tPhysical memory (bytes) snapshot=5839237120\n",
      "\t\tVirtual memory (bytes) snapshot=53131591680\n",
      "\t\tTotal committed heap usage (bytes)=5859966976\n",
      "\t\tPeak Map Physical memory (bytes)=556593152\n",
      "\t\tPeak Map Virtual memory (bytes)=4428169216\n",
      "\t\tPeak Reduce Physical memory (bytes)=289918976\n",
      "\t\tPeak Reduce Virtual memory (bytes)=4431450112\n",
      "\tShuffle Errors\n",
      "\t\tBAD_ID=0\n",
      "\t\tCONNECTION=0\n",
      "\t\tIO_ERROR=0\n",
      "\t\tWRONG_LENGTH=0\n",
      "\t\tWRONG_MAP=0\n",
      "\t\tWRONG_REDUCE=0\n",
      "\tFile Input Format Counters \n",
      "\t\tBytes Read=286972\n",
      "\tFile Output Format Counters \n",
      "\t\tBytes Written=640375\n",
      "2022-01-31 01:48:06,889 INFO streaming.StreamJob: Output directory: /user/root/HW2/model-sort-output\n"
     ]
    }
   ],
   "source": [
    "# part a - write your Hadoop job here (sort smoothed model on P(word|class))\n",
    "\n",
    "# clear output directory\n",
    "!hdfs dfs -rm -r {HDFS_DIR}/model-sort-output\n",
    "\n",
    "# hadoop job\n",
    "# part e - write your hadoop streaming job\n",
    "!hadoop jar {JAR_FILE} \\\n",
    "  -files NaiveBayes/model_sort_mapper.py \\\n",
    "  -D stream.num.map.output.key.fields=4 \\\n",
    "  -D mapreduce.job.output.key.comparator.class=org.apache.hadoop.mapred.lib.KeyFieldBasedComparator \\\n",
    "  -D mapreduce.partition.keycomparator.options=\"-k4,4nr\" \\\n",
    "  -D mapreduce.partition.keypartitioner.options=\"-k3,3\" \\\n",
    "  -mapper model_sort_mapper.py \\\n",
    "  -reducer /bin/cat \\\n",
    "  -partitioner org.apache.hadoop.mapred.lib.KeyFieldBasedPartitioner \\\n",
    "  -input {HDFS_DIR}/smooth-model/part-000* \\\n",
    "  -output {HDFS_DIR}/model-sort-output \\\n",
    "  -numReduceTasks 2 \\\n",
    "  -cmdenv PATH={PATH}"
   ]
  },
  {
   "cell_type": "code",
   "execution_count": 265,
   "metadata": {},
   "outputs": [
    {
     "name": "stdout",
     "output_type": "stream",
     "text": [
      "\n",
      "===== part-00000=====\n",
      "\n",
      "the\t453,535,0.02811841942276725,0.029726581997670677\tham\t0.028118\t\n",
      "ect\t378,0,0.023473306082001735,5.546004104043037e-05\tham\t0.023473\t\n",
      "to\t350,420,0.021739130434782608,0.023348677278021184\tham\t0.021739\t\n",
      "and\t258,277,0.01604112473677691,0.015417891409239643\tham\t0.016041\t\n",
      "hou\t203,0,0.0126347082868822,5.546004104043037e-05\tham\t0.012635\t\n",
      "of\t188,252,0.011705685618729096,0.014031390383228884\tham\t0.011706\t\n",
      "a\t168,274,0.010466988727858293,0.015251511286118352\tham\t0.010467\t\n",
      "in\t160,157,0.009971509971509971,0.008762686484387999\tham\t0.009972\t\n",
      "for\t148,153,0.00922829183698749,0.008540846320226277\tham\t0.009228\t\n",
      "on\t122,95,0.007617985878855444,0.005324163939881316\tham\t0.007618\t\n",
      "cat: Unable to write to output stream.\n",
      "\n",
      "===== part-00001=====\n",
      "\n",
      "the\t453,535,0.02811841942276725,0.029726581997670677\tspam\t0.029727\t\n",
      "to\t350,420,0.021739130434782608,0.023348677278021184\tspam\t0.023349\t\n",
      "and\t258,277,0.01604112473677691,0.015417891409239643\tspam\t0.015418\t\n",
      "a\t168,274,0.010466988727858293,0.015251511286118352\tspam\t0.015252\t\n",
      "your\t35,271,0.002229654403567447,0.01508513116299706\tspam\t0.015085\t\n",
      "you\t80,252,0.005016722408026756,0.014031390383228884\tspam\t0.014031\t\n",
      "of\t188,252,0.011705685618729096,0.014031390383228884\tspam\t0.014031\t\n",
      "in\t160,157,0.009971509971509971,0.008762686484387999\tspam\t0.008763\t\n",
      "for\t148,153,0.00922829183698749,0.008540846320226277\tspam\t0.008541\t\n",
      "it\t30,119,0.0019199801808497462,0.0066552049248516446\tspam\t0.006655\t\n",
      "cat: Unable to write to output stream.\n"
     ]
    }
   ],
   "source": [
    "# part b - print top words in each class\n",
    "for idx in range(2):\n",
    "    print(f\"\\n===== part-0000{idx}=====\\n\")\n",
    "    !hdfs dfs -cat {HDFS_DIR}/model-sort-output/part-0000{idx} | head"
   ]
  },
  {
   "cell_type": "raw",
   "metadata": {},
   "source": [
    "Expected results:\n",
    "============== PART-00000===============\n",
    "abn\t0,1,6.19348445435402e-05,0.00011092008208086075\tham\t6.19348445435402e-05\t\n",
    "absenteeism\t0,1,6.19348445435402e-05,0.00011092008208086075\tham\t6.19348445435402e-05\t\n",
    "absolute\t0,1,6.19348445435402e-05,0.00011092008208086075\tham\t6.19348445435402e-05\t\n",
    "absolutely\t0,1,6.19348445435402e-05,0.00011092008208086075\tham\t6.19348445435402e-05\t\n",
    "absorb\t0,1,6.19348445435402e-05,0.00011092008208086075\tham\t6.19348445435402e-05\t\n",
    "abuse\t0,1,6.19348445435402e-05,0.00011092008208086075\tham\t6.19348445435402e-05\t\n",
    "abused\t0,1,6.19348445435402e-05,0.00011092008208086075\tham\t6.19348445435402e-05\t\n",
    "acce\t0,1,6.19348445435402e-05,0.00011092008208086075\tham\t6.19348445435402e-05\t\n",
    "accelerate\t0,1,6.19348445435402e-05,0.00011092008208086075\tham\t6.19348445435402e-05\t\n",
    "accelerated\t0,1,6.19348445435402e-05,0.00011092008208086075\tham\t6.19348445435402e-05\t\n",
    "cat: Unable to write to output stream.\n",
    "============== PART-00001===============\n",
    "ab\t4,0,0.00030967422271770096,5.546004104043037e-05\tspam\t5.546004104043037e-05\t\n",
    "absent\t1,0,0.0001238696890870804,5.546004104043037e-05\tspam\t5.546004104043037e-05\t\n",
    "accepts\t1,0,0.0001238696890870804,5.546004104043037e-05\tspam\t5.546004104043037e-05\t\n",
    "accomodate\t4,0,0.00030967422271770096,5.546004104043037e-05\tspam\t5.546004104043037e-05\t\n",
    "accomodates\t1,0,0.0001238696890870804,5.546004104043037e-05\tspam\t5.546004104043037e-05\t\n",
    "accompanied\t1,0,0.0001238696890870804,5.546004104043037e-05\tspam\t5.546004104043037e-05\t\n",
    "accounting\t4,0,0.00030967422271770096,5.546004104043037e-05\tspam\t5.546004104043037e-05\t\n",
    "accurate\t1,0,0.0001238696890870804,5.546004104043037e-05\tspam\t5.546004104043037e-05\t\n",
    "achieve\t1,0,0.0001238696890870804,5.546004104043037e-05\tspam\t5.546004104043037e-05\t\n",
    "achieved\t1,0,0.0001238696890870804,5.546004104043037e-05\tspam\t5.546004104043037e-05\t\n",
    "cat: Unable to write to output stream."
   ]
  },
  {
   "cell_type": "markdown",
   "metadata": {},
   "source": [
    "### Congratulations, you have completed HW2! Please refer to the readme for submission instructions.\n",
    "\n",
    "If you would like to provide feedback regarding this homework, please use the survey at: https://docs.google.com/forms/d/e/1FAIpQLSce9feiQeSkdP43A0ZYui1tMGIBfLfzb0rmgToQeZD9bXXX8Q/viewform"
   ]
  },
  {
   "cell_type": "code",
   "execution_count": null,
   "metadata": {},
   "outputs": [],
   "source": []
  }
 ],
 "metadata": {
  "kernelspec": {
   "display_name": "Python 3",
   "language": "python",
   "name": "python3"
  },
  "language_info": {
   "codemirror_mode": {
    "name": "ipython",
    "version": 3
   },
   "file_extension": ".py",
   "mimetype": "text/x-python",
   "name": "python",
   "nbconvert_exporter": "python",
   "pygments_lexer": "ipython3",
   "version": "3.8.12"
  }
 },
 "nbformat": 4,
 "nbformat_minor": 4
}
